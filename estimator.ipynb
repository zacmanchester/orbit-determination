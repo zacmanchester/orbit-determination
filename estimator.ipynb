{
 "cells": [
  {
   "cell_type": "code",
   "execution_count": 1,
   "metadata": {},
   "outputs": [],
   "source": [
    "using LinearAlgebra\n",
    "using DifferentialEquations\n",
    "using ForwardDiff\n",
    "using Geodesy\n",
    "using ForwardDiff\n",
    "using Optim"
   ]
  },
  {
   "cell_type": "code",
   "execution_count": null,
   "metadata": {},
   "outputs": [],
   "source": [
    "#GS Locations\n",
    "wean_lla = LLA(40.4427217, -79.9479335, 17.0)\n",
    "wean_ecef = ECEF(wean_lla, wgs84)\n",
    "gs1_ecef = Array(wean_ecef)./(1000.0)\n",
    "nrec_lla = LLA(40.4712452, -79.9661841, 16.6)\n",
    "nrec_ecef = ECEF(nrec_lla, wgs84)\n",
    "gs2_ecef = Array(nrec_ecef)./(1000.0)\n",
    "reynolds_lla = LLA(40.4499502, -79.915895, 17.0)\n",
    "reynolds_ecef = ECEF(reynolds_lla, wgs84)\n",
    "gs3_ecef = Array(reynolds_ecef)./(1000.0)"
   ]
  },
  {
   "cell_type": "code",
   "execution_count": null,
   "metadata": {},
   "outputs": [],
   "source": [
    "function ecef2eci(x_ecef,t)\n",
    "    Ω = 2*pi/86164.0905 #rad/sec\n",
    "    θ = Ω*t\n",
    "    c = cos(Ω*t)\n",
    "    s = sin(Ω*t)\n",
    "    \n",
    "    x_eci = [c -s 0; s c 0; 0 0 1]*x_ecef\n",
    "end"
   ]
  },
  {
   "cell_type": "code",
   "execution_count": null,
   "metadata": {},
   "outputs": [],
   "source": [
    "function dynamics!(xdot,x,params,t)\n",
    "    μ = 398600.44 #km^3/s^2\n",
    "    r = x[1:3]\n",
    "    v = x[4:6]\n",
    "    \n",
    "    a = -(μ/(norm(r)^3)).*r\n",
    "    \n",
    "    xdot .= [v; a]\n",
    "end\n",
    "\n",
    "function backward_dynamics!(xdot,x,params,t)\n",
    "    μ = 398600.44 #km^3/s^2\n",
    "    r = x[1:3]\n",
    "    v = x[4:6]\n",
    "    \n",
    "    a = -(μ/(norm(r)^3)).*r\n",
    "    \n",
    "    xdot .= [-v; -a]\n",
    "end\n",
    "\n",
    "function f_c(x)\n",
    "    μ = 398600.44 #km^3/s^2\n",
    "    r = x[1:3]\n",
    "    v = x[4:6]\n",
    "    \n",
    "    a = -(μ/(norm(r)^3)).*r\n",
    "    \n",
    "    return [v; a]\n",
    "end\n",
    "\n",
    "function f_d(x)\n",
    "    h = 10.0 #ten second RK4 step\n",
    "    \n",
    "    k1 = f_c(x)\n",
    "    k2 = f_c(x + 0.5*h*k1)\n",
    "    k3 = f_c(x + 0.5*h*k2)\n",
    "    k4 = f_c(x + h*k3)\n",
    "    \n",
    "    return x + (h/6.0)*(k1 + 2*k2 + 2*k3 + k4)\n",
    "end\n",
    "\n",
    "function A(x)\n",
    "    return ForwardDiff.jacobian(f_d, x)\n",
    "end"
   ]
  },
  {
   "cell_type": "code",
   "execution_count": null,
   "metadata": {},
   "outputs": [],
   "source": [
    "function g(x,t)\n",
    "    gs1_eci = ecef2eci(gs1_ecef,t)\n",
    "    gs2_eci = ecef2eci(gs2_ecef,t)\n",
    "    gs3_eci = ecef2eci(gs3_ecef,t)\n",
    "\n",
    "    r1 = norm(x[1:3]-gs1_eci)\n",
    "    r2 = norm(x[1:3]-gs2_eci)\n",
    "    r3 = norm(x[1:3]-gs3_eci)\n",
    "        \n",
    "    y = [r2-r1; r3-r1; r3-r2]\n",
    "    #y = r2-r1\n",
    "end\n",
    "\n",
    "function g_diffable(xt)\n",
    "    return g(xt[1:end-1], xt[end])\n",
    "end\n",
    "\n",
    "function C(x,t)\n",
    "    C1 = ForwardDiff.jacobian(g_diffable, [x; t]) #3 receivers\n",
    "    return C1[:,1:end-1]\n",
    "    #C1 = ForwardDiff.gradient(g_diffable, [x; t]) #2 receivers\n",
    "    #return C1[1:end-1]\n",
    "end"
   ]
  },
  {
   "cell_type": "code",
   "execution_count": null,
   "metadata": {},
   "outputs": [],
   "source": [
    "#Initial Conditions (polar orbit passing directly over GS at t=0)\n",
    "μ = 398600.44 #km^3/s^2\n",
    "Re = 6371.0 #km\n",
    "r0 = (Re+550)*(gs1_ecef/norm(gs1_ecef))\n",
    "v0 = cross(r0, cross(r0,[0;0;1]))\n",
    "v0 = sqrt(μ/norm(r0))*v0/norm(v0)\n",
    "x0 = [r0; v0]"
   ]
  },
  {
   "cell_type": "code",
   "execution_count": null,
   "metadata": {},
   "outputs": [],
   "source": [
    "#Integrate backward for 5 minutes\n",
    "tspan = (0.0,5.0*60.0)\n",
    "prob1 = ODEProblem(backward_dynamics!,[r0; v0],tspan)\n",
    "soln1 = solve(prob1, Tsit5(), reltol=1e-9, abstol=1e-9)\n",
    "\n",
    "#Integrate forward for 5 minutes\n",
    "tspan = (0.0,5.0*60.0)\n",
    "prob2 = ODEProblem(dynamics!,[r0; v0],tspan)\n",
    "soln2 = solve(prob2, Tsit5(), reltol=1e-9, abstol=1e-9)\n",
    "\n",
    "#Sample satellite state every 10 seconds\n",
    "thist = Array(range(-5.0*60.0, 5.0*60.0, step=10.0))\n",
    "xhist = zeros(6,length(thist))\n",
    "for k = 1:length(thist)\n",
    "    if thist[k] < 0.0\n",
    "        xhist[:,k] .= soln1(-thist[k])\n",
    "    else\n",
    "        xhist[:,k] .= soln2(thist[k])\n",
    "    end\n",
    "end"
   ]
  },
  {
   "cell_type": "code",
   "execution_count": null,
   "metadata": {},
   "outputs": [],
   "source": [
    "#Calculate elevation\n",
    "ele = zeros(length(thist))\n",
    "for k = 1:length(thist)\n",
    "    gs1_eci = ecef2eci(gs1_ecef,thist[k])\n",
    "    y = (xhist[1:3,k]-gs1_eci)\n",
    "    ele[k] = (y/norm(y))'*(gs1_eci/norm(gs1_eci))\n",
    "end"
   ]
  },
  {
   "cell_type": "code",
   "execution_count": null,
   "metadata": {},
   "outputs": [],
   "source": [
    "plot(ele)"
   ]
  },
  {
   "cell_type": "code",
   "execution_count": null,
   "metadata": {},
   "outputs": [],
   "source": [
    "#Observability Grammian Check\n",
    "Φ = Array(Diagonal(ones(6)))\n",
    "J = zeros(3*length(thist),6)\n",
    "for k = 1:length(thist)\n",
    "    Φ .= A(xhist[:,k])*Φ\n",
    "    J[(3*(k-1)).+(1:3),:] .= C(xhist[:,k],thist[k])*Φ #3 receivers\n",
    "    #J[k-54,:] .= Φ*C(xhist[:,1],thist[1]) #2 recievers\n",
    "end\n",
    "Jfact = qr(J)\n",
    "cond(Jfact.R)"
   ]
  },
  {
   "cell_type": "code",
   "execution_count": null,
   "metadata": {},
   "outputs": [],
   "source": [
    "#Cramer-Rao Bound\n",
    "R = Array(Diagonal(0.24*0.24.*ones(3))) #measurement noise covariance\n",
    "Rinv = inv(R)\n",
    "#R = 0.24*0.24\n",
    "\n",
    "C1 = C(xhist[:,1],thist[1])\n",
    "S = C1'*Rinv*C1 #inverse state covariance (information)\n",
    "for k = 2:length(thist)\n",
    "    Ainv = inv(A(xhist[:,k-1]))\n",
    "    Ck = C(xhist[:,k],thist[k])\n",
    "    S = Ainv'*S*Ainv + Ck'*Rinv*Ck\n",
    "end"
   ]
  },
  {
   "cell_type": "code",
   "execution_count": null,
   "metadata": {},
   "outputs": [],
   "source": [
    "R = Array(Diagonal(0.24*0.24.*ones(3))) #measurement noise covariance\n",
    "Rinv = inv(R)"
   ]
  },
  {
   "cell_type": "code",
   "execution_count": null,
   "metadata": {},
   "outputs": [],
   "source": [
    "#Generate noisy Measurements\n",
    "yhist = zeros(3,length(thist))\n",
    "for k = 1:length(thist)        \n",
    "        yhist[:,k] .= g(xhist[:,k], thist[k]) + 0.24*randn(3)\n",
    "end"
   ]
  },
  {
   "cell_type": "code",
   "execution_count": null,
   "metadata": {},
   "outputs": [],
   "source": [
    "function lsobj(x)\n",
    "    Qinv = Array(Diagonal([1e6*ones(3); 1e8*ones(3)]))\n",
    "    Rinv = Array(Diagonal((1/(0.24*0.24))*ones(3)))\n",
    "    cost = 0.0\n",
    "    xhist = reshape(x,6,:)\n",
    "    for k = 1:(size(xhist,2)-1)\n",
    "        ex = (xhist[:,k+1]-f_d(xhist[:,k]))\n",
    "        cost = cost + ex'*Qinv*ex\n",
    "    end\n",
    "    for k = 1:(size(xhist,2))\n",
    "        ey = (yhist[:,k]-g(xhist[:,k],thist[k]))\n",
    "        cost = cost + ey'*Rinv*ey\n",
    "    end\n",
    "    return cost\n",
    "end"
   ]
  },
  {
   "cell_type": "code",
   "execution_count": null,
   "metadata": {},
   "outputs": [],
   "source": [
    "function gradobj!(g,x)\n",
    "    ForwardDiff.gradient!(g,lsobj,x)\n",
    "end\n",
    "\n",
    "function hessobj!(H,x)\n",
    "    ForwardDiff.hessian!(H,lsobj,x)\n",
    "end"
   ]
  },
  {
   "cell_type": "code",
   "execution_count": null,
   "metadata": {},
   "outputs": [],
   "source": [
    "using Optim"
   ]
  },
  {
   "cell_type": "code",
   "execution_count": null,
   "metadata": {},
   "outputs": [],
   "source": [
    "result = optimize(lsobj, gradobj!, hessobj!, xhist[:]+.01*randn(length(xhist[:])), Newton())"
   ]
  },
  {
   "cell_type": "code",
   "execution_count": null,
   "metadata": {},
   "outputs": [],
   "source": [
    "error = xhist - reshape(result.minimizer,6,:)"
   ]
  },
  {
   "cell_type": "code",
   "execution_count": null,
   "metadata": {},
   "outputs": [],
   "source": []
  }
 ],
 "metadata": {
  "kernelspec": {
   "display_name": "Julia 1.5.3",
   "language": "julia",
   "name": "julia-1.5"
  },
  "language_info": {
   "file_extension": ".jl",
   "mimetype": "application/julia",
   "name": "julia",
   "version": "1.5.3"
  }
 },
 "nbformat": 4,
 "nbformat_minor": 4
}
