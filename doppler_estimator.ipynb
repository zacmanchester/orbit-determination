{
 "cells": [
  {
   "cell_type": "code",
   "execution_count": 9,
   "metadata": {},
   "outputs": [],
   "source": [
    "using LinearAlgebra\n",
    "using DifferentialEquations\n",
    "using ForwardDiff\n",
    "using Geodesy\n",
    "using ForwardDiff\n",
    "using Optim\n",
    "using Plots"
   ]
  },
  {
   "cell_type": "code",
   "execution_count": 10,
   "metadata": {},
   "outputs": [
    {
     "data": {
      "text/plain": [
       "3-element Array{Float64,1}:\n",
       "   848.4495513714031\n",
       " -4786.358163650972\n",
       "  4115.532370991342"
      ]
     },
     "execution_count": 10,
     "metadata": {},
     "output_type": "execute_result"
    }
   ],
   "source": [
    "#GS Locations\n",
    "wean_lla = LLA(40.4427217, -79.9479335, 17.0)\n",
    "wean_ecef = ECEF(wean_lla, wgs84)\n",
    "gs_ecef = Array(wean_ecef)./(1000.0)"
   ]
  },
  {
   "cell_type": "code",
   "execution_count": 11,
   "metadata": {},
   "outputs": [
    {
     "data": {
      "text/plain": [
       "eci2ecef (generic function with 1 method)"
      ]
     },
     "execution_count": 11,
     "metadata": {},
     "output_type": "execute_result"
    }
   ],
   "source": [
    "function ecef2eci(x_ecef,t)\n",
    "    Ω = 2*pi/86164.0905 #rad/sec\n",
    "    θ = Ω*t\n",
    "    c = cos(Ω*t)\n",
    "    s = sin(Ω*t)\n",
    "    \n",
    "    x_eci = [c -s 0; s c 0; 0 0 1]*x_ecef\n",
    "end\n",
    "\n",
    "function ecef2eci(x_ecef,v_ecef,t)\n",
    "    Ω = 2*pi/86164.0905 #rad/sec\n",
    "    θ = Ω*t\n",
    "    c = cos(Ω*t)\n",
    "    s = sin(Ω*t)\n",
    "    \n",
    "    x_eci = [c -s 0; s c 0; 0 0 1]*x_ecef\n",
    "    v_eci = [c -s 0; s c 0; 0 0 1]*(v_ecef + cross([0;0;Ω],x_ecef))\n",
    "end\n",
    "\n",
    "function eci2ecef(x_eci,t)\n",
    "    Ω = 2*pi/86164.0905 #rad/sec\n",
    "    θ = Ω*t\n",
    "    c = cos(Ω*t)\n",
    "    s = sin(Ω*t)\n",
    "    \n",
    "    x_ecef = [c -s 0; s c 0; 0 0 1]'*x_eci\n",
    "end"
   ]
  },
  {
   "cell_type": "code",
   "execution_count": 12,
   "metadata": {},
   "outputs": [
    {
     "data": {
      "text/plain": [
       "3-element Array{Float64,1}:\n",
       "  0.0\n",
       " -9.094947017729282e-13\n",
       "  0.0"
      ]
     },
     "execution_count": 12,
     "metadata": {},
     "output_type": "execute_result"
    }
   ],
   "source": [
    "gs_eci = ecef2eci(gs_ecef, 100.0)\n",
    "gs_ecef - eci2ecef(gs_eci, 100.0)"
   ]
  },
  {
   "cell_type": "code",
   "execution_count": 13,
   "metadata": {},
   "outputs": [
    {
     "data": {
      "text/plain": [
       "A (generic function with 1 method)"
      ]
     },
     "execution_count": 13,
     "metadata": {},
     "output_type": "execute_result"
    }
   ],
   "source": [
    "function dynamics!(xdot,x,params,t)\n",
    "    μ = 398600.44 #km^3/s^2\n",
    "    r = x[1:3]\n",
    "    v = x[4:6]\n",
    "    \n",
    "    a = -(μ/(norm(r)^3)).*r\n",
    "    \n",
    "    xdot .= [v; a]\n",
    "end\n",
    "\n",
    "function backward_dynamics!(xdot,x,params,t)\n",
    "    μ = 398600.44 #km^3/s^2\n",
    "    r = x[1:3]\n",
    "    v = x[4:6]\n",
    "    \n",
    "    a = -(μ/(norm(r)^3)).*r\n",
    "    \n",
    "    xdot .= [-v; -a]\n",
    "end\n",
    "\n",
    "function f_c(x)\n",
    "    μ = 398600.44 #km^3/s^2\n",
    "    r = x[1:3]\n",
    "    v = x[4:6]\n",
    "    \n",
    "    a = -(μ/(norm(r)^3)).*r\n",
    "    \n",
    "    return [v; a]\n",
    "end\n",
    "\n",
    "function f_d(x)\n",
    "    h = 0.1 #RK4 step (seconds)\n",
    "    \n",
    "    k1 = f_c(x)\n",
    "    k2 = f_c(x + 0.5*h*k1)\n",
    "    k3 = f_c(x + 0.5*h*k2)\n",
    "    k4 = f_c(x + h*k3)\n",
    "    \n",
    "    return x + (h/6.0)*(k1 + 2*k2 + 2*k3 + k4)\n",
    "end\n",
    "\n",
    "function A(x)\n",
    "    return ForwardDiff.jacobian(f_d, x)\n",
    "end"
   ]
  },
  {
   "cell_type": "code",
   "execution_count": 27,
   "metadata": {},
   "outputs": [
    {
     "data": {
      "text/plain": [
       "C (generic function with 1 method)"
      ]
     },
     "execution_count": 27,
     "metadata": {},
     "output_type": "execute_result"
    }
   ],
   "source": [
    "function g(x,t)\n",
    "    x_gs = ecef2eci(gs_ecef,t)\n",
    "    v_gs = ecef2eci(gs_ecef,[0.0; 0.0; 0.0],1)\n",
    "    v_sat = x[4:6]\n",
    "    \n",
    "    r = x[1:3]-x_gs\n",
    "    \n",
    "    v_r = ((v_sat-v_gs)'*r)/norm(r)\n",
    "    dopp = -(v_r/3e5)*400e6\n",
    "end\n",
    "\n",
    "function g_diffable(xt)\n",
    "    return g(xt[1:end-1], xt[end])\n",
    "end\n",
    "\n",
    "function C(x,t)\n",
    "    C1 = ForwardDiff.gradient(g_diffable, [x; t])\n",
    "    return C1[1:end-1]'\n",
    "end"
   ]
  },
  {
   "cell_type": "code",
   "execution_count": 21,
   "metadata": {},
   "outputs": [
    {
     "data": {
      "text/plain": [
       "6-element Array{Float64,1}:\n",
       "   921.9556818709577\n",
       " -5201.028272470356\n",
       "  4472.084930949979\n",
       "     0.8559101404321281\n",
       "    -4.82844558216481\n",
       "    -5.791927837238977"
      ]
     },
     "execution_count": 21,
     "metadata": {},
     "output_type": "execute_result"
    }
   ],
   "source": [
    "#Initial Conditions (polar orbit passing directly over GS at t=0)\n",
    "μ = 398600.44 #km^3/s^2\n",
    "Re = 6371.0 #km\n",
    "r0 = (Re+550)*(gs_ecef/norm(gs_ecef))\n",
    "v0 = cross(r0, cross(r0,[0;0;1]))\n",
    "v0 = sqrt(μ/norm(r0))*v0/norm(v0)\n",
    "x0 = [r0; v0]"
   ]
  },
  {
   "cell_type": "code",
   "execution_count": 22,
   "metadata": {},
   "outputs": [],
   "source": [
    "#Integrate backward for 5 minutes\n",
    "tspan = (0.0,5.0*60.0)\n",
    "prob1 = ODEProblem(backward_dynamics!,[r0; v0],tspan)\n",
    "soln1 = solve(prob1, Tsit5(), reltol=1e-9, abstol=1e-9)\n",
    "\n",
    "#Integrate forward for 5 minutes\n",
    "tspan = (0.0,5.0*60.0)\n",
    "prob2 = ODEProblem(dynamics!,[r0; v0],tspan)\n",
    "soln2 = solve(prob2, Tsit5(), reltol=1e-9, abstol=1e-9)\n",
    "\n",
    "#Sample satellite state every 10 seconds\n",
    "thist = Array(range(-5.0*60.0, 5.0*60.0, step=10.0))\n",
    "xhist = zeros(6,length(thist))\n",
    "for k = 1:length(thist)\n",
    "    if thist[k] < 0.0\n",
    "        xhist[:,k] .= soln1(-thist[k])\n",
    "    else\n",
    "        xhist[:,k] .= soln2(thist[k])\n",
    "    end\n",
    "end"
   ]
  },
  {
   "cell_type": "code",
   "execution_count": 23,
   "metadata": {},
   "outputs": [],
   "source": [
    "#Calculate elevation\n",
    "ele = zeros(length(thist))\n",
    "for k = 1:length(thist)\n",
    "    gs_eci = ecef2eci(gs_ecef,thist[k])\n",
    "    y = (xhist[1:3,k]-gs_eci)\n",
    "    ele[k] = (y/norm(y))'*(gs_eci/norm(gs_eci))\n",
    "end"
   ]
  },
  {
   "cell_type": "code",
   "execution_count": 24,
   "metadata": {},
   "outputs": [
    {
     "data": {
      "image/svg+xml": [
       "<?xml version=\"1.0\" encoding=\"utf-8\"?>\n",
       "<svg xmlns=\"http://www.w3.org/2000/svg\" xmlns:xlink=\"http://www.w3.org/1999/xlink\" width=\"600\" height=\"400\" viewBox=\"0 0 2400 1600\">\n",
       "<defs>\n",
       "  <clipPath id=\"clip6300\">\n",
       "    <rect x=\"0\" y=\"0\" width=\"2400\" height=\"1600\"/>\n",
       "  </clipPath>\n",
       "</defs>\n",
       "<path clip-path=\"url(#clip6300)\" d=\"\n",
       "M0 1600 L2400 1600 L2400 0 L0 0  Z\n",
       "  \" fill=\"#ffffff\" fill-rule=\"evenodd\" fill-opacity=\"1\"/>\n",
       "<defs>\n",
       "  <clipPath id=\"clip6301\">\n",
       "    <rect x=\"480\" y=\"0\" width=\"1681\" height=\"1600\"/>\n",
       "  </clipPath>\n",
       "</defs>\n",
       "<path clip-path=\"url(#clip6300)\" d=\"\n",
       "M148.334 1486.45 L2352.76 1486.45 L2352.76 47.2441 L148.334 47.2441  Z\n",
       "  \" fill=\"#ffffff\" fill-rule=\"evenodd\" fill-opacity=\"1\"/>\n",
       "<defs>\n",
       "  <clipPath id=\"clip6302\">\n",
       "    <rect x=\"148\" y=\"47\" width=\"2205\" height=\"1440\"/>\n",
       "  </clipPath>\n",
       "</defs>\n",
       "<polyline clip-path=\"url(#clip6302)\" style=\"stroke:#000000; stroke-width:2; stroke-opacity:0.1; fill:none\" points=\"\n",
       "  176.063,1486.45 176.063,47.2441 \n",
       "  \"/>\n",
       "<polyline clip-path=\"url(#clip6302)\" style=\"stroke:#000000; stroke-width:2; stroke-opacity:0.1; fill:none\" points=\"\n",
       "  522.67,1486.45 522.67,47.2441 \n",
       "  \"/>\n",
       "<polyline clip-path=\"url(#clip6302)\" style=\"stroke:#000000; stroke-width:2; stroke-opacity:0.1; fill:none\" points=\"\n",
       "  869.277,1486.45 869.277,47.2441 \n",
       "  \"/>\n",
       "<polyline clip-path=\"url(#clip6302)\" style=\"stroke:#000000; stroke-width:2; stroke-opacity:0.1; fill:none\" points=\"\n",
       "  1215.88,1486.45 1215.88,47.2441 \n",
       "  \"/>\n",
       "<polyline clip-path=\"url(#clip6302)\" style=\"stroke:#000000; stroke-width:2; stroke-opacity:0.1; fill:none\" points=\"\n",
       "  1562.49,1486.45 1562.49,47.2441 \n",
       "  \"/>\n",
       "<polyline clip-path=\"url(#clip6302)\" style=\"stroke:#000000; stroke-width:2; stroke-opacity:0.1; fill:none\" points=\"\n",
       "  1909.1,1486.45 1909.1,47.2441 \n",
       "  \"/>\n",
       "<polyline clip-path=\"url(#clip6302)\" style=\"stroke:#000000; stroke-width:2; stroke-opacity:0.1; fill:none\" points=\"\n",
       "  2255.71,1486.45 2255.71,47.2441 \n",
       "  \"/>\n",
       "<polyline clip-path=\"url(#clip6302)\" style=\"stroke:#000000; stroke-width:2; stroke-opacity:0.1; fill:none\" points=\"\n",
       "  148.334,1268.51 2352.76,1268.51 \n",
       "  \"/>\n",
       "<polyline clip-path=\"url(#clip6302)\" style=\"stroke:#000000; stroke-width:2; stroke-opacity:0.1; fill:none\" points=\"\n",
       "  148.334,973.374 2352.76,973.374 \n",
       "  \"/>\n",
       "<polyline clip-path=\"url(#clip6302)\" style=\"stroke:#000000; stroke-width:2; stroke-opacity:0.1; fill:none\" points=\"\n",
       "  148.334,678.242 2352.76,678.242 \n",
       "  \"/>\n",
       "<polyline clip-path=\"url(#clip6302)\" style=\"stroke:#000000; stroke-width:2; stroke-opacity:0.1; fill:none\" points=\"\n",
       "  148.334,383.109 2352.76,383.109 \n",
       "  \"/>\n",
       "<polyline clip-path=\"url(#clip6302)\" style=\"stroke:#000000; stroke-width:2; stroke-opacity:0.1; fill:none\" points=\"\n",
       "  148.334,87.9763 2352.76,87.9763 \n",
       "  \"/>\n",
       "<polyline clip-path=\"url(#clip6300)\" style=\"stroke:#000000; stroke-width:4; stroke-opacity:1; fill:none\" points=\"\n",
       "  148.334,1486.45 2352.76,1486.45 \n",
       "  \"/>\n",
       "<polyline clip-path=\"url(#clip6300)\" style=\"stroke:#000000; stroke-width:4; stroke-opacity:1; fill:none\" points=\"\n",
       "  148.334,1486.45 148.334,47.2441 \n",
       "  \"/>\n",
       "<polyline clip-path=\"url(#clip6300)\" style=\"stroke:#000000; stroke-width:4; stroke-opacity:1; fill:none\" points=\"\n",
       "  176.063,1486.45 176.063,1469.18 \n",
       "  \"/>\n",
       "<polyline clip-path=\"url(#clip6300)\" style=\"stroke:#000000; stroke-width:4; stroke-opacity:1; fill:none\" points=\"\n",
       "  522.67,1486.45 522.67,1469.18 \n",
       "  \"/>\n",
       "<polyline clip-path=\"url(#clip6300)\" style=\"stroke:#000000; stroke-width:4; stroke-opacity:1; fill:none\" points=\"\n",
       "  869.277,1486.45 869.277,1469.18 \n",
       "  \"/>\n",
       "<polyline clip-path=\"url(#clip6300)\" style=\"stroke:#000000; stroke-width:4; stroke-opacity:1; fill:none\" points=\"\n",
       "  1215.88,1486.45 1215.88,1469.18 \n",
       "  \"/>\n",
       "<polyline clip-path=\"url(#clip6300)\" style=\"stroke:#000000; stroke-width:4; stroke-opacity:1; fill:none\" points=\"\n",
       "  1562.49,1486.45 1562.49,1469.18 \n",
       "  \"/>\n",
       "<polyline clip-path=\"url(#clip6300)\" style=\"stroke:#000000; stroke-width:4; stroke-opacity:1; fill:none\" points=\"\n",
       "  1909.1,1486.45 1909.1,1469.18 \n",
       "  \"/>\n",
       "<polyline clip-path=\"url(#clip6300)\" style=\"stroke:#000000; stroke-width:4; stroke-opacity:1; fill:none\" points=\"\n",
       "  2255.71,1486.45 2255.71,1469.18 \n",
       "  \"/>\n",
       "<polyline clip-path=\"url(#clip6300)\" style=\"stroke:#000000; stroke-width:4; stroke-opacity:1; fill:none\" points=\"\n",
       "  148.334,1268.51 174.787,1268.51 \n",
       "  \"/>\n",
       "<polyline clip-path=\"url(#clip6300)\" style=\"stroke:#000000; stroke-width:4; stroke-opacity:1; fill:none\" points=\"\n",
       "  148.334,973.374 174.787,973.374 \n",
       "  \"/>\n",
       "<polyline clip-path=\"url(#clip6300)\" style=\"stroke:#000000; stroke-width:4; stroke-opacity:1; fill:none\" points=\"\n",
       "  148.334,678.242 174.787,678.242 \n",
       "  \"/>\n",
       "<polyline clip-path=\"url(#clip6300)\" style=\"stroke:#000000; stroke-width:4; stroke-opacity:1; fill:none\" points=\"\n",
       "  148.334,383.109 174.787,383.109 \n",
       "  \"/>\n",
       "<polyline clip-path=\"url(#clip6300)\" style=\"stroke:#000000; stroke-width:4; stroke-opacity:1; fill:none\" points=\"\n",
       "  148.334,87.9763 174.787,87.9763 \n",
       "  \"/>\n",
       "<path clip-path=\"url(#clip6300)\" d=\"M 0 0 M176.063 1508.44 Q172.452 1508.44 170.623 1512 Q168.818 1515.55 168.818 1522.67 Q168.818 1529.78 170.623 1533.35 Q172.452 1536.89 176.063 1536.89 Q179.697 1536.89 181.503 1533.35 Q183.331 1529.78 183.331 1522.67 Q183.331 1515.55 181.503 1512 Q179.697 1508.44 176.063 1508.44 M176.063 1504.73 Q181.873 1504.73 184.929 1509.34 Q188.007 1513.92 188.007 1522.67 Q188.007 1531.4 184.929 1536.01 Q181.873 1540.59 176.063 1540.59 Q170.253 1540.59 167.174 1536.01 Q164.119 1531.4 164.119 1522.67 Q164.119 1513.92 167.174 1509.34 Q170.253 1504.73 176.063 1504.73 Z\" fill=\"#000000\" fill-rule=\"evenodd\" fill-opacity=\"1\" /><path clip-path=\"url(#clip6300)\" d=\"M 0 0 M499.545 1535.98 L507.184 1535.98 L507.184 1509.62 L498.874 1511.29 L498.874 1507.03 L507.138 1505.36 L511.814 1505.36 L511.814 1535.98 L519.453 1535.98 L519.453 1539.92 L499.545 1539.92 L499.545 1535.98 Z\" fill=\"#000000\" fill-rule=\"evenodd\" fill-opacity=\"1\" /><path clip-path=\"url(#clip6300)\" d=\"M 0 0 M534.522 1508.44 Q530.911 1508.44 529.082 1512 Q527.277 1515.55 527.277 1522.67 Q527.277 1529.78 529.082 1533.35 Q530.911 1536.89 534.522 1536.89 Q538.156 1536.89 539.962 1533.35 Q541.79 1529.78 541.79 1522.67 Q541.79 1515.55 539.962 1512 Q538.156 1508.44 534.522 1508.44 M534.522 1504.73 Q540.332 1504.73 543.388 1509.34 Q546.466 1513.92 546.466 1522.67 Q546.466 1531.4 543.388 1536.01 Q540.332 1540.59 534.522 1540.59 Q528.712 1540.59 525.633 1536.01 Q522.578 1531.4 522.578 1522.67 Q522.578 1513.92 525.633 1509.34 Q528.712 1504.73 534.522 1504.73 Z\" fill=\"#000000\" fill-rule=\"evenodd\" fill-opacity=\"1\" /><path clip-path=\"url(#clip6300)\" d=\"M 0 0 M850.423 1535.98 L866.743 1535.98 L866.743 1539.92 L844.798 1539.92 L844.798 1535.98 Q847.46 1533.23 852.044 1528.6 Q856.65 1523.95 857.831 1522.61 Q860.076 1520.08 860.956 1518.35 Q861.858 1516.59 861.858 1514.9 Q861.858 1512.14 859.914 1510.41 Q857.993 1508.67 854.891 1508.67 Q852.692 1508.67 850.238 1509.43 Q847.807 1510.2 845.03 1511.75 L845.03 1507.03 Q847.854 1505.89 850.307 1505.31 Q852.761 1504.73 854.798 1504.73 Q860.169 1504.73 863.363 1507.42 Q866.557 1510.11 866.557 1514.6 Q866.557 1516.73 865.747 1518.65 Q864.96 1520.54 862.854 1523.14 Q862.275 1523.81 859.173 1527.03 Q856.071 1530.22 850.423 1535.98 Z\" fill=\"#000000\" fill-rule=\"evenodd\" fill-opacity=\"1\" /><path clip-path=\"url(#clip6300)\" d=\"M 0 0 M881.812 1508.44 Q878.201 1508.44 876.372 1512 Q874.567 1515.55 874.567 1522.67 Q874.567 1529.78 876.372 1533.35 Q878.201 1536.89 881.812 1536.89 Q885.446 1536.89 887.252 1533.35 Q889.08 1529.78 889.08 1522.67 Q889.08 1515.55 887.252 1512 Q885.446 1508.44 881.812 1508.44 M881.812 1504.73 Q887.622 1504.73 890.678 1509.34 Q893.756 1513.92 893.756 1522.67 Q893.756 1531.4 890.678 1536.01 Q887.622 1540.59 881.812 1540.59 Q876.002 1540.59 872.923 1536.01 Q869.868 1531.4 869.868 1522.67 Q869.868 1513.92 872.923 1509.34 Q876.002 1504.73 881.812 1504.73 Z\" fill=\"#000000\" fill-rule=\"evenodd\" fill-opacity=\"1\" /><path clip-path=\"url(#clip6300)\" d=\"M 0 0 M1206.63 1521.29 Q1209.98 1522 1211.86 1524.27 Q1213.75 1526.54 1213.75 1529.87 Q1213.75 1534.99 1210.24 1537.79 Q1206.72 1540.59 1200.24 1540.59 Q1198.06 1540.59 1195.75 1540.15 Q1193.45 1539.73 1191 1538.88 L1191 1534.36 Q1192.94 1535.5 1195.26 1536.08 Q1197.57 1536.66 1200.1 1536.66 Q1204.5 1536.66 1206.79 1534.92 Q1209.1 1533.18 1209.1 1529.87 Q1209.1 1526.82 1206.95 1525.11 Q1204.82 1523.37 1201 1523.37 L1196.97 1523.37 L1196.97 1519.53 L1201.19 1519.53 Q1204.63 1519.53 1206.46 1518.16 Q1208.29 1516.77 1208.29 1514.18 Q1208.29 1511.52 1206.39 1510.11 Q1204.52 1508.67 1201 1508.67 Q1199.08 1508.67 1196.88 1509.09 Q1194.68 1509.5 1192.04 1510.38 L1192.04 1506.22 Q1194.7 1505.48 1197.02 1505.11 Q1199.36 1504.73 1201.42 1504.73 Q1206.74 1504.73 1209.84 1507.17 Q1212.94 1509.57 1212.94 1513.69 Q1212.94 1516.56 1211.3 1518.55 Q1209.66 1520.52 1206.63 1521.29 Z\" fill=\"#000000\" fill-rule=\"evenodd\" fill-opacity=\"1\" /><path clip-path=\"url(#clip6300)\" d=\"M 0 0 M1228.82 1508.44 Q1225.21 1508.44 1223.38 1512 Q1221.58 1515.55 1221.58 1522.67 Q1221.58 1529.78 1223.38 1533.35 Q1225.21 1536.89 1228.82 1536.89 Q1232.46 1536.89 1234.26 1533.35 Q1236.09 1529.78 1236.09 1522.67 Q1236.09 1515.55 1234.26 1512 Q1232.46 1508.44 1228.82 1508.44 M1228.82 1504.73 Q1234.63 1504.73 1237.69 1509.34 Q1240.77 1513.92 1240.77 1522.67 Q1240.77 1531.4 1237.69 1536.01 Q1234.63 1540.59 1228.82 1540.59 Q1223.01 1540.59 1219.94 1536.01 Q1216.88 1531.4 1216.88 1522.67 Q1216.88 1513.92 1219.94 1509.34 Q1223.01 1504.73 1228.82 1504.73 Z\" fill=\"#000000\" fill-rule=\"evenodd\" fill-opacity=\"1\" /><path clip-path=\"url(#clip6300)\" d=\"M 0 0 M1551.99 1509.43 L1540.19 1527.88 L1551.99 1527.88 L1551.99 1509.43 M1550.77 1505.36 L1556.65 1505.36 L1556.65 1527.88 L1561.58 1527.88 L1561.58 1531.77 L1556.65 1531.77 L1556.65 1539.92 L1551.99 1539.92 L1551.99 1531.77 L1536.39 1531.77 L1536.39 1527.26 L1550.77 1505.36 Z\" fill=\"#000000\" fill-rule=\"evenodd\" fill-opacity=\"1\" /><path clip-path=\"url(#clip6300)\" d=\"M 0 0 M1576.65 1508.44 Q1573.04 1508.44 1571.21 1512 Q1569.4 1515.55 1569.4 1522.67 Q1569.4 1529.78 1571.21 1533.35 Q1573.04 1536.89 1576.65 1536.89 Q1580.28 1536.89 1582.09 1533.35 Q1583.92 1529.78 1583.92 1522.67 Q1583.92 1515.55 1582.09 1512 Q1580.28 1508.44 1576.65 1508.44 M1576.65 1504.73 Q1582.46 1504.73 1585.51 1509.34 Q1588.59 1513.92 1588.59 1522.67 Q1588.59 1531.4 1585.51 1536.01 Q1582.46 1540.59 1576.65 1540.59 Q1570.84 1540.59 1567.76 1536.01 Q1564.7 1531.4 1564.7 1522.67 Q1564.7 1513.92 1567.76 1509.34 Q1570.84 1504.73 1576.65 1504.73 Z\" fill=\"#000000\" fill-rule=\"evenodd\" fill-opacity=\"1\" /><path clip-path=\"url(#clip6300)\" d=\"M 0 0 M1885.87 1505.36 L1904.23 1505.36 L1904.23 1509.3 L1890.15 1509.3 L1890.15 1517.77 Q1891.17 1517.42 1892.19 1517.26 Q1893.21 1517.07 1894.23 1517.07 Q1900.01 1517.07 1903.39 1520.24 Q1906.77 1523.42 1906.77 1528.83 Q1906.77 1534.41 1903.3 1537.51 Q1899.83 1540.59 1893.51 1540.59 Q1891.33 1540.59 1889.06 1540.22 Q1886.82 1539.85 1884.41 1539.11 L1884.41 1534.41 Q1886.49 1535.54 1888.72 1536.1 Q1890.94 1536.66 1893.42 1536.66 Q1897.42 1536.66 1899.76 1534.55 Q1902.1 1532.44 1902.1 1528.83 Q1902.1 1525.22 1899.76 1523.11 Q1897.42 1521.01 1893.42 1521.01 Q1891.54 1521.01 1889.67 1521.42 Q1887.81 1521.84 1885.87 1522.72 L1885.87 1505.36 Z\" fill=\"#000000\" fill-rule=\"evenodd\" fill-opacity=\"1\" /><path clip-path=\"url(#clip6300)\" d=\"M 0 0 M1921.84 1508.44 Q1918.23 1508.44 1916.4 1512 Q1914.6 1515.55 1914.6 1522.67 Q1914.6 1529.78 1916.4 1533.35 Q1918.23 1536.89 1921.84 1536.89 Q1925.48 1536.89 1927.28 1533.35 Q1929.11 1529.78 1929.11 1522.67 Q1929.11 1515.55 1927.28 1512 Q1925.48 1508.44 1921.84 1508.44 M1921.84 1504.73 Q1927.65 1504.73 1930.71 1509.34 Q1933.79 1513.92 1933.79 1522.67 Q1933.79 1531.4 1930.71 1536.01 Q1927.65 1540.59 1921.84 1540.59 Q1916.03 1540.59 1912.95 1536.01 Q1909.9 1531.4 1909.9 1522.67 Q1909.9 1513.92 1912.95 1509.34 Q1916.03 1504.73 1921.84 1504.73 Z\" fill=\"#000000\" fill-rule=\"evenodd\" fill-opacity=\"1\" /><path clip-path=\"url(#clip6300)\" d=\"M 0 0 M2242.6 1520.78 Q2239.46 1520.78 2237.6 1522.93 Q2235.78 1525.08 2235.78 1528.83 Q2235.78 1532.56 2237.6 1534.73 Q2239.46 1536.89 2242.6 1536.89 Q2245.75 1536.89 2247.58 1534.73 Q2249.43 1532.56 2249.43 1528.83 Q2249.43 1525.08 2247.58 1522.93 Q2245.75 1520.78 2242.6 1520.78 M2251.89 1506.12 L2251.89 1510.38 Q2250.13 1509.55 2248.32 1509.11 Q2246.54 1508.67 2244.78 1508.67 Q2240.15 1508.67 2237.7 1511.8 Q2235.27 1514.92 2234.92 1521.24 Q2236.28 1519.23 2238.34 1518.16 Q2240.41 1517.07 2242.88 1517.07 Q2248.09 1517.07 2251.1 1520.24 Q2254.13 1523.39 2254.13 1528.83 Q2254.13 1534.16 2250.98 1537.37 Q2247.84 1540.59 2242.6 1540.59 Q2236.61 1540.59 2233.44 1536.01 Q2230.27 1531.4 2230.27 1522.67 Q2230.27 1514.48 2234.16 1509.62 Q2238.04 1504.73 2244.59 1504.73 Q2246.35 1504.73 2248.14 1505.08 Q2249.94 1505.43 2251.89 1506.12 Z\" fill=\"#000000\" fill-rule=\"evenodd\" fill-opacity=\"1\" /><path clip-path=\"url(#clip6300)\" d=\"M 0 0 M2269.2 1508.44 Q2265.59 1508.44 2263.76 1512 Q2261.96 1515.55 2261.96 1522.67 Q2261.96 1529.78 2263.76 1533.35 Q2265.59 1536.89 2269.2 1536.89 Q2272.84 1536.89 2274.64 1533.35 Q2276.47 1529.78 2276.47 1522.67 Q2276.47 1515.55 2274.64 1512 Q2272.84 1508.44 2269.2 1508.44 M2269.2 1504.73 Q2275.01 1504.73 2278.07 1509.34 Q2281.15 1513.92 2281.15 1522.67 Q2281.15 1531.4 2278.07 1536.01 Q2275.01 1540.59 2269.2 1540.59 Q2263.39 1540.59 2260.31 1536.01 Q2257.26 1531.4 2257.26 1522.67 Q2257.26 1513.92 2260.31 1509.34 Q2263.39 1504.73 2269.2 1504.73 Z\" fill=\"#000000\" fill-rule=\"evenodd\" fill-opacity=\"1\" /><path clip-path=\"url(#clip6300)\" d=\"M 0 0 M77.0198 1254.31 Q73.4087 1254.31 71.58 1257.87 Q69.7745 1261.41 69.7745 1268.54 Q69.7745 1275.65 71.58 1279.21 Q73.4087 1282.75 77.0198 1282.75 Q80.6541 1282.75 82.4596 1279.21 Q84.2883 1275.65 84.2883 1268.54 Q84.2883 1261.41 82.4596 1257.87 Q80.6541 1254.31 77.0198 1254.31 M77.0198 1250.6 Q82.83 1250.6 85.8855 1255.21 Q88.9642 1259.79 88.9642 1268.54 Q88.9642 1277.27 85.8855 1281.87 Q82.83 1286.46 77.0198 1286.46 Q71.2097 1286.46 68.131 1281.87 Q65.0754 1277.27 65.0754 1268.54 Q65.0754 1259.79 68.131 1255.21 Q71.2097 1250.6 77.0198 1250.6 Z\" fill=\"#000000\" fill-rule=\"evenodd\" fill-opacity=\"1\" /><path clip-path=\"url(#clip6300)\" d=\"M 0 0 M94.0336 1279.91 L98.9179 1279.91 L98.9179 1285.79 L94.0336 1285.79 L94.0336 1279.91 Z\" fill=\"#000000\" fill-rule=\"evenodd\" fill-opacity=\"1\" /><path clip-path=\"url(#clip6300)\" d=\"M 0 0 M108.015 1281.85 L124.334 1281.85 L124.334 1285.79 L102.39 1285.79 L102.39 1281.85 Q105.052 1279.1 109.635 1274.47 Q114.242 1269.81 115.422 1268.47 Q117.668 1265.95 118.547 1264.21 Q119.45 1262.45 119.45 1260.76 Q119.45 1258.01 117.506 1256.27 Q115.584 1254.54 112.483 1254.54 Q110.284 1254.54 107.83 1255.3 Q105.399 1256.06 102.622 1257.62 L102.622 1252.89 Q105.446 1251.76 107.899 1251.18 Q110.353 1250.6 112.39 1250.6 Q117.76 1250.6 120.955 1253.29 Q124.149 1255.97 124.149 1260.46 Q124.149 1262.59 123.339 1264.51 Q122.552 1266.41 120.446 1269 Q119.867 1269.68 116.765 1272.89 Q113.663 1276.09 108.015 1281.85 Z\" fill=\"#000000\" fill-rule=\"evenodd\" fill-opacity=\"1\" /><path clip-path=\"url(#clip6300)\" d=\"M 0 0 M74.9365 959.173 Q71.3254 959.173 69.4967 962.738 Q67.6912 966.279 67.6912 973.409 Q67.6912 980.515 69.4967 984.08 Q71.3254 987.622 74.9365 987.622 Q78.5707 987.622 80.3763 984.08 Q82.205 980.515 82.205 973.409 Q82.205 966.279 80.3763 962.738 Q78.5707 959.173 74.9365 959.173 M74.9365 955.469 Q80.7467 955.469 83.8022 960.076 Q86.8809 964.659 86.8809 973.409 Q86.8809 982.136 83.8022 986.742 Q80.7467 991.326 74.9365 991.326 Q69.1264 991.326 66.0477 986.742 Q62.9921 982.136 62.9921 973.409 Q62.9921 964.659 66.0477 960.076 Q69.1264 955.469 74.9365 955.469 Z\" fill=\"#000000\" fill-rule=\"evenodd\" fill-opacity=\"1\" /><path clip-path=\"url(#clip6300)\" d=\"M 0 0 M91.9503 984.775 L96.8345 984.775 L96.8345 990.654 L91.9503 990.654 L91.9503 984.775 Z\" fill=\"#000000\" fill-rule=\"evenodd\" fill-opacity=\"1\" /><path clip-path=\"url(#clip6300)\" d=\"M 0 0 M114.751 960.168 L102.946 978.617 L114.751 978.617 L114.751 960.168 M113.524 956.094 L119.404 956.094 L119.404 978.617 L124.334 978.617 L124.334 982.506 L119.404 982.506 L119.404 990.654 L114.751 990.654 L114.751 982.506 L99.1493 982.506 L99.1493 977.992 L113.524 956.094 Z\" fill=\"#000000\" fill-rule=\"evenodd\" fill-opacity=\"1\" /><path clip-path=\"url(#clip6300)\" d=\"M 0 0 M75.2606 664.04 Q71.6495 664.04 69.8208 667.605 Q68.0152 671.147 68.0152 678.276 Q68.0152 685.383 69.8208 688.948 Q71.6495 692.489 75.2606 692.489 Q78.8948 692.489 80.7004 688.948 Q82.5291 685.383 82.5291 678.276 Q82.5291 671.147 80.7004 667.605 Q78.8948 664.04 75.2606 664.04 M75.2606 660.337 Q81.0707 660.337 84.1263 664.943 Q87.205 669.526 87.205 678.276 Q87.205 687.003 84.1263 691.61 Q81.0707 696.193 75.2606 696.193 Q69.4504 696.193 66.3717 691.61 Q63.3162 687.003 63.3162 678.276 Q63.3162 669.526 66.3717 664.943 Q69.4504 660.337 75.2606 660.337 Z\" fill=\"#000000\" fill-rule=\"evenodd\" fill-opacity=\"1\" /><path clip-path=\"url(#clip6300)\" d=\"M 0 0 M92.2744 689.642 L97.1586 689.642 L97.1586 695.522 L92.2744 695.522 L92.2744 689.642 Z\" fill=\"#000000\" fill-rule=\"evenodd\" fill-opacity=\"1\" /><path clip-path=\"url(#clip6300)\" d=\"M 0 0 M112.807 676.378 Q109.659 676.378 107.807 678.531 Q105.978 680.684 105.978 684.434 Q105.978 688.161 107.807 690.336 Q109.659 692.489 112.807 692.489 Q115.955 692.489 117.783 690.336 Q119.635 688.161 119.635 684.434 Q119.635 680.684 117.783 678.531 Q115.955 676.378 112.807 676.378 M122.089 661.726 L122.089 665.985 Q120.33 665.151 118.524 664.712 Q116.742 664.272 114.983 664.272 Q110.353 664.272 107.899 667.397 Q105.469 670.522 105.122 676.841 Q106.487 674.827 108.547 673.762 Q110.608 672.675 113.084 672.675 Q118.293 672.675 121.302 675.846 Q124.334 678.994 124.334 684.434 Q124.334 689.758 121.186 692.975 Q118.038 696.193 112.807 696.193 Q106.811 696.193 103.64 691.61 Q100.469 687.003 100.469 678.276 Q100.469 670.082 104.358 665.221 Q108.247 660.337 114.797 660.337 Q116.557 660.337 118.339 660.684 Q120.145 661.031 122.089 661.726 Z\" fill=\"#000000\" fill-rule=\"evenodd\" fill-opacity=\"1\" /><path clip-path=\"url(#clip6300)\" d=\"M 0 0 M75.5152 368.908 Q71.9041 368.908 70.0754 372.472 Q68.2699 376.014 68.2699 383.144 Q68.2699 390.25 70.0754 393.815 Q71.9041 397.357 75.5152 397.357 Q79.1494 397.357 80.955 393.815 Q82.7837 390.25 82.7837 383.144 Q82.7837 376.014 80.955 372.472 Q79.1494 368.908 75.5152 368.908 M75.5152 365.204 Q81.3254 365.204 84.3809 369.81 Q87.4596 374.394 87.4596 383.144 Q87.4596 391.87 84.3809 396.477 Q81.3254 401.06 75.5152 401.06 Q69.7051 401.06 66.6264 396.477 Q63.5708 391.87 63.5708 383.144 Q63.5708 374.394 66.6264 369.81 Q69.7051 365.204 75.5152 365.204 Z\" fill=\"#000000\" fill-rule=\"evenodd\" fill-opacity=\"1\" /><path clip-path=\"url(#clip6300)\" d=\"M 0 0 M92.529 394.509 L97.4132 394.509 L97.4132 400.389 L92.529 400.389 L92.529 394.509 Z\" fill=\"#000000\" fill-rule=\"evenodd\" fill-opacity=\"1\" /><path clip-path=\"url(#clip6300)\" d=\"M 0 0 M112.483 383.977 Q109.149 383.977 107.228 385.759 Q105.33 387.542 105.33 390.667 Q105.33 393.792 107.228 395.574 Q109.149 397.357 112.483 397.357 Q115.816 397.357 117.737 395.574 Q119.658 393.769 119.658 390.667 Q119.658 387.542 117.737 385.759 Q115.839 383.977 112.483 383.977 M107.807 381.986 Q104.797 381.246 103.108 379.185 Q101.441 377.125 101.441 374.162 Q101.441 370.019 104.381 367.611 Q107.344 365.204 112.483 365.204 Q117.645 365.204 120.584 367.611 Q123.524 370.019 123.524 374.162 Q123.524 377.125 121.834 379.185 Q120.168 381.246 117.182 381.986 Q120.561 382.773 122.436 385.065 Q124.334 387.357 124.334 390.667 Q124.334 395.69 121.256 398.375 Q118.2 401.06 112.483 401.06 Q106.765 401.06 103.686 398.375 Q100.631 395.69 100.631 390.667 Q100.631 387.357 102.529 385.065 Q104.427 382.773 107.807 381.986 M106.094 374.602 Q106.094 377.287 107.76 378.792 Q109.45 380.296 112.483 380.296 Q115.492 380.296 117.182 378.792 Q118.895 377.287 118.895 374.602 Q118.895 371.917 117.182 370.412 Q115.492 368.908 112.483 368.908 Q109.45 368.908 107.76 370.412 Q106.094 371.917 106.094 374.602 Z\" fill=\"#000000\" fill-rule=\"evenodd\" fill-opacity=\"1\" /><path clip-path=\"url(#clip6300)\" d=\"M 0 0 M67.4597 101.321 L75.0985 101.321 L75.0985 74.9555 L66.7884 76.6222 L66.7884 72.3629 L75.0522 70.6963 L79.7281 70.6963 L79.7281 101.321 L87.367 101.321 L87.367 105.256 L67.4597 105.256 L67.4597 101.321 Z\" fill=\"#000000\" fill-rule=\"evenodd\" fill-opacity=\"1\" /><path clip-path=\"url(#clip6300)\" d=\"M 0 0 M92.4364 99.3767 L97.3206 99.3767 L97.3206 105.256 L92.4364 105.256 L92.4364 99.3767 Z\" fill=\"#000000\" fill-rule=\"evenodd\" fill-opacity=\"1\" /><path clip-path=\"url(#clip6300)\" d=\"M 0 0 M112.39 73.775 Q108.779 73.775 106.95 77.3398 Q105.145 80.8814 105.145 88.011 Q105.145 95.1174 106.95 98.6822 Q108.779 102.224 112.39 102.224 Q116.024 102.224 117.83 98.6822 Q119.658 95.1174 119.658 88.011 Q119.658 80.8814 117.83 77.3398 Q116.024 73.775 112.39 73.775 M112.39 70.0713 Q118.2 70.0713 121.256 74.6777 Q124.334 79.261 124.334 88.011 Q124.334 96.7378 121.256 101.344 Q118.2 105.928 112.39 105.928 Q106.58 105.928 103.501 101.344 Q100.446 96.7378 100.446 88.011 Q100.446 79.261 103.501 74.6777 Q106.58 70.0713 112.39 70.0713 Z\" fill=\"#000000\" fill-rule=\"evenodd\" fill-opacity=\"1\" /><polyline clip-path=\"url(#clip6302)\" style=\"stroke:#009af9; stroke-width:4; stroke-opacity:1; fill:none\" points=\"\n",
       "  210.724,1445.29 245.384,1425.12 280.045,1404.17 314.706,1382.38 349.367,1359.67 384.027,1335.93 418.688,1311.07 453.349,1284.97 488.009,1257.5 522.67,1228.5 \n",
       "  557.331,1197.8 591.992,1165.21 626.652,1130.5 661.313,1093.43 695.974,1053.7 730.634,1011.01 765.295,964.996 799.956,915.276 834.617,861.448 869.277,803.113 \n",
       "  903.938,739.916 938.599,671.62 973.259,598.225 1007.92,520.159 1042.58,438.54 1077.24,355.528 1111.9,274.672 1146.56,201.101 1181.22,141.243 1215.88,101.792 \n",
       "  1250.55,87.9763 1285.21,101.793 1319.87,141.248 1354.53,201.116 1389.19,274.702 1423.85,355.577 1458.51,438.611 1493.17,520.253 1527.83,598.341 1562.49,671.757 \n",
       "  1597.15,740.073 1631.81,803.288 1666.47,861.641 1701.13,915.484 1735.8,965.22 1770.46,1011.25 1805.12,1053.96 1839.78,1093.69 1874.44,1130.78 1909.1,1165.5 \n",
       "  1943.76,1198.1 1978.42,1228.81 2013.08,1257.82 2047.74,1285.31 2082.4,1311.42 2117.06,1336.29 2151.72,1360.04 2186.38,1382.77 2221.05,1404.57 2255.71,1425.53 \n",
       "  2290.37,1445.72 \n",
       "  \"/>\n",
       "<path clip-path=\"url(#clip6300)\" d=\"\n",
       "M1989.74 251.724 L2280.76 251.724 L2280.76 130.764 L1989.74 130.764  Z\n",
       "  \" fill=\"#ffffff\" fill-rule=\"evenodd\" fill-opacity=\"1\"/>\n",
       "<polyline clip-path=\"url(#clip6300)\" style=\"stroke:#000000; stroke-width:4; stroke-opacity:1; fill:none\" points=\"\n",
       "  1989.74,251.724 2280.76,251.724 2280.76,130.764 1989.74,130.764 1989.74,251.724 \n",
       "  \"/>\n",
       "<polyline clip-path=\"url(#clip6300)\" style=\"stroke:#009af9; stroke-width:4; stroke-opacity:1; fill:none\" points=\"\n",
       "  2013.74,191.244 2157.74,191.244 \n",
       "  \"/>\n",
       "<path clip-path=\"url(#clip6300)\" d=\"M 0 0 M2195.58 210.931 Q2193.77 215.561 2192.06 216.973 Q2190.35 218.385 2187.48 218.385 L2184.08 218.385 L2184.08 214.82 L2186.58 214.82 Q2188.33 214.82 2189.31 213.987 Q2190.28 213.154 2191.46 210.052 L2192.22 208.107 L2181.74 182.598 L2186.25 182.598 L2194.35 202.876 L2202.46 182.598 L2206.97 182.598 L2195.58 210.931 Z\" fill=\"#000000\" fill-rule=\"evenodd\" fill-opacity=\"1\" /><path clip-path=\"url(#clip6300)\" d=\"M 0 0 M2212.85 204.589 L2220.49 204.589 L2220.49 178.223 L2212.18 179.89 L2212.18 175.631 L2220.44 173.964 L2225.12 173.964 L2225.12 204.589 L2232.76 204.589 L2232.76 208.524 L2212.85 208.524 L2212.85 204.589 Z\" fill=\"#000000\" fill-rule=\"evenodd\" fill-opacity=\"1\" /></svg>\n"
      ]
     },
     "execution_count": 24,
     "metadata": {},
     "output_type": "execute_result"
    }
   ],
   "source": [
    "plot(ele)"
   ]
  },
  {
   "cell_type": "code",
   "execution_count": 28,
   "metadata": {},
   "outputs": [
    {
     "data": {
      "text/plain": [
       "6.805831606526387e9"
      ]
     },
     "execution_count": 28,
     "metadata": {},
     "output_type": "execute_result"
    }
   ],
   "source": [
    "#Observability Grammian Check\n",
    "Φ = Array(Diagonal(ones(6)))\n",
    "J = zeros(3*length(thist),6)\n",
    "for k = 1:length(thist)\n",
    "    Φ .= A(xhist[:,k])*Φ\n",
    "    J[k,:] .= Φ*C(xhist[:,1],thist[1])' #2 recievers\n",
    "end\n",
    "Jfact = qr(J)\n",
    "cond(Jfact.R)"
   ]
  },
  {
   "cell_type": "code",
   "execution_count": 29,
   "metadata": {},
   "outputs": [
    {
     "data": {
      "text/plain": [
       "6×6 Diagonal{Float64,Array{Float64,1}}:\n",
       " 20.7039   ⋅        ⋅         ⋅         ⋅          ⋅ \n",
       "   ⋅      3.03989   ⋅         ⋅         ⋅          ⋅ \n",
       "   ⋅       ⋅       0.727639   ⋅         ⋅          ⋅ \n",
       "   ⋅       ⋅        ⋅        0.355513   ⋅          ⋅ \n",
       "   ⋅       ⋅        ⋅         ⋅        0.0518543   ⋅ \n",
       "   ⋅       ⋅        ⋅         ⋅         ⋅         0.0129868"
      ]
     },
     "execution_count": 29,
     "metadata": {},
     "output_type": "execute_result"
    }
   ],
   "source": [
    "#Cramer-Rao Bound\n",
    "R = 0.5^2\n",
    "Rinv = 1/R\n",
    "\n",
    "C1 = C(xhist[:,1],thist[1])\n",
    "S = C1'*Rinv*C1 #inverse state covariance (information)\n",
    "for k = 2:length(thist)\n",
    "    Ainv = inv(A(xhist[:,k-1]))\n",
    "    Ck = C(xhist[:,k],thist[k])\n",
    "    S = Ainv'*S*Ainv + Ck'*Rinv*Ck\n",
    "end\n",
    "sqrt(Diagonal(S^-1))"
   ]
  },
  {
   "cell_type": "code",
   "execution_count": 30,
   "metadata": {},
   "outputs": [],
   "source": [
    "#Generate noisy Measurements\n",
    "yhist = zeros(length(thist))\n",
    "for k = 1:length(thist)        \n",
    "        yhist[k] = g(xhist[:,k], thist[k]) + 3e-5*randn()\n",
    "end"
   ]
  },
  {
   "cell_type": "code",
   "execution_count": 31,
   "metadata": {},
   "outputs": [
    {
     "data": {
      "image/svg+xml": [
       "<?xml version=\"1.0\" encoding=\"utf-8\"?>\n",
       "<svg xmlns=\"http://www.w3.org/2000/svg\" xmlns:xlink=\"http://www.w3.org/1999/xlink\" width=\"600\" height=\"400\" viewBox=\"0 0 2400 1600\">\n",
       "<defs>\n",
       "  <clipPath id=\"clip6700\">\n",
       "    <rect x=\"0\" y=\"0\" width=\"2400\" height=\"1600\"/>\n",
       "  </clipPath>\n",
       "</defs>\n",
       "<path clip-path=\"url(#clip6700)\" d=\"\n",
       "M0 1600 L2400 1600 L2400 0 L0 0  Z\n",
       "  \" fill=\"#ffffff\" fill-rule=\"evenodd\" fill-opacity=\"1\"/>\n",
       "<defs>\n",
       "  <clipPath id=\"clip6701\">\n",
       "    <rect x=\"480\" y=\"0\" width=\"1681\" height=\"1600\"/>\n",
       "  </clipPath>\n",
       "</defs>\n",
       "<path clip-path=\"url(#clip6700)\" d=\"\n",
       "M224.677 1486.45 L2352.76 1486.45 L2352.76 47.2441 L224.677 47.2441  Z\n",
       "  \" fill=\"#ffffff\" fill-rule=\"evenodd\" fill-opacity=\"1\"/>\n",
       "<defs>\n",
       "  <clipPath id=\"clip6702\">\n",
       "    <rect x=\"224\" y=\"47\" width=\"2129\" height=\"1440\"/>\n",
       "  </clipPath>\n",
       "</defs>\n",
       "<polyline clip-path=\"url(#clip6702)\" style=\"stroke:#000000; stroke-width:2; stroke-opacity:0.1; fill:none\" points=\"\n",
       "  284.905,1486.45 284.905,47.2441 \n",
       "  \"/>\n",
       "<polyline clip-path=\"url(#clip6702)\" style=\"stroke:#000000; stroke-width:2; stroke-opacity:0.1; fill:none\" points=\"\n",
       "  619.509,1486.45 619.509,47.2441 \n",
       "  \"/>\n",
       "<polyline clip-path=\"url(#clip6702)\" style=\"stroke:#000000; stroke-width:2; stroke-opacity:0.1; fill:none\" points=\"\n",
       "  954.113,1486.45 954.113,47.2441 \n",
       "  \"/>\n",
       "<polyline clip-path=\"url(#clip6702)\" style=\"stroke:#000000; stroke-width:2; stroke-opacity:0.1; fill:none\" points=\"\n",
       "  1288.72,1486.45 1288.72,47.2441 \n",
       "  \"/>\n",
       "<polyline clip-path=\"url(#clip6702)\" style=\"stroke:#000000; stroke-width:2; stroke-opacity:0.1; fill:none\" points=\"\n",
       "  1623.32,1486.45 1623.32,47.2441 \n",
       "  \"/>\n",
       "<polyline clip-path=\"url(#clip6702)\" style=\"stroke:#000000; stroke-width:2; stroke-opacity:0.1; fill:none\" points=\"\n",
       "  1957.92,1486.45 1957.92,47.2441 \n",
       "  \"/>\n",
       "<polyline clip-path=\"url(#clip6702)\" style=\"stroke:#000000; stroke-width:2; stroke-opacity:0.1; fill:none\" points=\"\n",
       "  2292.53,1486.45 2292.53,47.2441 \n",
       "  \"/>\n",
       "<polyline clip-path=\"url(#clip6702)\" style=\"stroke:#000000; stroke-width:2; stroke-opacity:0.1; fill:none\" points=\"\n",
       "  224.677,1314.78 2352.76,1314.78 \n",
       "  \"/>\n",
       "<polyline clip-path=\"url(#clip6702)\" style=\"stroke:#000000; stroke-width:2; stroke-opacity:0.1; fill:none\" points=\"\n",
       "  224.677,1132.13 2352.76,1132.13 \n",
       "  \"/>\n",
       "<polyline clip-path=\"url(#clip6702)\" style=\"stroke:#000000; stroke-width:2; stroke-opacity:0.1; fill:none\" points=\"\n",
       "  224.677,949.486 2352.76,949.486 \n",
       "  \"/>\n",
       "<polyline clip-path=\"url(#clip6702)\" style=\"stroke:#000000; stroke-width:2; stroke-opacity:0.1; fill:none\" points=\"\n",
       "  224.677,766.838 2352.76,766.838 \n",
       "  \"/>\n",
       "<polyline clip-path=\"url(#clip6702)\" style=\"stroke:#000000; stroke-width:2; stroke-opacity:0.1; fill:none\" points=\"\n",
       "  224.677,584.19 2352.76,584.19 \n",
       "  \"/>\n",
       "<polyline clip-path=\"url(#clip6702)\" style=\"stroke:#000000; stroke-width:2; stroke-opacity:0.1; fill:none\" points=\"\n",
       "  224.677,401.542 2352.76,401.542 \n",
       "  \"/>\n",
       "<polyline clip-path=\"url(#clip6702)\" style=\"stroke:#000000; stroke-width:2; stroke-opacity:0.1; fill:none\" points=\"\n",
       "  224.677,218.894 2352.76,218.894 \n",
       "  \"/>\n",
       "<polyline clip-path=\"url(#clip6700)\" style=\"stroke:#000000; stroke-width:4; stroke-opacity:1; fill:none\" points=\"\n",
       "  224.677,1486.45 2352.76,1486.45 \n",
       "  \"/>\n",
       "<polyline clip-path=\"url(#clip6700)\" style=\"stroke:#000000; stroke-width:4; stroke-opacity:1; fill:none\" points=\"\n",
       "  224.677,1486.45 224.677,47.2441 \n",
       "  \"/>\n",
       "<polyline clip-path=\"url(#clip6700)\" style=\"stroke:#000000; stroke-width:4; stroke-opacity:1; fill:none\" points=\"\n",
       "  284.905,1486.45 284.905,1469.18 \n",
       "  \"/>\n",
       "<polyline clip-path=\"url(#clip6700)\" style=\"stroke:#000000; stroke-width:4; stroke-opacity:1; fill:none\" points=\"\n",
       "  619.509,1486.45 619.509,1469.18 \n",
       "  \"/>\n",
       "<polyline clip-path=\"url(#clip6700)\" style=\"stroke:#000000; stroke-width:4; stroke-opacity:1; fill:none\" points=\"\n",
       "  954.113,1486.45 954.113,1469.18 \n",
       "  \"/>\n",
       "<polyline clip-path=\"url(#clip6700)\" style=\"stroke:#000000; stroke-width:4; stroke-opacity:1; fill:none\" points=\"\n",
       "  1288.72,1486.45 1288.72,1469.18 \n",
       "  \"/>\n",
       "<polyline clip-path=\"url(#clip6700)\" style=\"stroke:#000000; stroke-width:4; stroke-opacity:1; fill:none\" points=\"\n",
       "  1623.32,1486.45 1623.32,1469.18 \n",
       "  \"/>\n",
       "<polyline clip-path=\"url(#clip6700)\" style=\"stroke:#000000; stroke-width:4; stroke-opacity:1; fill:none\" points=\"\n",
       "  1957.92,1486.45 1957.92,1469.18 \n",
       "  \"/>\n",
       "<polyline clip-path=\"url(#clip6700)\" style=\"stroke:#000000; stroke-width:4; stroke-opacity:1; fill:none\" points=\"\n",
       "  2292.53,1486.45 2292.53,1469.18 \n",
       "  \"/>\n",
       "<polyline clip-path=\"url(#clip6700)\" style=\"stroke:#000000; stroke-width:4; stroke-opacity:1; fill:none\" points=\"\n",
       "  224.677,1314.78 250.214,1314.78 \n",
       "  \"/>\n",
       "<polyline clip-path=\"url(#clip6700)\" style=\"stroke:#000000; stroke-width:4; stroke-opacity:1; fill:none\" points=\"\n",
       "  224.677,1132.13 250.214,1132.13 \n",
       "  \"/>\n",
       "<polyline clip-path=\"url(#clip6700)\" style=\"stroke:#000000; stroke-width:4; stroke-opacity:1; fill:none\" points=\"\n",
       "  224.677,949.486 250.214,949.486 \n",
       "  \"/>\n",
       "<polyline clip-path=\"url(#clip6700)\" style=\"stroke:#000000; stroke-width:4; stroke-opacity:1; fill:none\" points=\"\n",
       "  224.677,766.838 250.214,766.838 \n",
       "  \"/>\n",
       "<polyline clip-path=\"url(#clip6700)\" style=\"stroke:#000000; stroke-width:4; stroke-opacity:1; fill:none\" points=\"\n",
       "  224.677,584.19 250.214,584.19 \n",
       "  \"/>\n",
       "<polyline clip-path=\"url(#clip6700)\" style=\"stroke:#000000; stroke-width:4; stroke-opacity:1; fill:none\" points=\"\n",
       "  224.677,401.542 250.214,401.542 \n",
       "  \"/>\n",
       "<polyline clip-path=\"url(#clip6700)\" style=\"stroke:#000000; stroke-width:4; stroke-opacity:1; fill:none\" points=\"\n",
       "  224.677,218.894 250.214,218.894 \n",
       "  \"/>\n",
       "<path clip-path=\"url(#clip6700)\" d=\"M 0 0 M238.47 1525.04 L250.947 1525.04 L250.947 1528.83 L238.47 1528.83 L238.47 1525.04 Z\" fill=\"#000000\" fill-rule=\"evenodd\" fill-opacity=\"1\" /><path clip-path=\"url(#clip6700)\" d=\"M 0 0 M270.183 1521.29 Q273.54 1522 275.415 1524.27 Q277.313 1526.54 277.313 1529.87 Q277.313 1534.99 273.794 1537.79 Q270.276 1540.59 263.794 1540.59 Q261.618 1540.59 259.304 1540.15 Q257.012 1539.73 254.558 1538.88 L254.558 1534.36 Q256.503 1535.5 258.817 1536.08 Q261.132 1536.66 263.655 1536.66 Q268.053 1536.66 270.345 1534.92 Q272.66 1533.18 272.66 1529.87 Q272.66 1526.82 270.507 1525.11 Q268.378 1523.37 264.558 1523.37 L260.53 1523.37 L260.53 1519.53 L264.743 1519.53 Q268.192 1519.53 270.021 1518.16 Q271.85 1516.77 271.85 1514.18 Q271.85 1511.52 269.952 1510.11 Q268.077 1508.67 264.558 1508.67 Q262.637 1508.67 260.438 1509.09 Q258.239 1509.5 255.6 1510.38 L255.6 1506.22 Q258.262 1505.48 260.577 1505.11 Q262.915 1504.73 264.975 1504.73 Q270.299 1504.73 273.401 1507.17 Q276.503 1509.57 276.503 1513.69 Q276.503 1516.56 274.859 1518.55 Q273.215 1520.52 270.183 1521.29 Z\" fill=\"#000000\" fill-rule=\"evenodd\" fill-opacity=\"1\" /><path clip-path=\"url(#clip6700)\" d=\"M 0 0 M292.382 1508.44 Q288.771 1508.44 286.942 1512 Q285.137 1515.55 285.137 1522.67 Q285.137 1529.78 286.942 1533.35 Q288.771 1536.89 292.382 1536.89 Q296.016 1536.89 297.822 1533.35 Q299.651 1529.78 299.651 1522.67 Q299.651 1515.55 297.822 1512 Q296.016 1508.44 292.382 1508.44 M292.382 1504.73 Q298.192 1504.73 301.248 1509.34 Q304.326 1513.92 304.326 1522.67 Q304.326 1531.4 301.248 1536.01 Q298.192 1540.59 292.382 1540.59 Q286.572 1540.59 283.493 1536.01 Q280.438 1531.4 280.438 1522.67 Q280.438 1513.92 283.493 1509.34 Q286.572 1504.73 292.382 1504.73 Z\" fill=\"#000000\" fill-rule=\"evenodd\" fill-opacity=\"1\" /><path clip-path=\"url(#clip6700)\" d=\"M 0 0 M319.396 1508.44 Q315.785 1508.44 313.956 1512 Q312.15 1515.55 312.15 1522.67 Q312.15 1529.78 313.956 1533.35 Q315.785 1536.89 319.396 1536.89 Q323.03 1536.89 324.836 1533.35 Q326.664 1529.78 326.664 1522.67 Q326.664 1515.55 324.836 1512 Q323.03 1508.44 319.396 1508.44 M319.396 1504.73 Q325.206 1504.73 328.261 1509.34 Q331.34 1513.92 331.34 1522.67 Q331.34 1531.4 328.261 1536.01 Q325.206 1540.59 319.396 1540.59 Q313.586 1540.59 310.507 1536.01 Q307.451 1531.4 307.451 1522.67 Q307.451 1513.92 310.507 1509.34 Q313.586 1504.73 319.396 1504.73 Z\" fill=\"#000000\" fill-rule=\"evenodd\" fill-opacity=\"1\" /><path clip-path=\"url(#clip6700)\" d=\"M 0 0 M573.549 1525.04 L586.025 1525.04 L586.025 1528.83 L573.549 1528.83 L573.549 1525.04 Z\" fill=\"#000000\" fill-rule=\"evenodd\" fill-opacity=\"1\" /><path clip-path=\"url(#clip6700)\" d=\"M 0 0 M595.122 1535.98 L611.442 1535.98 L611.442 1539.92 L589.497 1539.92 L589.497 1535.98 Q592.16 1533.23 596.743 1528.6 Q601.349 1523.95 602.53 1522.61 Q604.775 1520.08 605.655 1518.35 Q606.558 1516.59 606.558 1514.9 Q606.558 1512.14 604.613 1510.41 Q602.692 1508.67 599.59 1508.67 Q597.391 1508.67 594.937 1509.43 Q592.507 1510.2 589.729 1511.75 L589.729 1507.03 Q592.553 1505.89 595.007 1505.31 Q597.46 1504.73 599.497 1504.73 Q604.868 1504.73 608.062 1507.42 Q611.257 1510.11 611.257 1514.6 Q611.257 1516.73 610.446 1518.65 Q609.659 1520.54 607.553 1523.14 Q606.974 1523.81 603.872 1527.03 Q600.771 1530.22 595.122 1535.98 Z\" fill=\"#000000\" fill-rule=\"evenodd\" fill-opacity=\"1\" /><path clip-path=\"url(#clip6700)\" d=\"M 0 0 M626.511 1508.44 Q622.9 1508.44 621.071 1512 Q619.266 1515.55 619.266 1522.67 Q619.266 1529.78 621.071 1533.35 Q622.9 1536.89 626.511 1536.89 Q630.145 1536.89 631.951 1533.35 Q633.78 1529.78 633.78 1522.67 Q633.78 1515.55 631.951 1512 Q630.145 1508.44 626.511 1508.44 M626.511 1504.73 Q632.321 1504.73 635.377 1509.34 Q638.456 1513.92 638.456 1522.67 Q638.456 1531.4 635.377 1536.01 Q632.321 1540.59 626.511 1540.59 Q620.701 1540.59 617.622 1536.01 Q614.567 1531.4 614.567 1522.67 Q614.567 1513.92 617.622 1509.34 Q620.701 1504.73 626.511 1504.73 Z\" fill=\"#000000\" fill-rule=\"evenodd\" fill-opacity=\"1\" /><path clip-path=\"url(#clip6700)\" d=\"M 0 0 M653.525 1508.44 Q649.914 1508.44 648.085 1512 Q646.28 1515.55 646.28 1522.67 Q646.28 1529.78 648.085 1533.35 Q649.914 1536.89 653.525 1536.89 Q657.159 1536.89 658.965 1533.35 Q660.793 1529.78 660.793 1522.67 Q660.793 1515.55 658.965 1512 Q657.159 1508.44 653.525 1508.44 M653.525 1504.73 Q659.335 1504.73 662.391 1509.34 Q665.469 1513.92 665.469 1522.67 Q665.469 1531.4 662.391 1536.01 Q659.335 1540.59 653.525 1540.59 Q647.715 1540.59 644.636 1536.01 Q641.581 1531.4 641.581 1522.67 Q641.581 1513.92 644.636 1509.34 Q647.715 1504.73 653.525 1504.73 Z\" fill=\"#000000\" fill-rule=\"evenodd\" fill-opacity=\"1\" /><path clip-path=\"url(#clip6700)\" d=\"M 0 0 M907.967 1525.04 L920.444 1525.04 L920.444 1528.83 L907.967 1528.83 L907.967 1525.04 Z\" fill=\"#000000\" fill-rule=\"evenodd\" fill-opacity=\"1\" /><path clip-path=\"url(#clip6700)\" d=\"M 0 0 M926.323 1535.98 L933.962 1535.98 L933.962 1509.62 L925.652 1511.29 L925.652 1507.03 L933.916 1505.36 L938.592 1505.36 L938.592 1535.98 L946.231 1535.98 L946.231 1539.92 L926.323 1539.92 L926.323 1535.98 Z\" fill=\"#000000\" fill-rule=\"evenodd\" fill-opacity=\"1\" /><path clip-path=\"url(#clip6700)\" d=\"M 0 0 M961.3 1508.44 Q957.689 1508.44 955.86 1512 Q954.055 1515.55 954.055 1522.67 Q954.055 1529.78 955.86 1533.35 Q957.689 1536.89 961.3 1536.89 Q964.934 1536.89 966.74 1533.35 Q968.569 1529.78 968.569 1522.67 Q968.569 1515.55 966.74 1512 Q964.934 1508.44 961.3 1508.44 M961.3 1504.73 Q967.11 1504.73 970.166 1509.34 Q973.244 1513.92 973.244 1522.67 Q973.244 1531.4 970.166 1536.01 Q967.11 1540.59 961.3 1540.59 Q955.49 1540.59 952.411 1536.01 Q949.356 1531.4 949.356 1522.67 Q949.356 1513.92 952.411 1509.34 Q955.49 1504.73 961.3 1504.73 Z\" fill=\"#000000\" fill-rule=\"evenodd\" fill-opacity=\"1\" /><path clip-path=\"url(#clip6700)\" d=\"M 0 0 M988.314 1508.44 Q984.703 1508.44 982.874 1512 Q981.068 1515.55 981.068 1522.67 Q981.068 1529.78 982.874 1533.35 Q984.703 1536.89 988.314 1536.89 Q991.948 1536.89 993.754 1533.35 Q995.582 1529.78 995.582 1522.67 Q995.582 1515.55 993.754 1512 Q991.948 1508.44 988.314 1508.44 M988.314 1504.73 Q994.124 1504.73 997.179 1509.34 Q1000.26 1513.92 1000.26 1522.67 Q1000.26 1531.4 997.179 1536.01 Q994.124 1540.59 988.314 1540.59 Q982.504 1540.59 979.425 1536.01 Q976.369 1531.4 976.369 1522.67 Q976.369 1513.92 979.425 1509.34 Q982.504 1504.73 988.314 1504.73 Z\" fill=\"#000000\" fill-rule=\"evenodd\" fill-opacity=\"1\" /><path clip-path=\"url(#clip6700)\" d=\"M 0 0 M1288.72 1508.44 Q1285.11 1508.44 1283.28 1512 Q1281.47 1515.55 1281.47 1522.67 Q1281.47 1529.78 1283.28 1533.35 Q1285.11 1536.89 1288.72 1536.89 Q1292.35 1536.89 1294.16 1533.35 Q1295.98 1529.78 1295.98 1522.67 Q1295.98 1515.55 1294.16 1512 Q1292.35 1508.44 1288.72 1508.44 M1288.72 1504.73 Q1294.53 1504.73 1297.58 1509.34 Q1300.66 1513.92 1300.66 1522.67 Q1300.66 1531.4 1297.58 1536.01 Q1294.53 1540.59 1288.72 1540.59 Q1282.91 1540.59 1279.83 1536.01 Q1276.77 1531.4 1276.77 1522.67 Q1276.77 1513.92 1279.83 1509.34 Q1282.91 1504.73 1288.72 1504.73 Z\" fill=\"#000000\" fill-rule=\"evenodd\" fill-opacity=\"1\" /><path clip-path=\"url(#clip6700)\" d=\"M 0 0 M1586.69 1535.98 L1594.33 1535.98 L1594.33 1509.62 L1586.02 1511.29 L1586.02 1507.03 L1594.28 1505.36 L1598.96 1505.36 L1598.96 1535.98 L1606.6 1535.98 L1606.6 1539.92 L1586.69 1539.92 L1586.69 1535.98 Z\" fill=\"#000000\" fill-rule=\"evenodd\" fill-opacity=\"1\" /><path clip-path=\"url(#clip6700)\" d=\"M 0 0 M1621.66 1508.44 Q1618.05 1508.44 1616.23 1512 Q1614.42 1515.55 1614.42 1522.67 Q1614.42 1529.78 1616.23 1533.35 Q1618.05 1536.89 1621.66 1536.89 Q1625.3 1536.89 1627.1 1533.35 Q1628.93 1529.78 1628.93 1522.67 Q1628.93 1515.55 1627.1 1512 Q1625.3 1508.44 1621.66 1508.44 M1621.66 1504.73 Q1627.47 1504.73 1630.53 1509.34 Q1633.61 1513.92 1633.61 1522.67 Q1633.61 1531.4 1630.53 1536.01 Q1627.47 1540.59 1621.66 1540.59 Q1615.85 1540.59 1612.78 1536.01 Q1609.72 1531.4 1609.72 1522.67 Q1609.72 1513.92 1612.78 1509.34 Q1615.85 1504.73 1621.66 1504.73 Z\" fill=\"#000000\" fill-rule=\"evenodd\" fill-opacity=\"1\" /><path clip-path=\"url(#clip6700)\" d=\"M 0 0 M1648.68 1508.44 Q1645.07 1508.44 1643.24 1512 Q1641.43 1515.55 1641.43 1522.67 Q1641.43 1529.78 1643.24 1533.35 Q1645.07 1536.89 1648.68 1536.89 Q1652.31 1536.89 1654.12 1533.35 Q1655.95 1529.78 1655.95 1522.67 Q1655.95 1515.55 1654.12 1512 Q1652.31 1508.44 1648.68 1508.44 M1648.68 1504.73 Q1654.49 1504.73 1657.54 1509.34 Q1660.62 1513.92 1660.62 1522.67 Q1660.62 1531.4 1657.54 1536.01 Q1654.49 1540.59 1648.68 1540.59 Q1642.87 1540.59 1639.79 1536.01 Q1636.73 1531.4 1636.73 1522.67 Q1636.73 1513.92 1639.79 1509.34 Q1642.87 1504.73 1648.68 1504.73 Z\" fill=\"#000000\" fill-rule=\"evenodd\" fill-opacity=\"1\" /><path clip-path=\"url(#clip6700)\" d=\"M 0 0 M1925.56 1535.98 L1941.88 1535.98 L1941.88 1539.92 L1919.94 1539.92 L1919.94 1535.98 Q1922.6 1533.23 1927.18 1528.6 Q1931.79 1523.95 1932.97 1522.61 Q1935.22 1520.08 1936.09 1518.35 Q1937 1516.59 1937 1514.9 Q1937 1512.14 1935.05 1510.41 Q1933.13 1508.67 1930.03 1508.67 Q1927.83 1508.67 1925.38 1509.43 Q1922.95 1510.2 1920.17 1511.75 L1920.17 1507.03 Q1922.99 1505.89 1925.45 1505.31 Q1927.9 1504.73 1929.94 1504.73 Q1935.31 1504.73 1938.5 1507.42 Q1941.7 1510.11 1941.7 1514.6 Q1941.7 1516.73 1940.89 1518.65 Q1940.1 1520.54 1937.99 1523.14 Q1937.41 1523.81 1934.31 1527.03 Q1931.21 1530.22 1925.56 1535.98 Z\" fill=\"#000000\" fill-rule=\"evenodd\" fill-opacity=\"1\" /><path clip-path=\"url(#clip6700)\" d=\"M 0 0 M1956.95 1508.44 Q1953.34 1508.44 1951.51 1512 Q1949.71 1515.55 1949.71 1522.67 Q1949.71 1529.78 1951.51 1533.35 Q1953.34 1536.89 1956.95 1536.89 Q1960.59 1536.89 1962.39 1533.35 Q1964.22 1529.78 1964.22 1522.67 Q1964.22 1515.55 1962.39 1512 Q1960.59 1508.44 1956.95 1508.44 M1956.95 1504.73 Q1962.76 1504.73 1965.82 1509.34 Q1968.9 1513.92 1968.9 1522.67 Q1968.9 1531.4 1965.82 1536.01 Q1962.76 1540.59 1956.95 1540.59 Q1951.14 1540.59 1948.06 1536.01 Q1945.01 1531.4 1945.01 1522.67 Q1945.01 1513.92 1948.06 1509.34 Q1951.14 1504.73 1956.95 1504.73 Z\" fill=\"#000000\" fill-rule=\"evenodd\" fill-opacity=\"1\" /><path clip-path=\"url(#clip6700)\" d=\"M 0 0 M1983.97 1508.44 Q1980.35 1508.44 1978.53 1512 Q1976.72 1515.55 1976.72 1522.67 Q1976.72 1529.78 1978.53 1533.35 Q1980.35 1536.89 1983.97 1536.89 Q1987.6 1536.89 1989.4 1533.35 Q1991.23 1529.78 1991.23 1522.67 Q1991.23 1515.55 1989.4 1512 Q1987.6 1508.44 1983.97 1508.44 M1983.97 1504.73 Q1989.78 1504.73 1992.83 1509.34 Q1995.91 1513.92 1995.91 1522.67 Q1995.91 1531.4 1992.83 1536.01 Q1989.78 1540.59 1983.97 1540.59 Q1978.15 1540.59 1975.08 1536.01 Q1972.02 1531.4 1972.02 1522.67 Q1972.02 1513.92 1975.08 1509.34 Q1978.15 1504.73 1983.97 1504.73 Z\" fill=\"#000000\" fill-rule=\"evenodd\" fill-opacity=\"1\" /><path clip-path=\"url(#clip6700)\" d=\"M 0 0 M2269.76 1521.29 Q2273.12 1522 2274.99 1524.27 Q2276.89 1526.54 2276.89 1529.87 Q2276.89 1534.99 2273.37 1537.79 Q2269.85 1540.59 2263.37 1540.59 Q2261.2 1540.59 2258.88 1540.15 Q2256.59 1539.73 2254.14 1538.88 L2254.14 1534.36 Q2256.08 1535.5 2258.4 1536.08 Q2260.71 1536.66 2263.23 1536.66 Q2267.63 1536.66 2269.92 1534.92 Q2272.24 1533.18 2272.24 1529.87 Q2272.24 1526.82 2270.09 1525.11 Q2267.96 1523.37 2264.14 1523.37 L2260.11 1523.37 L2260.11 1519.53 L2264.32 1519.53 Q2267.77 1519.53 2269.6 1518.16 Q2271.43 1516.77 2271.43 1514.18 Q2271.43 1511.52 2269.53 1510.11 Q2267.65 1508.67 2264.14 1508.67 Q2262.21 1508.67 2260.02 1509.09 Q2257.82 1509.5 2255.18 1510.38 L2255.18 1506.22 Q2257.84 1505.48 2260.15 1505.11 Q2262.49 1504.73 2264.55 1504.73 Q2269.88 1504.73 2272.98 1507.17 Q2276.08 1509.57 2276.08 1513.69 Q2276.08 1516.56 2274.44 1518.55 Q2272.79 1520.52 2269.76 1521.29 Z\" fill=\"#000000\" fill-rule=\"evenodd\" fill-opacity=\"1\" /><path clip-path=\"url(#clip6700)\" d=\"M 0 0 M2291.96 1508.44 Q2288.35 1508.44 2286.52 1512 Q2284.71 1515.55 2284.71 1522.67 Q2284.71 1529.78 2286.52 1533.35 Q2288.35 1536.89 2291.96 1536.89 Q2295.59 1536.89 2297.4 1533.35 Q2299.23 1529.78 2299.23 1522.67 Q2299.23 1515.55 2297.4 1512 Q2295.59 1508.44 2291.96 1508.44 M2291.96 1504.73 Q2297.77 1504.73 2300.83 1509.34 Q2303.9 1513.92 2303.9 1522.67 Q2303.9 1531.4 2300.83 1536.01 Q2297.77 1540.59 2291.96 1540.59 Q2286.15 1540.59 2283.07 1536.01 Q2280.02 1531.4 2280.02 1522.67 Q2280.02 1513.92 2283.07 1509.34 Q2286.15 1504.73 2291.96 1504.73 Z\" fill=\"#000000\" fill-rule=\"evenodd\" fill-opacity=\"1\" /><path clip-path=\"url(#clip6700)\" d=\"M 0 0 M2318.97 1508.44 Q2315.36 1508.44 2313.53 1512 Q2311.73 1515.55 2311.73 1522.67 Q2311.73 1529.78 2313.53 1533.35 Q2315.36 1536.89 2318.97 1536.89 Q2322.61 1536.89 2324.41 1533.35 Q2326.24 1529.78 2326.24 1522.67 Q2326.24 1515.55 2324.41 1512 Q2322.61 1508.44 2318.97 1508.44 M2318.97 1504.73 Q2324.78 1504.73 2327.84 1509.34 Q2330.92 1513.92 2330.92 1522.67 Q2330.92 1531.4 2327.84 1536.01 Q2324.78 1540.59 2318.97 1540.59 Q2313.16 1540.59 2310.09 1536.01 Q2307.03 1531.4 2307.03 1522.67 Q2307.03 1513.92 2310.09 1509.34 Q2313.16 1504.73 2318.97 1504.73 Z\" fill=\"#000000\" fill-rule=\"evenodd\" fill-opacity=\"1\" /><path clip-path=\"url(#clip6700)\" d=\"M 0 0 M58.1614 1323.62 L70.6382 1323.62 L70.6382 1327.42 L58.1614 1327.42 L58.1614 1323.62 Z\" fill=\"#000000\" fill-rule=\"evenodd\" fill-opacity=\"1\" /><path clip-path=\"url(#clip6700)\" d=\"M 0 0 M87.8372 1303.95 L110.059 1303.95 L110.059 1305.94 L97.5131 1338.51 L92.6288 1338.51 L104.434 1307.88 L87.8372 1307.88 L87.8372 1303.95 Z\" fill=\"#000000\" fill-rule=\"evenodd\" fill-opacity=\"1\" /><path clip-path=\"url(#clip6700)\" d=\"M 0 0 M115.129 1332.63 L120.013 1332.63 L120.013 1338.51 L115.129 1338.51 L115.129 1332.63 Z\" fill=\"#000000\" fill-rule=\"evenodd\" fill-opacity=\"1\" /><path clip-path=\"url(#clip6700)\" d=\"M 0 0 M125.129 1303.95 L143.485 1303.95 L143.485 1307.88 L129.411 1307.88 L129.411 1316.36 Q130.43 1316.01 131.448 1315.85 Q132.467 1315.66 133.485 1315.66 Q139.272 1315.66 142.652 1318.83 Q146.031 1322 146.031 1327.42 Q146.031 1333 142.559 1336.1 Q139.087 1339.18 132.768 1339.18 Q130.592 1339.18 128.323 1338.81 Q126.078 1338.44 123.67 1337.7 L123.67 1333 Q125.754 1334.13 127.976 1334.69 Q130.198 1335.25 132.675 1335.25 Q136.68 1335.25 139.017 1333.14 Q141.355 1331.03 141.355 1327.42 Q141.355 1323.81 139.017 1321.7 Q136.68 1319.6 132.675 1319.6 Q130.8 1319.6 128.925 1320.01 Q127.073 1320.43 125.129 1321.31 L125.129 1303.95 Z\" fill=\"#000000\" fill-rule=\"evenodd\" fill-opacity=\"1\" /><path clip-path=\"url(#clip6700)\" d=\"M 0 0 M150.869 1307.95 L155.175 1307.95 L155.175 1343.14 L150.869 1343.14 L150.869 1307.95 Z\" fill=\"#000000\" fill-rule=\"evenodd\" fill-opacity=\"1\" /><path clip-path=\"url(#clip6700)\" d=\"M 0 0 M170.244 1307.03 Q166.633 1307.03 164.804 1310.59 Q162.999 1314.13 162.999 1321.26 Q162.999 1328.37 164.804 1331.93 Q166.633 1335.48 170.244 1335.48 Q173.878 1335.48 175.684 1331.93 Q177.513 1328.37 177.513 1321.26 Q177.513 1314.13 175.684 1310.59 Q173.878 1307.03 170.244 1307.03 M170.244 1303.32 Q176.054 1303.32 179.11 1307.93 Q182.189 1312.51 182.189 1321.26 Q182.189 1329.99 179.11 1334.6 Q176.054 1339.18 170.244 1339.18 Q164.434 1339.18 161.355 1334.6 Q158.3 1329.99 158.3 1321.26 Q158.3 1312.51 161.355 1307.93 Q164.434 1303.32 170.244 1303.32 Z\" fill=\"#000000\" fill-rule=\"evenodd\" fill-opacity=\"1\" /><path clip-path=\"url(#clip6700)\" d=\"M 0 0 M194.884 1295.96 Q197.611 1296.54 199.134 1298.38 Q200.677 1300.23 200.677 1302.94 Q200.677 1307.09 197.818 1309.37 Q194.959 1311.64 189.693 1311.64 Q187.925 1311.64 186.044 1311.29 Q184.182 1310.95 182.189 1310.25 L182.189 1306.58 Q183.768 1307.51 185.649 1307.98 Q187.53 1308.45 189.58 1308.45 Q193.153 1308.45 195.015 1307.04 Q196.896 1305.63 196.896 1302.94 Q196.896 1300.45 195.147 1299.06 Q193.417 1297.65 190.313 1297.65 L187.041 1297.65 L187.041 1294.53 L190.464 1294.53 Q193.266 1294.53 194.752 1293.42 Q196.238 1292.29 196.238 1290.18 Q196.238 1288.02 194.696 1286.87 Q193.172 1285.71 190.313 1285.71 Q188.752 1285.71 186.966 1286.05 Q185.179 1286.39 183.035 1287.1 L183.035 1283.71 Q185.198 1283.11 187.079 1282.81 Q188.978 1282.51 190.652 1282.51 Q194.978 1282.51 197.498 1284.49 Q200.018 1286.44 200.018 1289.79 Q200.018 1292.12 198.683 1293.74 Q197.348 1295.34 194.884 1295.96 Z\" fill=\"#000000\" fill-rule=\"evenodd\" fill-opacity=\"1\" /><path clip-path=\"url(#clip6700)\" d=\"M 0 0 M57.0272 1140.98 L69.504 1140.98 L69.504 1144.77 L57.0272 1144.77 L57.0272 1140.98 Z\" fill=\"#000000\" fill-rule=\"evenodd\" fill-opacity=\"1\" /><path clip-path=\"url(#clip6700)\" d=\"M 0 0 M88.1613 1121.3 L106.518 1121.3 L106.518 1125.24 L92.4436 1125.24 L92.4436 1133.71 Q93.4622 1133.36 94.4807 1133.2 Q95.4992 1133.01 96.5177 1133.01 Q102.305 1133.01 105.684 1136.19 Q109.064 1139.36 109.064 1144.77 Q109.064 1150.35 105.592 1153.45 Q102.12 1156.53 95.8001 1156.53 Q93.6242 1156.53 91.3557 1156.16 Q89.1103 1155.79 86.7029 1155.05 L86.7029 1150.35 Q88.7863 1151.49 91.0085 1152.04 Q93.2307 1152.6 95.7075 1152.6 Q99.7121 1152.6 102.05 1150.49 Q104.388 1148.38 104.388 1144.77 Q104.388 1141.16 102.05 1139.06 Q99.7121 1136.95 95.7075 1136.95 Q93.8325 1136.95 91.9575 1137.37 Q90.1057 1137.78 88.1613 1138.66 L88.1613 1121.3 Z\" fill=\"#000000\" fill-rule=\"evenodd\" fill-opacity=\"1\" /><path clip-path=\"url(#clip6700)\" d=\"M 0 0 M114.133 1149.98 L119.018 1149.98 L119.018 1155.86 L114.133 1155.86 L114.133 1149.98 Z\" fill=\"#000000\" fill-rule=\"evenodd\" fill-opacity=\"1\" /><path clip-path=\"url(#clip6700)\" d=\"M 0 0 M134.087 1124.38 Q130.476 1124.38 128.647 1127.94 Q126.842 1131.49 126.842 1138.62 Q126.842 1145.72 128.647 1149.29 Q130.476 1152.83 134.087 1152.83 Q137.721 1152.83 139.527 1149.29 Q141.355 1145.72 141.355 1138.62 Q141.355 1131.49 139.527 1127.94 Q137.721 1124.38 134.087 1124.38 M134.087 1120.68 Q139.897 1120.68 142.953 1125.28 Q146.031 1129.87 146.031 1138.62 Q146.031 1147.34 142.953 1151.95 Q139.897 1156.53 134.087 1156.53 Q128.277 1156.53 125.198 1151.95 Q122.143 1147.34 122.143 1138.62 Q122.143 1129.87 125.198 1125.28 Q128.277 1120.68 134.087 1120.68 Z\" fill=\"#000000\" fill-rule=\"evenodd\" fill-opacity=\"1\" /><path clip-path=\"url(#clip6700)\" d=\"M 0 0 M150.869 1125.31 L155.175 1125.31 L155.175 1160.49 L150.869 1160.49 L150.869 1125.31 Z\" fill=\"#000000\" fill-rule=\"evenodd\" fill-opacity=\"1\" /><path clip-path=\"url(#clip6700)\" d=\"M 0 0 M170.244 1124.38 Q166.633 1124.38 164.804 1127.94 Q162.999 1131.49 162.999 1138.62 Q162.999 1145.72 164.804 1149.29 Q166.633 1152.83 170.244 1152.83 Q173.878 1152.83 175.684 1149.29 Q177.513 1145.72 177.513 1138.62 Q177.513 1131.49 175.684 1127.94 Q173.878 1124.38 170.244 1124.38 M170.244 1120.68 Q176.054 1120.68 179.11 1125.28 Q182.189 1129.87 182.189 1138.62 Q182.189 1147.34 179.11 1151.95 Q176.054 1156.53 170.244 1156.53 Q164.434 1156.53 161.355 1151.95 Q158.3 1147.34 158.3 1138.62 Q158.3 1129.87 161.355 1125.28 Q164.434 1120.68 170.244 1120.68 Z\" fill=\"#000000\" fill-rule=\"evenodd\" fill-opacity=\"1\" /><path clip-path=\"url(#clip6700)\" d=\"M 0 0 M194.884 1113.31 Q197.611 1113.89 199.134 1115.74 Q200.677 1117.58 200.677 1120.29 Q200.677 1124.44 197.818 1126.72 Q194.959 1129 189.693 1129 Q187.925 1129 186.044 1128.64 Q184.182 1128.3 182.189 1127.6 L182.189 1123.94 Q183.768 1124.86 185.649 1125.33 Q187.53 1125.8 189.58 1125.8 Q193.153 1125.8 195.015 1124.39 Q196.896 1122.98 196.896 1120.29 Q196.896 1117.81 195.147 1116.41 Q193.417 1115 190.313 1115 L187.041 1115 L187.041 1111.88 L190.464 1111.88 Q193.266 1111.88 194.752 1110.77 Q196.238 1109.64 196.238 1107.54 Q196.238 1105.37 194.696 1104.23 Q193.172 1103.06 190.313 1103.06 Q188.752 1103.06 186.966 1103.4 Q185.179 1103.74 183.035 1104.45 L183.035 1101.07 Q185.198 1100.46 187.079 1100.16 Q188.978 1099.86 190.652 1099.86 Q194.978 1099.86 197.498 1101.84 Q200.018 1103.79 200.018 1107.14 Q200.018 1109.47 198.683 1111.09 Q197.348 1112.69 194.884 1113.31 Z\" fill=\"#000000\" fill-rule=\"evenodd\" fill-opacity=\"1\" /><path clip-path=\"url(#clip6700)\" d=\"M 0 0 M58.4392 958.329 L70.916 958.329 L70.916 962.125 L58.4392 962.125 L58.4392 958.329 Z\" fill=\"#000000\" fill-rule=\"evenodd\" fill-opacity=\"1\" /><path clip-path=\"url(#clip6700)\" d=\"M 0 0 M93.7399 969.278 L110.059 969.278 L110.059 973.213 L88.115 973.213 L88.115 969.278 Q90.777 966.524 95.3603 961.894 Q99.9668 957.241 101.147 955.899 Q103.393 953.375 104.272 951.639 Q105.175 949.88 105.175 948.19 Q105.175 945.436 103.231 943.7 Q101.309 941.963 98.2075 941.963 Q96.0084 941.963 93.5548 942.727 Q91.1242 943.491 88.3464 945.042 L88.3464 940.32 Q91.1705 939.186 93.6242 938.607 Q96.0779 938.028 98.1149 938.028 Q103.485 938.028 106.68 940.714 Q109.874 943.399 109.874 947.889 Q109.874 950.019 109.064 951.94 Q108.277 953.838 106.17 956.431 Q105.592 957.102 102.49 960.32 Q99.3881 963.514 93.7399 969.278 Z\" fill=\"#000000\" fill-rule=\"evenodd\" fill-opacity=\"1\" /><path clip-path=\"url(#clip6700)\" d=\"M 0 0 M115.129 967.334 L120.013 967.334 L120.013 973.213 L115.129 973.213 L115.129 967.334 Z\" fill=\"#000000\" fill-rule=\"evenodd\" fill-opacity=\"1\" /><path clip-path=\"url(#clip6700)\" d=\"M 0 0 M125.129 938.653 L143.485 938.653 L143.485 942.588 L129.411 942.588 L129.411 951.061 Q130.43 950.713 131.448 950.551 Q132.467 950.366 133.485 950.366 Q139.272 950.366 142.652 953.538 Q146.031 956.709 146.031 962.125 Q146.031 967.704 142.559 970.806 Q139.087 973.885 132.768 973.885 Q130.592 973.885 128.323 973.514 Q126.078 973.144 123.67 972.403 L123.67 967.704 Q125.754 968.838 127.976 969.394 Q130.198 969.949 132.675 969.949 Q136.68 969.949 139.017 967.843 Q141.355 965.737 141.355 962.125 Q141.355 958.514 139.017 956.408 Q136.68 954.301 132.675 954.301 Q130.8 954.301 128.925 954.718 Q127.073 955.135 125.129 956.014 L125.129 938.653 Z\" fill=\"#000000\" fill-rule=\"evenodd\" fill-opacity=\"1\" /><path clip-path=\"url(#clip6700)\" d=\"M 0 0 M150.869 942.658 L155.175 942.658 L155.175 977.843 L150.869 977.843 L150.869 942.658 Z\" fill=\"#000000\" fill-rule=\"evenodd\" fill-opacity=\"1\" /><path clip-path=\"url(#clip6700)\" d=\"M 0 0 M170.244 941.732 Q166.633 941.732 164.804 945.297 Q162.999 948.838 162.999 955.968 Q162.999 963.074 164.804 966.639 Q166.633 970.181 170.244 970.181 Q173.878 970.181 175.684 966.639 Q177.513 963.074 177.513 955.968 Q177.513 948.838 175.684 945.297 Q173.878 941.732 170.244 941.732 M170.244 938.028 Q176.054 938.028 179.11 942.635 Q182.189 947.218 182.189 955.968 Q182.189 964.695 179.11 969.301 Q176.054 973.885 170.244 973.885 Q164.434 973.885 161.355 969.301 Q158.3 964.695 158.3 955.968 Q158.3 947.218 161.355 942.635 Q164.434 938.028 170.244 938.028 Z\" fill=\"#000000\" fill-rule=\"evenodd\" fill-opacity=\"1\" /><path clip-path=\"url(#clip6700)\" d=\"M 0 0 M194.884 930.663 Q197.611 931.246 199.134 933.089 Q200.677 934.932 200.677 937.64 Q200.677 941.797 197.818 944.073 Q194.959 946.348 189.693 946.348 Q187.925 946.348 186.044 945.991 Q184.182 945.652 182.189 944.957 L182.189 941.289 Q183.768 942.211 185.649 942.681 Q187.53 943.151 189.58 943.151 Q193.153 943.151 195.015 941.74 Q196.896 940.33 196.896 937.64 Q196.896 935.158 195.147 933.766 Q193.417 932.355 190.313 932.355 L187.041 932.355 L187.041 929.233 L190.464 929.233 Q193.266 929.233 194.752 928.124 Q196.238 926.995 196.238 924.889 Q196.238 922.726 194.696 921.579 Q193.172 920.412 190.313 920.412 Q188.752 920.412 186.966 920.751 Q185.179 921.09 183.035 921.804 L183.035 918.419 Q185.198 917.817 187.079 917.516 Q188.978 917.215 190.652 917.215 Q194.978 917.215 197.498 919.19 Q200.018 921.146 200.018 924.494 Q200.018 926.826 198.683 928.443 Q197.348 930.042 194.884 930.663 Z\" fill=\"#000000\" fill-rule=\"evenodd\" fill-opacity=\"1\" /><path clip-path=\"url(#clip6700)\" d=\"M 0 0 M188.732 752.637 Q185.121 752.637 183.292 756.201 Q181.487 759.743 181.487 766.873 Q181.487 773.979 183.292 777.544 Q185.121 781.085 188.732 781.085 Q192.366 781.085 194.172 777.544 Q196.001 773.979 196.001 766.873 Q196.001 759.743 194.172 756.201 Q192.366 752.637 188.732 752.637 M188.732 748.933 Q194.542 748.933 197.598 753.539 Q200.677 758.123 200.677 766.873 Q200.677 775.599 197.598 780.206 Q194.542 784.789 188.732 784.789 Q182.922 784.789 179.843 780.206 Q176.788 775.599 176.788 766.873 Q176.788 758.123 179.843 753.539 Q182.922 748.933 188.732 748.933 Z\" fill=\"#000000\" fill-rule=\"evenodd\" fill-opacity=\"1\" /><path clip-path=\"url(#clip6700)\" d=\"M 0 0 M93.7399 603.982 L110.059 603.982 L110.059 607.918 L88.115 607.918 L88.115 603.982 Q90.777 601.228 95.3603 596.598 Q99.9668 591.946 101.147 590.603 Q103.393 588.08 104.272 586.344 Q105.175 584.584 105.175 582.895 Q105.175 580.14 103.231 578.404 Q101.309 576.668 98.2075 576.668 Q96.0084 576.668 93.5548 577.432 Q91.1242 578.196 88.3464 579.746 L88.3464 575.024 Q91.1705 573.89 93.6242 573.311 Q96.0779 572.733 98.1149 572.733 Q103.485 572.733 106.68 575.418 Q109.874 578.103 109.874 582.594 Q109.874 584.723 109.064 586.645 Q108.277 588.543 106.17 591.135 Q105.592 591.807 102.49 595.024 Q99.3881 598.219 93.7399 603.982 Z\" fill=\"#000000\" fill-rule=\"evenodd\" fill-opacity=\"1\" /><path clip-path=\"url(#clip6700)\" d=\"M 0 0 M115.129 602.038 L120.013 602.038 L120.013 607.918 L115.129 607.918 L115.129 602.038 Z\" fill=\"#000000\" fill-rule=\"evenodd\" fill-opacity=\"1\" /><path clip-path=\"url(#clip6700)\" d=\"M 0 0 M125.129 573.358 L143.485 573.358 L143.485 577.293 L129.411 577.293 L129.411 585.765 Q130.43 585.418 131.448 585.256 Q132.467 585.071 133.485 585.071 Q139.272 585.071 142.652 588.242 Q146.031 591.413 146.031 596.83 Q146.031 602.408 142.559 605.51 Q139.087 608.589 132.768 608.589 Q130.592 608.589 128.323 608.219 Q126.078 607.848 123.67 607.107 L123.67 602.408 Q125.754 603.543 127.976 604.098 Q130.198 604.654 132.675 604.654 Q136.68 604.654 139.017 602.547 Q141.355 600.441 141.355 596.83 Q141.355 593.219 139.017 591.112 Q136.68 589.006 132.675 589.006 Q130.8 589.006 128.925 589.422 Q127.073 589.839 125.129 590.719 L125.129 573.358 Z\" fill=\"#000000\" fill-rule=\"evenodd\" fill-opacity=\"1\" /><path clip-path=\"url(#clip6700)\" d=\"M 0 0 M150.869 577.362 L155.175 577.362 L155.175 612.547 L150.869 612.547 L150.869 577.362 Z\" fill=\"#000000\" fill-rule=\"evenodd\" fill-opacity=\"1\" /><path clip-path=\"url(#clip6700)\" d=\"M 0 0 M170.244 576.436 Q166.633 576.436 164.804 580.001 Q162.999 583.543 162.999 590.672 Q162.999 597.779 164.804 601.344 Q166.633 604.885 170.244 604.885 Q173.878 604.885 175.684 601.344 Q177.513 597.779 177.513 590.672 Q177.513 583.543 175.684 580.001 Q173.878 576.436 170.244 576.436 M170.244 572.733 Q176.054 572.733 179.11 577.339 Q182.189 581.922 182.189 590.672 Q182.189 599.399 179.11 604.006 Q176.054 608.589 170.244 608.589 Q164.434 608.589 161.355 604.006 Q158.3 599.399 158.3 590.672 Q158.3 581.922 161.355 577.339 Q164.434 572.733 170.244 572.733 Z\" fill=\"#000000\" fill-rule=\"evenodd\" fill-opacity=\"1\" /><path clip-path=\"url(#clip6700)\" d=\"M 0 0 M194.884 565.367 Q197.611 565.95 199.134 567.793 Q200.677 569.636 200.677 572.345 Q200.677 576.501 197.818 578.777 Q194.959 581.053 189.693 581.053 Q187.925 581.053 186.044 580.695 Q184.182 580.357 182.189 579.661 L182.189 575.993 Q183.768 576.915 185.649 577.385 Q187.53 577.855 189.58 577.855 Q193.153 577.855 195.015 576.445 Q196.896 575.034 196.896 572.345 Q196.896 569.862 195.147 568.47 Q193.417 567.06 190.313 567.06 L187.041 567.06 L187.041 563.938 L190.464 563.938 Q193.266 563.938 194.752 562.828 Q196.238 561.699 196.238 559.593 Q196.238 557.43 194.696 556.283 Q193.172 555.117 190.313 555.117 Q188.752 555.117 186.966 555.455 Q185.179 555.794 183.035 556.509 L183.035 553.123 Q185.198 552.521 187.079 552.22 Q188.978 551.919 190.652 551.919 Q194.978 551.919 197.498 553.894 Q200.018 555.85 200.018 559.198 Q200.018 561.53 198.683 563.148 Q197.348 564.746 194.884 565.367 Z\" fill=\"#000000\" fill-rule=\"evenodd\" fill-opacity=\"1\" /><path clip-path=\"url(#clip6700)\" d=\"M 0 0 M88.1613 390.71 L106.518 390.71 L106.518 394.645 L92.4436 394.645 L92.4436 403.117 Q93.4622 402.77 94.4807 402.608 Q95.4992 402.423 96.5177 402.423 Q102.305 402.423 105.684 405.594 Q109.064 408.765 109.064 414.182 Q109.064 419.761 105.592 422.862 Q102.12 425.941 95.8001 425.941 Q93.6242 425.941 91.3557 425.571 Q89.1103 425.2 86.7029 424.46 L86.7029 419.761 Q88.7863 420.895 91.0085 421.45 Q93.2307 422.006 95.7075 422.006 Q99.7121 422.006 102.05 419.899 Q104.388 417.793 104.388 414.182 Q104.388 410.571 102.05 408.464 Q99.7121 406.358 95.7075 406.358 Q93.8325 406.358 91.9575 406.775 Q90.1057 407.191 88.1613 408.071 L88.1613 390.71 Z\" fill=\"#000000\" fill-rule=\"evenodd\" fill-opacity=\"1\" /><path clip-path=\"url(#clip6700)\" d=\"M 0 0 M114.133 419.39 L119.018 419.39 L119.018 425.27 L114.133 425.27 L114.133 419.39 Z\" fill=\"#000000\" fill-rule=\"evenodd\" fill-opacity=\"1\" /><path clip-path=\"url(#clip6700)\" d=\"M 0 0 M134.087 393.788 Q130.476 393.788 128.647 397.353 Q126.842 400.895 126.842 408.025 Q126.842 415.131 128.647 418.696 Q130.476 422.237 134.087 422.237 Q137.721 422.237 139.527 418.696 Q141.355 415.131 141.355 408.025 Q141.355 400.895 139.527 397.353 Q137.721 393.788 134.087 393.788 M134.087 390.085 Q139.897 390.085 142.953 394.691 Q146.031 399.275 146.031 408.025 Q146.031 416.751 142.953 421.358 Q139.897 425.941 134.087 425.941 Q128.277 425.941 125.198 421.358 Q122.143 416.751 122.143 408.025 Q122.143 399.275 125.198 394.691 Q128.277 390.085 134.087 390.085 Z\" fill=\"#000000\" fill-rule=\"evenodd\" fill-opacity=\"1\" /><path clip-path=\"url(#clip6700)\" d=\"M 0 0 M150.869 394.714 L155.175 394.714 L155.175 429.899 L150.869 429.899 L150.869 394.714 Z\" fill=\"#000000\" fill-rule=\"evenodd\" fill-opacity=\"1\" /><path clip-path=\"url(#clip6700)\" d=\"M 0 0 M170.244 393.788 Q166.633 393.788 164.804 397.353 Q162.999 400.895 162.999 408.025 Q162.999 415.131 164.804 418.696 Q166.633 422.237 170.244 422.237 Q173.878 422.237 175.684 418.696 Q177.513 415.131 177.513 408.025 Q177.513 400.895 175.684 397.353 Q173.878 393.788 170.244 393.788 M170.244 390.085 Q176.054 390.085 179.11 394.691 Q182.189 399.275 182.189 408.025 Q182.189 416.751 179.11 421.358 Q176.054 425.941 170.244 425.941 Q164.434 425.941 161.355 421.358 Q158.3 416.751 158.3 408.025 Q158.3 399.275 161.355 394.691 Q164.434 390.085 170.244 390.085 Z\" fill=\"#000000\" fill-rule=\"evenodd\" fill-opacity=\"1\" /><path clip-path=\"url(#clip6700)\" d=\"M 0 0 M194.884 382.719 Q197.611 383.302 199.134 385.145 Q200.677 386.989 200.677 389.697 Q200.677 393.853 197.818 396.129 Q194.959 398.405 189.693 398.405 Q187.925 398.405 186.044 398.047 Q184.182 397.709 182.189 397.013 L182.189 393.346 Q183.768 394.267 185.649 394.737 Q187.53 395.207 189.58 395.207 Q193.153 395.207 195.015 393.797 Q196.896 392.386 196.896 389.697 Q196.896 387.214 195.147 385.822 Q193.417 384.412 190.313 384.412 L187.041 384.412 L187.041 381.29 L190.464 381.29 Q193.266 381.29 194.752 380.18 Q196.238 379.052 196.238 376.945 Q196.238 374.782 194.696 373.635 Q193.172 372.469 190.313 372.469 Q188.752 372.469 186.966 372.807 Q185.179 373.146 183.035 373.861 L183.035 370.475 Q185.198 369.873 187.079 369.573 Q188.978 369.272 190.652 369.272 Q194.978 369.272 197.498 371.246 Q200.018 373.202 200.018 376.55 Q200.018 378.882 198.683 380.5 Q197.348 382.098 194.884 382.719 Z\" fill=\"#000000\" fill-rule=\"evenodd\" fill-opacity=\"1\" /><path clip-path=\"url(#clip6700)\" d=\"M 0 0 M87.8372 208.062 L110.059 208.062 L110.059 210.053 L97.5131 242.622 L92.6288 242.622 L104.434 211.997 L87.8372 211.997 L87.8372 208.062 Z\" fill=\"#000000\" fill-rule=\"evenodd\" fill-opacity=\"1\" /><path clip-path=\"url(#clip6700)\" d=\"M 0 0 M115.129 236.742 L120.013 236.742 L120.013 242.622 L115.129 242.622 L115.129 236.742 Z\" fill=\"#000000\" fill-rule=\"evenodd\" fill-opacity=\"1\" /><path clip-path=\"url(#clip6700)\" d=\"M 0 0 M125.129 208.062 L143.485 208.062 L143.485 211.997 L129.411 211.997 L129.411 220.469 Q130.43 220.122 131.448 219.96 Q132.467 219.775 133.485 219.775 Q139.272 219.775 142.652 222.946 Q146.031 226.117 146.031 231.534 Q146.031 237.113 142.559 240.215 Q139.087 243.293 132.768 243.293 Q130.592 243.293 128.323 242.923 Q126.078 242.553 123.67 241.812 L123.67 237.113 Q125.754 238.247 127.976 238.803 Q130.198 239.358 132.675 239.358 Q136.68 239.358 139.017 237.252 Q141.355 235.145 141.355 231.534 Q141.355 227.923 139.017 225.816 Q136.68 223.71 132.675 223.71 Q130.8 223.71 128.925 224.127 Q127.073 224.543 125.129 225.423 L125.129 208.062 Z\" fill=\"#000000\" fill-rule=\"evenodd\" fill-opacity=\"1\" /><path clip-path=\"url(#clip6700)\" d=\"M 0 0 M150.869 212.067 L155.175 212.067 L155.175 247.252 L150.869 247.252 L150.869 212.067 Z\" fill=\"#000000\" fill-rule=\"evenodd\" fill-opacity=\"1\" /><path clip-path=\"url(#clip6700)\" d=\"M 0 0 M170.244 211.141 Q166.633 211.141 164.804 214.705 Q162.999 218.247 162.999 225.377 Q162.999 232.483 164.804 236.048 Q166.633 239.59 170.244 239.59 Q173.878 239.59 175.684 236.048 Q177.513 232.483 177.513 225.377 Q177.513 218.247 175.684 214.705 Q173.878 211.141 170.244 211.141 M170.244 207.437 Q176.054 207.437 179.11 212.043 Q182.189 216.627 182.189 225.377 Q182.189 234.103 179.11 238.71 Q176.054 243.293 170.244 243.293 Q164.434 243.293 161.355 238.71 Q158.3 234.103 158.3 225.377 Q158.3 216.627 161.355 212.043 Q164.434 207.437 170.244 207.437 Z\" fill=\"#000000\" fill-rule=\"evenodd\" fill-opacity=\"1\" /><path clip-path=\"url(#clip6700)\" d=\"M 0 0 M194.884 200.071 Q197.611 200.654 199.134 202.497 Q200.677 204.341 200.677 207.049 Q200.677 211.205 197.818 213.481 Q194.959 215.757 189.693 215.757 Q187.925 215.757 186.044 215.4 Q184.182 215.061 182.189 214.365 L182.189 210.698 Q183.768 211.619 185.649 212.089 Q187.53 212.56 189.58 212.56 Q193.153 212.56 195.015 211.149 Q196.896 209.738 196.896 207.049 Q196.896 204.566 195.147 203.175 Q193.417 201.764 190.313 201.764 L187.041 201.764 L187.041 198.642 L190.464 198.642 Q193.266 198.642 194.752 197.532 Q196.238 196.404 196.238 194.297 Q196.238 192.134 194.696 190.987 Q193.172 189.821 190.313 189.821 Q188.752 189.821 186.966 190.16 Q185.179 190.498 183.035 191.213 L183.035 187.827 Q185.198 187.226 187.079 186.925 Q188.978 186.624 190.652 186.624 Q194.978 186.624 197.498 188.599 Q200.018 190.555 200.018 193.902 Q200.018 196.235 198.683 197.852 Q197.348 199.451 194.884 200.071 Z\" fill=\"#000000\" fill-rule=\"evenodd\" fill-opacity=\"1\" /><polyline clip-path=\"url(#clip6702)\" style=\"stroke:#009af9; stroke-width:4; stroke-opacity:1; fill:none\" points=\"\n",
       "  284.905,87.9763 318.366,88.7895 351.826,89.7703 385.286,90.939 418.747,92.3192 452.207,93.9389 485.667,95.8312 519.128,98.0354 552.588,100.599 586.049,103.578 \n",
       "  619.509,107.043 652.969,111.076 686.43,115.78 719.89,121.281 753.35,127.737 786.811,135.342 820.271,144.341 853.731,155.04 887.192,167.829 920.652,183.198 \n",
       "  954.113,201.763 987.573,224.298 1021.03,251.754 1054.49,285.272 1087.95,326.152 1121.41,375.752 1154.87,435.264 1188.34,505.324 1221.8,585.506 1255.26,673.863 \n",
       "  1288.72,766.84 1322.18,859.819 1355.64,948.181 1389.1,1028.37 1422.56,1098.44 1456.02,1157.96 1489.48,1207.57 1522.94,1248.45 1556.4,1281.97 1589.86,1309.43 \n",
       "  1623.32,1331.96 1656.78,1350.53 1690.24,1365.9 1723.7,1378.68 1757.16,1389.38 1790.62,1398.38 1824.08,1405.98 1857.54,1412.44 1891,1417.94 1924.46,1422.64 \n",
       "  1957.92,1426.67 1991.38,1430.13 2024.84,1433.11 2058.3,1435.67 2091.77,1437.87 2125.23,1439.76 2158.69,1441.38 2192.15,1442.76 2225.61,1443.93 2259.07,1444.9 \n",
       "  2292.53,1445.72 \n",
       "  \"/>\n",
       "<path clip-path=\"url(#clip6700)\" d=\"\n",
       "M1989.74 251.724 L2280.76 251.724 L2280.76 130.764 L1989.74 130.764  Z\n",
       "  \" fill=\"#ffffff\" fill-rule=\"evenodd\" fill-opacity=\"1\"/>\n",
       "<polyline clip-path=\"url(#clip6700)\" style=\"stroke:#000000; stroke-width:4; stroke-opacity:1; fill:none\" points=\"\n",
       "  1989.74,251.724 2280.76,251.724 2280.76,130.764 1989.74,130.764 1989.74,251.724 \n",
       "  \"/>\n",
       "<polyline clip-path=\"url(#clip6700)\" style=\"stroke:#009af9; stroke-width:4; stroke-opacity:1; fill:none\" points=\"\n",
       "  2013.74,191.244 2157.74,191.244 \n",
       "  \"/>\n",
       "<path clip-path=\"url(#clip6700)\" d=\"M 0 0 M2195.58 210.931 Q2193.77 215.561 2192.06 216.973 Q2190.35 218.385 2187.48 218.385 L2184.08 218.385 L2184.08 214.82 L2186.58 214.82 Q2188.33 214.82 2189.31 213.987 Q2190.28 213.154 2191.46 210.052 L2192.22 208.107 L2181.74 182.598 L2186.25 182.598 L2194.35 202.876 L2202.46 182.598 L2206.97 182.598 L2195.58 210.931 Z\" fill=\"#000000\" fill-rule=\"evenodd\" fill-opacity=\"1\" /><path clip-path=\"url(#clip6700)\" d=\"M 0 0 M2212.85 204.589 L2220.49 204.589 L2220.49 178.223 L2212.18 179.89 L2212.18 175.631 L2220.44 173.964 L2225.12 173.964 L2225.12 204.589 L2232.76 204.589 L2232.76 208.524 L2212.85 208.524 L2212.85 204.589 Z\" fill=\"#000000\" fill-rule=\"evenodd\" fill-opacity=\"1\" /></svg>\n"
      ]
     },
     "execution_count": 31,
     "metadata": {},
     "output_type": "execute_result"
    },
    {
     "name": "stderr",
     "output_type": "stream",
     "text": [
      "GKS: character ignored due to unicode error\n",
      "GKS: character ignored due to unicode error\n",
      "GKS: character ignored due to unicode error\n",
      "GKS: character ignored due to unicode error\n",
      "GKS: character ignored due to unicode error\n",
      "GKS: character ignored due to unicode error\n",
      "GKS: character ignored due to unicode error\n",
      "GKS: character ignored due to unicode error\n",
      "GKS: character ignored due to unicode error\n",
      "GKS: character ignored due to unicode error\n",
      "GKS: character ignored due to unicode error\n",
      "GKS: character ignored due to unicode error\n",
      "GKS: character ignored due to unicode error\n",
      "GKS: character ignored due to unicode error\n",
      "GKS: character ignored due to unicode error\n",
      "GKS: character ignored due to unicode error\n",
      "GKS: character ignored due to unicode error\n",
      "GKS: character ignored due to unicode error\n",
      "GKS: character ignored due to unicode error\n",
      "GKS: character ignored due to unicode error\n",
      "GKS: character ignored due to unicode error\n",
      "GKS: character ignored due to unicode error\n",
      "GKS: character ignored due to unicode error\n",
      "GKS: character ignored due to unicode error\n",
      "GKS: character ignored due to unicode error\n",
      "GKS: character ignored due to unicode error\n",
      "GKS: character ignored due to unicode error\n",
      "GKS: character ignored due to unicode error\n",
      "GKS: character ignored due to unicode error\n",
      "GKS: character ignored due to unicode error\n",
      "GKS: character ignored due to unicode error\n",
      "GKS: character ignored due to unicode error\n",
      "GKS: character ignored due to unicode error\n",
      "GKS: character ignored due to unicode error\n",
      "GKS: character ignored due to unicode error\n",
      "GKS: character ignored due to unicode error\n",
      "GKS: character ignored due to unicode error\n",
      "GKS: character ignored due to unicode error\n",
      "GKS: character ignored due to unicode error\n",
      "GKS: character ignored due to unicode error\n",
      "GKS: character ignored due to unicode error\n",
      "GKS: character ignored due to unicode error\n"
     ]
    }
   ],
   "source": [
    "plot(thist,yhist)"
   ]
  },
  {
   "cell_type": "code",
   "execution_count": 32,
   "metadata": {},
   "outputs": [
    {
     "data": {
      "text/plain": [
       "lsobj (generic function with 1 method)"
      ]
     },
     "execution_count": 32,
     "metadata": {},
     "output_type": "execute_result"
    }
   ],
   "source": [
    "function lsobj(x)\n",
    "    Qinv = Array(Diagonal([1e6*ones(3); 1e8*ones(3)]))\n",
    "    Rinv = 1/(3e-5*3e-5)\n",
    "    cost = 0.0\n",
    "    xhist = reshape(x,6,:)\n",
    "    for k = 1:(size(xhist,2)-1)\n",
    "        ex = (xhist[:,k+1]-f_d(xhist[:,k]))\n",
    "        cost = cost + ex'*Qinv*ex\n",
    "    end\n",
    "    for k = 1:(size(xhist,2))\n",
    "        ey = (yhist[k]-g(xhist[:,k],thist[k]))\n",
    "        cost = cost + ey'*Rinv*ey\n",
    "    end\n",
    "    return cost\n",
    "end"
   ]
  },
  {
   "cell_type": "code",
   "execution_count": 33,
   "metadata": {},
   "outputs": [
    {
     "data": {
      "text/plain": [
       "hessobj! (generic function with 1 method)"
      ]
     },
     "execution_count": 33,
     "metadata": {},
     "output_type": "execute_result"
    }
   ],
   "source": [
    "function gradobj!(g,x)\n",
    "    ForwardDiff.gradient!(g,lsobj,x)\n",
    "end\n",
    "\n",
    "function hessobj!(H,x)\n",
    "    ForwardDiff.hessian!(H,lsobj,x)\n",
    "end"
   ]
  },
  {
   "cell_type": "code",
   "execution_count": null,
   "metadata": {},
   "outputs": [],
   "source": [
    "#This is really slow with more than a couple dozen measurements\n",
    "#result = optimize(lsobj, gradobj!, hessobj!, xhist[:]+.01*randn(length(xhist[:])), Newton())"
   ]
  },
  {
   "cell_type": "code",
   "execution_count": 75,
   "metadata": {},
   "outputs": [],
   "source": [
    "#error = xhist - reshape(result.minimizer,6,:)"
   ]
  },
  {
   "cell_type": "code",
   "execution_count": null,
   "metadata": {},
   "outputs": [],
   "source": []
  }
 ],
 "metadata": {
  "kernelspec": {
   "display_name": "Julia 1.5.3",
   "language": "julia",
   "name": "julia-1.5"
  },
  "language_info": {
   "file_extension": ".jl",
   "mimetype": "application/julia",
   "name": "julia",
   "version": "1.5.3"
  }
 },
 "nbformat": 4,
 "nbformat_minor": 4
}
