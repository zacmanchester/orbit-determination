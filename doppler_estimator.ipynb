{
 "cells": [
  {
   "cell_type": "code",
   "execution_count": 35,
   "metadata": {},
   "outputs": [],
   "source": [
    "using LinearAlgebra\n",
    "using DifferentialEquations\n",
    "using ForwardDiff\n",
    "using Geodesy\n",
    "using ForwardDiff\n",
    "using Optim\n",
    "using Plots"
   ]
  },
  {
   "cell_type": "code",
   "execution_count": 36,
   "metadata": {},
   "outputs": [
    {
     "data": {
      "text/plain": [
       "3-element Array{Float64,1}:\n",
       "   848.4495513714031\n",
       " -4786.358163650972\n",
       "  4115.532370991342"
      ]
     },
     "execution_count": 36,
     "metadata": {},
     "output_type": "execute_result"
    }
   ],
   "source": [
    "#GS Locations\n",
    "wean_lla = LLA(40.4427217, -79.9479335, 17.0)\n",
    "wean_ecef = ECEF(wean_lla, wgs84)\n",
    "gs_ecef = Array(wean_ecef)./(1000.0)"
   ]
  },
  {
   "cell_type": "code",
   "execution_count": 37,
   "metadata": {},
   "outputs": [
    {
     "data": {
      "text/plain": [
       "eci2ecef (generic function with 1 method)"
      ]
     },
     "execution_count": 37,
     "metadata": {},
     "output_type": "execute_result"
    }
   ],
   "source": [
    "function ecef2eci(x_ecef,t)\n",
    "    Ω = 2*pi/86164.0905 #rad/sec\n",
    "    θ = Ω*t\n",
    "    c = cos(Ω*t)\n",
    "    s = sin(Ω*t)\n",
    "    \n",
    "    x_eci = [c -s 0; s c 0; 0 0 1]*x_ecef\n",
    "end\n",
    "\n",
    "function ecef2eci(x_ecef,v_ecef,t)\n",
    "    Ω = 2*pi/86164.0905 #rad/sec\n",
    "    θ = Ω*t\n",
    "    c = cos(Ω*t)\n",
    "    s = sin(Ω*t)\n",
    "    \n",
    "    x_eci = [c -s 0; s c 0; 0 0 1]*x_ecef\n",
    "    v_eci = [c -s 0; s c 0; 0 0 1]*(v_ecef + cross([0;0;Ω],x_ecef))\n",
    "end\n",
    "\n",
    "function eci2ecef(x_eci,t)\n",
    "    Ω = 2*pi/86164.0905 #rad/sec\n",
    "    θ = Ω*t\n",
    "    c = cos(Ω*t)\n",
    "    s = sin(Ω*t)\n",
    "    \n",
    "    x_ecef = [c -s 0; s c 0; 0 0 1]'*x_eci\n",
    "end"
   ]
  },
  {
   "cell_type": "code",
   "execution_count": 38,
   "metadata": {},
   "outputs": [
    {
     "data": {
      "text/plain": [
       "3-element Array{Float64,1}:\n",
       "  0.0\n",
       " -9.094947017729282e-13\n",
       "  0.0"
      ]
     },
     "execution_count": 38,
     "metadata": {},
     "output_type": "execute_result"
    }
   ],
   "source": [
    "gs_eci = ecef2eci(gs_ecef, 100.0)\n",
    "gs_ecef - eci2ecef(gs_eci, 100.0)"
   ]
  },
  {
   "cell_type": "code",
   "execution_count": 39,
   "metadata": {},
   "outputs": [
    {
     "data": {
      "text/plain": [
       "A (generic function with 1 method)"
      ]
     },
     "execution_count": 39,
     "metadata": {},
     "output_type": "execute_result"
    }
   ],
   "source": [
    "function dynamics!(xdot,x,params,t)\n",
    "    μ = 398600.44 #km^3/s^2\n",
    "    r = x[1:3]\n",
    "    v = x[4:6]\n",
    "    \n",
    "    a = -(μ/(norm(r)^3)).*r\n",
    "    \n",
    "    xdot .= [v; a]\n",
    "end\n",
    "\n",
    "function backward_dynamics!(xdot,x,params,t)\n",
    "    μ = 398600.44 #km^3/s^2\n",
    "    r = x[1:3]\n",
    "    v = x[4:6]\n",
    "    \n",
    "    a = -(μ/(norm(r)^3)).*r\n",
    "    \n",
    "    xdot .= [-v; -a]\n",
    "end\n",
    "\n",
    "function f_c(x)\n",
    "    μ = 398600.44 #km^3/s^2\n",
    "    r = x[1:3]\n",
    "    v = x[4:6]\n",
    "    \n",
    "    a = -(μ/(norm(r)^3)).*r\n",
    "    \n",
    "    return [v; a]\n",
    "end\n",
    "\n",
    "function f_d(x)\n",
    "    h = 0.1 #RK4 step (seconds)\n",
    "    \n",
    "    k1 = f_c(x)\n",
    "    k2 = f_c(x + 0.5*h*k1)\n",
    "    k3 = f_c(x + 0.5*h*k2)\n",
    "    k4 = f_c(x + h*k3)\n",
    "    \n",
    "    return x + (h/6.0)*(k1 + 2*k2 + 2*k3 + k4)\n",
    "end\n",
    "\n",
    "function A(x)\n",
    "    return ForwardDiff.jacobian(f_d, x)\n",
    "end"
   ]
  },
  {
   "cell_type": "code",
   "execution_count": 40,
   "metadata": {},
   "outputs": [
    {
     "data": {
      "text/plain": [
       "C (generic function with 1 method)"
      ]
     },
     "execution_count": 40,
     "metadata": {},
     "output_type": "execute_result"
    }
   ],
   "source": [
    "function g(x,t)\n",
    "    x_gs = ecef2eci(gs_ecef,t)\n",
    "    v_gs = ecef2eci(gs_ecef,[0.0; 0.0; 0.0],t)\n",
    "    v_sat = x[4:6]\n",
    "    \n",
    "    r = x[1:3]-x_gs\n",
    "    \n",
    "    v_r = ((v_sat-v_gs)'*r)/norm(r)\n",
    "    dopp = -(v_r/3e5)*400e6\n",
    "end\n",
    "\n",
    "function g_diffable(xt)\n",
    "    return g(xt[1:end-1], xt[end])\n",
    "end\n",
    "\n",
    "function C(x,t)\n",
    "    C1 = ForwardDiff.gradient(g_diffable, [x; t])\n",
    "    return C1[1:end-1]'\n",
    "end"
   ]
  },
  {
   "cell_type": "code",
   "execution_count": 41,
   "metadata": {},
   "outputs": [
    {
     "data": {
      "text/plain": [
       "6-element Array{Float64,1}:\n",
       "   921.9556818709577\n",
       " -5201.028272470356\n",
       "  4472.084930949979\n",
       "     0.8559101404321281\n",
       "    -4.82844558216481\n",
       "    -5.791927837238977"
      ]
     },
     "execution_count": 41,
     "metadata": {},
     "output_type": "execute_result"
    }
   ],
   "source": [
    "#Initial Conditions (polar orbit passing directly over GS at t=0)\n",
    "μ = 398600.44 #km^3/s^2\n",
    "Re = 6371.0 #km\n",
    "r0 = (Re+550)*(gs_ecef/norm(gs_ecef))\n",
    "v0 = cross(r0, cross(r0,[0;0;1]))\n",
    "v0 = sqrt(μ/norm(r0))*v0/norm(v0)\n",
    "x0 = [r0; v0]"
   ]
  },
  {
   "cell_type": "code",
   "execution_count": 42,
   "metadata": {},
   "outputs": [],
   "source": [
    "#Integrate backward for 5 minutes\n",
    "tspan = (0.0,5.0*60.0)\n",
    "prob1 = ODEProblem(backward_dynamics!,[r0; v0],tspan)\n",
    "soln1 = solve(prob1, Tsit5(), reltol=1e-9, abstol=1e-9)\n",
    "\n",
    "#Integrate forward for 5 minutes\n",
    "tspan = (0.0,5.0*60.0)\n",
    "prob2 = ODEProblem(dynamics!,[r0; v0],tspan)\n",
    "soln2 = solve(prob2, Tsit5(), reltol=1e-9, abstol=1e-9)\n",
    "\n",
    "#Sample satellite state every 10 seconds\n",
    "thist = Array(range(-5.0*60.0, 5.0*60.0, step=10.0))\n",
    "xhist = zeros(6,length(thist))\n",
    "for k = 1:length(thist)\n",
    "    if thist[k] < 0.0\n",
    "        xhist[:,k] .= soln1(-thist[k])\n",
    "    else\n",
    "        xhist[:,k] .= soln2(thist[k])\n",
    "    end\n",
    "end"
   ]
  },
  {
   "cell_type": "code",
   "execution_count": 43,
   "metadata": {},
   "outputs": [],
   "source": [
    "#Calculate elevation\n",
    "ele = zeros(length(thist))\n",
    "for k = 1:length(thist)\n",
    "    gs_eci = ecef2eci(gs_ecef,thist[k])\n",
    "    y = (xhist[1:3,k]-gs_eci)\n",
    "    ele[k] = (y/norm(y))'*(gs_eci/norm(gs_eci))\n",
    "end"
   ]
  },
  {
   "cell_type": "code",
   "execution_count": 44,
   "metadata": {},
   "outputs": [
    {
     "data": {
      "image/svg+xml": [
       "<?xml version=\"1.0\" encoding=\"utf-8\"?>\n",
       "<svg xmlns=\"http://www.w3.org/2000/svg\" xmlns:xlink=\"http://www.w3.org/1999/xlink\" width=\"600\" height=\"400\" viewBox=\"0 0 2400 1600\">\n",
       "<defs>\n",
       "  <clipPath id=\"clip7100\">\n",
       "    <rect x=\"0\" y=\"0\" width=\"2400\" height=\"1600\"/>\n",
       "  </clipPath>\n",
       "</defs>\n",
       "<path clip-path=\"url(#clip7100)\" d=\"\n",
       "M0 1600 L2400 1600 L2400 0 L0 0  Z\n",
       "  \" fill=\"#ffffff\" fill-rule=\"evenodd\" fill-opacity=\"1\"/>\n",
       "<defs>\n",
       "  <clipPath id=\"clip7101\">\n",
       "    <rect x=\"480\" y=\"0\" width=\"1681\" height=\"1600\"/>\n",
       "  </clipPath>\n",
       "</defs>\n",
       "<path clip-path=\"url(#clip7100)\" d=\"\n",
       "M148.334 1486.45 L2352.76 1486.45 L2352.76 47.2441 L148.334 47.2441  Z\n",
       "  \" fill=\"#ffffff\" fill-rule=\"evenodd\" fill-opacity=\"1\"/>\n",
       "<defs>\n",
       "  <clipPath id=\"clip7102\">\n",
       "    <rect x=\"148\" y=\"47\" width=\"2205\" height=\"1440\"/>\n",
       "  </clipPath>\n",
       "</defs>\n",
       "<polyline clip-path=\"url(#clip7102)\" style=\"stroke:#000000; stroke-width:2; stroke-opacity:0.1; fill:none\" points=\"\n",
       "  176.063,1486.45 176.063,47.2441 \n",
       "  \"/>\n",
       "<polyline clip-path=\"url(#clip7102)\" style=\"stroke:#000000; stroke-width:2; stroke-opacity:0.1; fill:none\" points=\"\n",
       "  522.67,1486.45 522.67,47.2441 \n",
       "  \"/>\n",
       "<polyline clip-path=\"url(#clip7102)\" style=\"stroke:#000000; stroke-width:2; stroke-opacity:0.1; fill:none\" points=\"\n",
       "  869.277,1486.45 869.277,47.2441 \n",
       "  \"/>\n",
       "<polyline clip-path=\"url(#clip7102)\" style=\"stroke:#000000; stroke-width:2; stroke-opacity:0.1; fill:none\" points=\"\n",
       "  1215.88,1486.45 1215.88,47.2441 \n",
       "  \"/>\n",
       "<polyline clip-path=\"url(#clip7102)\" style=\"stroke:#000000; stroke-width:2; stroke-opacity:0.1; fill:none\" points=\"\n",
       "  1562.49,1486.45 1562.49,47.2441 \n",
       "  \"/>\n",
       "<polyline clip-path=\"url(#clip7102)\" style=\"stroke:#000000; stroke-width:2; stroke-opacity:0.1; fill:none\" points=\"\n",
       "  1909.1,1486.45 1909.1,47.2441 \n",
       "  \"/>\n",
       "<polyline clip-path=\"url(#clip7102)\" style=\"stroke:#000000; stroke-width:2; stroke-opacity:0.1; fill:none\" points=\"\n",
       "  2255.71,1486.45 2255.71,47.2441 \n",
       "  \"/>\n",
       "<polyline clip-path=\"url(#clip7102)\" style=\"stroke:#000000; stroke-width:2; stroke-opacity:0.1; fill:none\" points=\"\n",
       "  148.334,1268.51 2352.76,1268.51 \n",
       "  \"/>\n",
       "<polyline clip-path=\"url(#clip7102)\" style=\"stroke:#000000; stroke-width:2; stroke-opacity:0.1; fill:none\" points=\"\n",
       "  148.334,973.374 2352.76,973.374 \n",
       "  \"/>\n",
       "<polyline clip-path=\"url(#clip7102)\" style=\"stroke:#000000; stroke-width:2; stroke-opacity:0.1; fill:none\" points=\"\n",
       "  148.334,678.242 2352.76,678.242 \n",
       "  \"/>\n",
       "<polyline clip-path=\"url(#clip7102)\" style=\"stroke:#000000; stroke-width:2; stroke-opacity:0.1; fill:none\" points=\"\n",
       "  148.334,383.109 2352.76,383.109 \n",
       "  \"/>\n",
       "<polyline clip-path=\"url(#clip7102)\" style=\"stroke:#000000; stroke-width:2; stroke-opacity:0.1; fill:none\" points=\"\n",
       "  148.334,87.9763 2352.76,87.9763 \n",
       "  \"/>\n",
       "<polyline clip-path=\"url(#clip7100)\" style=\"stroke:#000000; stroke-width:4; stroke-opacity:1; fill:none\" points=\"\n",
       "  148.334,1486.45 2352.76,1486.45 \n",
       "  \"/>\n",
       "<polyline clip-path=\"url(#clip7100)\" style=\"stroke:#000000; stroke-width:4; stroke-opacity:1; fill:none\" points=\"\n",
       "  148.334,1486.45 148.334,47.2441 \n",
       "  \"/>\n",
       "<polyline clip-path=\"url(#clip7100)\" style=\"stroke:#000000; stroke-width:4; stroke-opacity:1; fill:none\" points=\"\n",
       "  176.063,1486.45 176.063,1469.18 \n",
       "  \"/>\n",
       "<polyline clip-path=\"url(#clip7100)\" style=\"stroke:#000000; stroke-width:4; stroke-opacity:1; fill:none\" points=\"\n",
       "  522.67,1486.45 522.67,1469.18 \n",
       "  \"/>\n",
       "<polyline clip-path=\"url(#clip7100)\" style=\"stroke:#000000; stroke-width:4; stroke-opacity:1; fill:none\" points=\"\n",
       "  869.277,1486.45 869.277,1469.18 \n",
       "  \"/>\n",
       "<polyline clip-path=\"url(#clip7100)\" style=\"stroke:#000000; stroke-width:4; stroke-opacity:1; fill:none\" points=\"\n",
       "  1215.88,1486.45 1215.88,1469.18 \n",
       "  \"/>\n",
       "<polyline clip-path=\"url(#clip7100)\" style=\"stroke:#000000; stroke-width:4; stroke-opacity:1; fill:none\" points=\"\n",
       "  1562.49,1486.45 1562.49,1469.18 \n",
       "  \"/>\n",
       "<polyline clip-path=\"url(#clip7100)\" style=\"stroke:#000000; stroke-width:4; stroke-opacity:1; fill:none\" points=\"\n",
       "  1909.1,1486.45 1909.1,1469.18 \n",
       "  \"/>\n",
       "<polyline clip-path=\"url(#clip7100)\" style=\"stroke:#000000; stroke-width:4; stroke-opacity:1; fill:none\" points=\"\n",
       "  2255.71,1486.45 2255.71,1469.18 \n",
       "  \"/>\n",
       "<polyline clip-path=\"url(#clip7100)\" style=\"stroke:#000000; stroke-width:4; stroke-opacity:1; fill:none\" points=\"\n",
       "  148.334,1268.51 174.787,1268.51 \n",
       "  \"/>\n",
       "<polyline clip-path=\"url(#clip7100)\" style=\"stroke:#000000; stroke-width:4; stroke-opacity:1; fill:none\" points=\"\n",
       "  148.334,973.374 174.787,973.374 \n",
       "  \"/>\n",
       "<polyline clip-path=\"url(#clip7100)\" style=\"stroke:#000000; stroke-width:4; stroke-opacity:1; fill:none\" points=\"\n",
       "  148.334,678.242 174.787,678.242 \n",
       "  \"/>\n",
       "<polyline clip-path=\"url(#clip7100)\" style=\"stroke:#000000; stroke-width:4; stroke-opacity:1; fill:none\" points=\"\n",
       "  148.334,383.109 174.787,383.109 \n",
       "  \"/>\n",
       "<polyline clip-path=\"url(#clip7100)\" style=\"stroke:#000000; stroke-width:4; stroke-opacity:1; fill:none\" points=\"\n",
       "  148.334,87.9763 174.787,87.9763 \n",
       "  \"/>\n",
       "<path clip-path=\"url(#clip7100)\" d=\"M 0 0 M176.063 1508.44 Q172.452 1508.44 170.623 1512 Q168.818 1515.55 168.818 1522.67 Q168.818 1529.78 170.623 1533.35 Q172.452 1536.89 176.063 1536.89 Q179.697 1536.89 181.503 1533.35 Q183.331 1529.78 183.331 1522.67 Q183.331 1515.55 181.503 1512 Q179.697 1508.44 176.063 1508.44 M176.063 1504.73 Q181.873 1504.73 184.929 1509.34 Q188.007 1513.92 188.007 1522.67 Q188.007 1531.4 184.929 1536.01 Q181.873 1540.59 176.063 1540.59 Q170.253 1540.59 167.174 1536.01 Q164.119 1531.4 164.119 1522.67 Q164.119 1513.92 167.174 1509.34 Q170.253 1504.73 176.063 1504.73 Z\" fill=\"#000000\" fill-rule=\"evenodd\" fill-opacity=\"1\" /><path clip-path=\"url(#clip7100)\" d=\"M 0 0 M499.545 1535.98 L507.184 1535.98 L507.184 1509.62 L498.874 1511.29 L498.874 1507.03 L507.138 1505.36 L511.814 1505.36 L511.814 1535.98 L519.453 1535.98 L519.453 1539.92 L499.545 1539.92 L499.545 1535.98 Z\" fill=\"#000000\" fill-rule=\"evenodd\" fill-opacity=\"1\" /><path clip-path=\"url(#clip7100)\" d=\"M 0 0 M534.522 1508.44 Q530.911 1508.44 529.082 1512 Q527.277 1515.55 527.277 1522.67 Q527.277 1529.78 529.082 1533.35 Q530.911 1536.89 534.522 1536.89 Q538.156 1536.89 539.962 1533.35 Q541.79 1529.78 541.79 1522.67 Q541.79 1515.55 539.962 1512 Q538.156 1508.44 534.522 1508.44 M534.522 1504.73 Q540.332 1504.73 543.388 1509.34 Q546.466 1513.92 546.466 1522.67 Q546.466 1531.4 543.388 1536.01 Q540.332 1540.59 534.522 1540.59 Q528.712 1540.59 525.633 1536.01 Q522.578 1531.4 522.578 1522.67 Q522.578 1513.92 525.633 1509.34 Q528.712 1504.73 534.522 1504.73 Z\" fill=\"#000000\" fill-rule=\"evenodd\" fill-opacity=\"1\" /><path clip-path=\"url(#clip7100)\" d=\"M 0 0 M850.423 1535.98 L866.743 1535.98 L866.743 1539.92 L844.798 1539.92 L844.798 1535.98 Q847.46 1533.23 852.044 1528.6 Q856.65 1523.95 857.831 1522.61 Q860.076 1520.08 860.956 1518.35 Q861.858 1516.59 861.858 1514.9 Q861.858 1512.14 859.914 1510.41 Q857.993 1508.67 854.891 1508.67 Q852.692 1508.67 850.238 1509.43 Q847.807 1510.2 845.03 1511.75 L845.03 1507.03 Q847.854 1505.89 850.307 1505.31 Q852.761 1504.73 854.798 1504.73 Q860.169 1504.73 863.363 1507.42 Q866.557 1510.11 866.557 1514.6 Q866.557 1516.73 865.747 1518.65 Q864.96 1520.54 862.854 1523.14 Q862.275 1523.81 859.173 1527.03 Q856.071 1530.22 850.423 1535.98 Z\" fill=\"#000000\" fill-rule=\"evenodd\" fill-opacity=\"1\" /><path clip-path=\"url(#clip7100)\" d=\"M 0 0 M881.812 1508.44 Q878.201 1508.44 876.372 1512 Q874.567 1515.55 874.567 1522.67 Q874.567 1529.78 876.372 1533.35 Q878.201 1536.89 881.812 1536.89 Q885.446 1536.89 887.252 1533.35 Q889.08 1529.78 889.08 1522.67 Q889.08 1515.55 887.252 1512 Q885.446 1508.44 881.812 1508.44 M881.812 1504.73 Q887.622 1504.73 890.678 1509.34 Q893.756 1513.92 893.756 1522.67 Q893.756 1531.4 890.678 1536.01 Q887.622 1540.59 881.812 1540.59 Q876.002 1540.59 872.923 1536.01 Q869.868 1531.4 869.868 1522.67 Q869.868 1513.92 872.923 1509.34 Q876.002 1504.73 881.812 1504.73 Z\" fill=\"#000000\" fill-rule=\"evenodd\" fill-opacity=\"1\" /><path clip-path=\"url(#clip7100)\" d=\"M 0 0 M1206.63 1521.29 Q1209.98 1522 1211.86 1524.27 Q1213.75 1526.54 1213.75 1529.87 Q1213.75 1534.99 1210.24 1537.79 Q1206.72 1540.59 1200.24 1540.59 Q1198.06 1540.59 1195.75 1540.15 Q1193.45 1539.73 1191 1538.88 L1191 1534.36 Q1192.94 1535.5 1195.26 1536.08 Q1197.57 1536.66 1200.1 1536.66 Q1204.5 1536.66 1206.79 1534.92 Q1209.1 1533.18 1209.1 1529.87 Q1209.1 1526.82 1206.95 1525.11 Q1204.82 1523.37 1201 1523.37 L1196.97 1523.37 L1196.97 1519.53 L1201.19 1519.53 Q1204.63 1519.53 1206.46 1518.16 Q1208.29 1516.77 1208.29 1514.18 Q1208.29 1511.52 1206.39 1510.11 Q1204.52 1508.67 1201 1508.67 Q1199.08 1508.67 1196.88 1509.09 Q1194.68 1509.5 1192.04 1510.38 L1192.04 1506.22 Q1194.7 1505.48 1197.02 1505.11 Q1199.36 1504.73 1201.42 1504.73 Q1206.74 1504.73 1209.84 1507.17 Q1212.94 1509.57 1212.94 1513.69 Q1212.94 1516.56 1211.3 1518.55 Q1209.66 1520.52 1206.63 1521.29 Z\" fill=\"#000000\" fill-rule=\"evenodd\" fill-opacity=\"1\" /><path clip-path=\"url(#clip7100)\" d=\"M 0 0 M1228.82 1508.44 Q1225.21 1508.44 1223.38 1512 Q1221.58 1515.55 1221.58 1522.67 Q1221.58 1529.78 1223.38 1533.35 Q1225.21 1536.89 1228.82 1536.89 Q1232.46 1536.89 1234.26 1533.35 Q1236.09 1529.78 1236.09 1522.67 Q1236.09 1515.55 1234.26 1512 Q1232.46 1508.44 1228.82 1508.44 M1228.82 1504.73 Q1234.63 1504.73 1237.69 1509.34 Q1240.77 1513.92 1240.77 1522.67 Q1240.77 1531.4 1237.69 1536.01 Q1234.63 1540.59 1228.82 1540.59 Q1223.01 1540.59 1219.94 1536.01 Q1216.88 1531.4 1216.88 1522.67 Q1216.88 1513.92 1219.94 1509.34 Q1223.01 1504.73 1228.82 1504.73 Z\" fill=\"#000000\" fill-rule=\"evenodd\" fill-opacity=\"1\" /><path clip-path=\"url(#clip7100)\" d=\"M 0 0 M1551.99 1509.43 L1540.19 1527.88 L1551.99 1527.88 L1551.99 1509.43 M1550.77 1505.36 L1556.65 1505.36 L1556.65 1527.88 L1561.58 1527.88 L1561.58 1531.77 L1556.65 1531.77 L1556.65 1539.92 L1551.99 1539.92 L1551.99 1531.77 L1536.39 1531.77 L1536.39 1527.26 L1550.77 1505.36 Z\" fill=\"#000000\" fill-rule=\"evenodd\" fill-opacity=\"1\" /><path clip-path=\"url(#clip7100)\" d=\"M 0 0 M1576.65 1508.44 Q1573.04 1508.44 1571.21 1512 Q1569.4 1515.55 1569.4 1522.67 Q1569.4 1529.78 1571.21 1533.35 Q1573.04 1536.89 1576.65 1536.89 Q1580.28 1536.89 1582.09 1533.35 Q1583.92 1529.78 1583.92 1522.67 Q1583.92 1515.55 1582.09 1512 Q1580.28 1508.44 1576.65 1508.44 M1576.65 1504.73 Q1582.46 1504.73 1585.51 1509.34 Q1588.59 1513.92 1588.59 1522.67 Q1588.59 1531.4 1585.51 1536.01 Q1582.46 1540.59 1576.65 1540.59 Q1570.84 1540.59 1567.76 1536.01 Q1564.7 1531.4 1564.7 1522.67 Q1564.7 1513.92 1567.76 1509.34 Q1570.84 1504.73 1576.65 1504.73 Z\" fill=\"#000000\" fill-rule=\"evenodd\" fill-opacity=\"1\" /><path clip-path=\"url(#clip7100)\" d=\"M 0 0 M1885.87 1505.36 L1904.23 1505.36 L1904.23 1509.3 L1890.15 1509.3 L1890.15 1517.77 Q1891.17 1517.42 1892.19 1517.26 Q1893.21 1517.07 1894.23 1517.07 Q1900.01 1517.07 1903.39 1520.24 Q1906.77 1523.42 1906.77 1528.83 Q1906.77 1534.41 1903.3 1537.51 Q1899.83 1540.59 1893.51 1540.59 Q1891.33 1540.59 1889.06 1540.22 Q1886.82 1539.85 1884.41 1539.11 L1884.41 1534.41 Q1886.49 1535.54 1888.72 1536.1 Q1890.94 1536.66 1893.42 1536.66 Q1897.42 1536.66 1899.76 1534.55 Q1902.1 1532.44 1902.1 1528.83 Q1902.1 1525.22 1899.76 1523.11 Q1897.42 1521.01 1893.42 1521.01 Q1891.54 1521.01 1889.67 1521.42 Q1887.81 1521.84 1885.87 1522.72 L1885.87 1505.36 Z\" fill=\"#000000\" fill-rule=\"evenodd\" fill-opacity=\"1\" /><path clip-path=\"url(#clip7100)\" d=\"M 0 0 M1921.84 1508.44 Q1918.23 1508.44 1916.4 1512 Q1914.6 1515.55 1914.6 1522.67 Q1914.6 1529.78 1916.4 1533.35 Q1918.23 1536.89 1921.84 1536.89 Q1925.48 1536.89 1927.28 1533.35 Q1929.11 1529.78 1929.11 1522.67 Q1929.11 1515.55 1927.28 1512 Q1925.48 1508.44 1921.84 1508.44 M1921.84 1504.73 Q1927.65 1504.73 1930.71 1509.34 Q1933.79 1513.92 1933.79 1522.67 Q1933.79 1531.4 1930.71 1536.01 Q1927.65 1540.59 1921.84 1540.59 Q1916.03 1540.59 1912.95 1536.01 Q1909.9 1531.4 1909.9 1522.67 Q1909.9 1513.92 1912.95 1509.34 Q1916.03 1504.73 1921.84 1504.73 Z\" fill=\"#000000\" fill-rule=\"evenodd\" fill-opacity=\"1\" /><path clip-path=\"url(#clip7100)\" d=\"M 0 0 M2242.6 1520.78 Q2239.46 1520.78 2237.6 1522.93 Q2235.78 1525.08 2235.78 1528.83 Q2235.78 1532.56 2237.6 1534.73 Q2239.46 1536.89 2242.6 1536.89 Q2245.75 1536.89 2247.58 1534.73 Q2249.43 1532.56 2249.43 1528.83 Q2249.43 1525.08 2247.58 1522.93 Q2245.75 1520.78 2242.6 1520.78 M2251.89 1506.12 L2251.89 1510.38 Q2250.13 1509.55 2248.32 1509.11 Q2246.54 1508.67 2244.78 1508.67 Q2240.15 1508.67 2237.7 1511.8 Q2235.27 1514.92 2234.92 1521.24 Q2236.28 1519.23 2238.34 1518.16 Q2240.41 1517.07 2242.88 1517.07 Q2248.09 1517.07 2251.1 1520.24 Q2254.13 1523.39 2254.13 1528.83 Q2254.13 1534.16 2250.98 1537.37 Q2247.84 1540.59 2242.6 1540.59 Q2236.61 1540.59 2233.44 1536.01 Q2230.27 1531.4 2230.27 1522.67 Q2230.27 1514.48 2234.16 1509.62 Q2238.04 1504.73 2244.59 1504.73 Q2246.35 1504.73 2248.14 1505.08 Q2249.94 1505.43 2251.89 1506.12 Z\" fill=\"#000000\" fill-rule=\"evenodd\" fill-opacity=\"1\" /><path clip-path=\"url(#clip7100)\" d=\"M 0 0 M2269.2 1508.44 Q2265.59 1508.44 2263.76 1512 Q2261.96 1515.55 2261.96 1522.67 Q2261.96 1529.78 2263.76 1533.35 Q2265.59 1536.89 2269.2 1536.89 Q2272.84 1536.89 2274.64 1533.35 Q2276.47 1529.78 2276.47 1522.67 Q2276.47 1515.55 2274.64 1512 Q2272.84 1508.44 2269.2 1508.44 M2269.2 1504.73 Q2275.01 1504.73 2278.07 1509.34 Q2281.15 1513.92 2281.15 1522.67 Q2281.15 1531.4 2278.07 1536.01 Q2275.01 1540.59 2269.2 1540.59 Q2263.39 1540.59 2260.31 1536.01 Q2257.26 1531.4 2257.26 1522.67 Q2257.26 1513.92 2260.31 1509.34 Q2263.39 1504.73 2269.2 1504.73 Z\" fill=\"#000000\" fill-rule=\"evenodd\" fill-opacity=\"1\" /><path clip-path=\"url(#clip7100)\" d=\"M 0 0 M77.0198 1254.31 Q73.4087 1254.31 71.58 1257.87 Q69.7745 1261.41 69.7745 1268.54 Q69.7745 1275.65 71.58 1279.21 Q73.4087 1282.75 77.0198 1282.75 Q80.6541 1282.75 82.4596 1279.21 Q84.2883 1275.65 84.2883 1268.54 Q84.2883 1261.41 82.4596 1257.87 Q80.6541 1254.31 77.0198 1254.31 M77.0198 1250.6 Q82.83 1250.6 85.8855 1255.21 Q88.9642 1259.79 88.9642 1268.54 Q88.9642 1277.27 85.8855 1281.87 Q82.83 1286.46 77.0198 1286.46 Q71.2097 1286.46 68.131 1281.87 Q65.0754 1277.27 65.0754 1268.54 Q65.0754 1259.79 68.131 1255.21 Q71.2097 1250.6 77.0198 1250.6 Z\" fill=\"#000000\" fill-rule=\"evenodd\" fill-opacity=\"1\" /><path clip-path=\"url(#clip7100)\" d=\"M 0 0 M94.0336 1279.91 L98.9179 1279.91 L98.9179 1285.79 L94.0336 1285.79 L94.0336 1279.91 Z\" fill=\"#000000\" fill-rule=\"evenodd\" fill-opacity=\"1\" /><path clip-path=\"url(#clip7100)\" d=\"M 0 0 M108.015 1281.85 L124.334 1281.85 L124.334 1285.79 L102.39 1285.79 L102.39 1281.85 Q105.052 1279.1 109.635 1274.47 Q114.242 1269.81 115.422 1268.47 Q117.668 1265.95 118.547 1264.21 Q119.45 1262.45 119.45 1260.76 Q119.45 1258.01 117.506 1256.27 Q115.584 1254.54 112.483 1254.54 Q110.284 1254.54 107.83 1255.3 Q105.399 1256.06 102.622 1257.62 L102.622 1252.89 Q105.446 1251.76 107.899 1251.18 Q110.353 1250.6 112.39 1250.6 Q117.76 1250.6 120.955 1253.29 Q124.149 1255.97 124.149 1260.46 Q124.149 1262.59 123.339 1264.51 Q122.552 1266.41 120.446 1269 Q119.867 1269.68 116.765 1272.89 Q113.663 1276.09 108.015 1281.85 Z\" fill=\"#000000\" fill-rule=\"evenodd\" fill-opacity=\"1\" /><path clip-path=\"url(#clip7100)\" d=\"M 0 0 M74.9365 959.173 Q71.3254 959.173 69.4967 962.738 Q67.6912 966.279 67.6912 973.409 Q67.6912 980.515 69.4967 984.08 Q71.3254 987.622 74.9365 987.622 Q78.5707 987.622 80.3763 984.08 Q82.205 980.515 82.205 973.409 Q82.205 966.279 80.3763 962.738 Q78.5707 959.173 74.9365 959.173 M74.9365 955.469 Q80.7467 955.469 83.8022 960.076 Q86.8809 964.659 86.8809 973.409 Q86.8809 982.136 83.8022 986.742 Q80.7467 991.326 74.9365 991.326 Q69.1264 991.326 66.0477 986.742 Q62.9921 982.136 62.9921 973.409 Q62.9921 964.659 66.0477 960.076 Q69.1264 955.469 74.9365 955.469 Z\" fill=\"#000000\" fill-rule=\"evenodd\" fill-opacity=\"1\" /><path clip-path=\"url(#clip7100)\" d=\"M 0 0 M91.9503 984.775 L96.8345 984.775 L96.8345 990.654 L91.9503 990.654 L91.9503 984.775 Z\" fill=\"#000000\" fill-rule=\"evenodd\" fill-opacity=\"1\" /><path clip-path=\"url(#clip7100)\" d=\"M 0 0 M114.751 960.168 L102.946 978.617 L114.751 978.617 L114.751 960.168 M113.524 956.094 L119.404 956.094 L119.404 978.617 L124.334 978.617 L124.334 982.506 L119.404 982.506 L119.404 990.654 L114.751 990.654 L114.751 982.506 L99.1493 982.506 L99.1493 977.992 L113.524 956.094 Z\" fill=\"#000000\" fill-rule=\"evenodd\" fill-opacity=\"1\" /><path clip-path=\"url(#clip7100)\" d=\"M 0 0 M75.2606 664.04 Q71.6495 664.04 69.8208 667.605 Q68.0152 671.147 68.0152 678.276 Q68.0152 685.383 69.8208 688.948 Q71.6495 692.489 75.2606 692.489 Q78.8948 692.489 80.7004 688.948 Q82.5291 685.383 82.5291 678.276 Q82.5291 671.147 80.7004 667.605 Q78.8948 664.04 75.2606 664.04 M75.2606 660.337 Q81.0707 660.337 84.1263 664.943 Q87.205 669.526 87.205 678.276 Q87.205 687.003 84.1263 691.61 Q81.0707 696.193 75.2606 696.193 Q69.4504 696.193 66.3717 691.61 Q63.3162 687.003 63.3162 678.276 Q63.3162 669.526 66.3717 664.943 Q69.4504 660.337 75.2606 660.337 Z\" fill=\"#000000\" fill-rule=\"evenodd\" fill-opacity=\"1\" /><path clip-path=\"url(#clip7100)\" d=\"M 0 0 M92.2744 689.642 L97.1586 689.642 L97.1586 695.522 L92.2744 695.522 L92.2744 689.642 Z\" fill=\"#000000\" fill-rule=\"evenodd\" fill-opacity=\"1\" /><path clip-path=\"url(#clip7100)\" d=\"M 0 0 M112.807 676.378 Q109.659 676.378 107.807 678.531 Q105.978 680.684 105.978 684.434 Q105.978 688.161 107.807 690.336 Q109.659 692.489 112.807 692.489 Q115.955 692.489 117.783 690.336 Q119.635 688.161 119.635 684.434 Q119.635 680.684 117.783 678.531 Q115.955 676.378 112.807 676.378 M122.089 661.726 L122.089 665.985 Q120.33 665.151 118.524 664.712 Q116.742 664.272 114.983 664.272 Q110.353 664.272 107.899 667.397 Q105.469 670.522 105.122 676.841 Q106.487 674.827 108.547 673.762 Q110.608 672.675 113.084 672.675 Q118.293 672.675 121.302 675.846 Q124.334 678.994 124.334 684.434 Q124.334 689.758 121.186 692.975 Q118.038 696.193 112.807 696.193 Q106.811 696.193 103.64 691.61 Q100.469 687.003 100.469 678.276 Q100.469 670.082 104.358 665.221 Q108.247 660.337 114.797 660.337 Q116.557 660.337 118.339 660.684 Q120.145 661.031 122.089 661.726 Z\" fill=\"#000000\" fill-rule=\"evenodd\" fill-opacity=\"1\" /><path clip-path=\"url(#clip7100)\" d=\"M 0 0 M75.5152 368.908 Q71.9041 368.908 70.0754 372.472 Q68.2699 376.014 68.2699 383.144 Q68.2699 390.25 70.0754 393.815 Q71.9041 397.357 75.5152 397.357 Q79.1494 397.357 80.955 393.815 Q82.7837 390.25 82.7837 383.144 Q82.7837 376.014 80.955 372.472 Q79.1494 368.908 75.5152 368.908 M75.5152 365.204 Q81.3254 365.204 84.3809 369.81 Q87.4596 374.394 87.4596 383.144 Q87.4596 391.87 84.3809 396.477 Q81.3254 401.06 75.5152 401.06 Q69.7051 401.06 66.6264 396.477 Q63.5708 391.87 63.5708 383.144 Q63.5708 374.394 66.6264 369.81 Q69.7051 365.204 75.5152 365.204 Z\" fill=\"#000000\" fill-rule=\"evenodd\" fill-opacity=\"1\" /><path clip-path=\"url(#clip7100)\" d=\"M 0 0 M92.529 394.509 L97.4132 394.509 L97.4132 400.389 L92.529 400.389 L92.529 394.509 Z\" fill=\"#000000\" fill-rule=\"evenodd\" fill-opacity=\"1\" /><path clip-path=\"url(#clip7100)\" d=\"M 0 0 M112.483 383.977 Q109.149 383.977 107.228 385.759 Q105.33 387.542 105.33 390.667 Q105.33 393.792 107.228 395.574 Q109.149 397.357 112.483 397.357 Q115.816 397.357 117.737 395.574 Q119.658 393.769 119.658 390.667 Q119.658 387.542 117.737 385.759 Q115.839 383.977 112.483 383.977 M107.807 381.986 Q104.797 381.246 103.108 379.185 Q101.441 377.125 101.441 374.162 Q101.441 370.019 104.381 367.611 Q107.344 365.204 112.483 365.204 Q117.645 365.204 120.584 367.611 Q123.524 370.019 123.524 374.162 Q123.524 377.125 121.834 379.185 Q120.168 381.246 117.182 381.986 Q120.561 382.773 122.436 385.065 Q124.334 387.357 124.334 390.667 Q124.334 395.69 121.256 398.375 Q118.2 401.06 112.483 401.06 Q106.765 401.06 103.686 398.375 Q100.631 395.69 100.631 390.667 Q100.631 387.357 102.529 385.065 Q104.427 382.773 107.807 381.986 M106.094 374.602 Q106.094 377.287 107.76 378.792 Q109.45 380.296 112.483 380.296 Q115.492 380.296 117.182 378.792 Q118.895 377.287 118.895 374.602 Q118.895 371.917 117.182 370.412 Q115.492 368.908 112.483 368.908 Q109.45 368.908 107.76 370.412 Q106.094 371.917 106.094 374.602 Z\" fill=\"#000000\" fill-rule=\"evenodd\" fill-opacity=\"1\" /><path clip-path=\"url(#clip7100)\" d=\"M 0 0 M67.4597 101.321 L75.0985 101.321 L75.0985 74.9555 L66.7884 76.6222 L66.7884 72.3629 L75.0522 70.6963 L79.7281 70.6963 L79.7281 101.321 L87.367 101.321 L87.367 105.256 L67.4597 105.256 L67.4597 101.321 Z\" fill=\"#000000\" fill-rule=\"evenodd\" fill-opacity=\"1\" /><path clip-path=\"url(#clip7100)\" d=\"M 0 0 M92.4364 99.3767 L97.3206 99.3767 L97.3206 105.256 L92.4364 105.256 L92.4364 99.3767 Z\" fill=\"#000000\" fill-rule=\"evenodd\" fill-opacity=\"1\" /><path clip-path=\"url(#clip7100)\" d=\"M 0 0 M112.39 73.775 Q108.779 73.775 106.95 77.3398 Q105.145 80.8814 105.145 88.011 Q105.145 95.1174 106.95 98.6822 Q108.779 102.224 112.39 102.224 Q116.024 102.224 117.83 98.6822 Q119.658 95.1174 119.658 88.011 Q119.658 80.8814 117.83 77.3398 Q116.024 73.775 112.39 73.775 M112.39 70.0713 Q118.2 70.0713 121.256 74.6777 Q124.334 79.261 124.334 88.011 Q124.334 96.7378 121.256 101.344 Q118.2 105.928 112.39 105.928 Q106.58 105.928 103.501 101.344 Q100.446 96.7378 100.446 88.011 Q100.446 79.261 103.501 74.6777 Q106.58 70.0713 112.39 70.0713 Z\" fill=\"#000000\" fill-rule=\"evenodd\" fill-opacity=\"1\" /><polyline clip-path=\"url(#clip7102)\" style=\"stroke:#009af9; stroke-width:4; stroke-opacity:1; fill:none\" points=\"\n",
       "  210.724,1445.29 245.384,1425.12 280.045,1404.17 314.706,1382.38 349.367,1359.67 384.027,1335.93 418.688,1311.07 453.349,1284.97 488.009,1257.5 522.67,1228.5 \n",
       "  557.331,1197.8 591.992,1165.21 626.652,1130.5 661.313,1093.43 695.974,1053.7 730.634,1011.01 765.295,964.996 799.956,915.276 834.617,861.448 869.277,803.113 \n",
       "  903.938,739.916 938.599,671.62 973.259,598.225 1007.92,520.159 1042.58,438.54 1077.24,355.528 1111.9,274.672 1146.56,201.101 1181.22,141.243 1215.88,101.792 \n",
       "  1250.55,87.9763 1285.21,101.793 1319.87,141.248 1354.53,201.116 1389.19,274.702 1423.85,355.577 1458.51,438.611 1493.17,520.253 1527.83,598.341 1562.49,671.757 \n",
       "  1597.15,740.073 1631.81,803.288 1666.47,861.641 1701.13,915.484 1735.8,965.22 1770.46,1011.25 1805.12,1053.96 1839.78,1093.69 1874.44,1130.78 1909.1,1165.5 \n",
       "  1943.76,1198.1 1978.42,1228.81 2013.08,1257.82 2047.74,1285.31 2082.4,1311.42 2117.06,1336.29 2151.72,1360.04 2186.38,1382.77 2221.05,1404.57 2255.71,1425.53 \n",
       "  2290.37,1445.72 \n",
       "  \"/>\n",
       "<path clip-path=\"url(#clip7100)\" d=\"\n",
       "M1989.74 251.724 L2280.76 251.724 L2280.76 130.764 L1989.74 130.764  Z\n",
       "  \" fill=\"#ffffff\" fill-rule=\"evenodd\" fill-opacity=\"1\"/>\n",
       "<polyline clip-path=\"url(#clip7100)\" style=\"stroke:#000000; stroke-width:4; stroke-opacity:1; fill:none\" points=\"\n",
       "  1989.74,251.724 2280.76,251.724 2280.76,130.764 1989.74,130.764 1989.74,251.724 \n",
       "  \"/>\n",
       "<polyline clip-path=\"url(#clip7100)\" style=\"stroke:#009af9; stroke-width:4; stroke-opacity:1; fill:none\" points=\"\n",
       "  2013.74,191.244 2157.74,191.244 \n",
       "  \"/>\n",
       "<path clip-path=\"url(#clip7100)\" d=\"M 0 0 M2195.58 210.931 Q2193.77 215.561 2192.06 216.973 Q2190.35 218.385 2187.48 218.385 L2184.08 218.385 L2184.08 214.82 L2186.58 214.82 Q2188.33 214.82 2189.31 213.987 Q2190.28 213.154 2191.46 210.052 L2192.22 208.107 L2181.74 182.598 L2186.25 182.598 L2194.35 202.876 L2202.46 182.598 L2206.97 182.598 L2195.58 210.931 Z\" fill=\"#000000\" fill-rule=\"evenodd\" fill-opacity=\"1\" /><path clip-path=\"url(#clip7100)\" d=\"M 0 0 M2212.85 204.589 L2220.49 204.589 L2220.49 178.223 L2212.18 179.89 L2212.18 175.631 L2220.44 173.964 L2225.12 173.964 L2225.12 204.589 L2232.76 204.589 L2232.76 208.524 L2212.85 208.524 L2212.85 204.589 Z\" fill=\"#000000\" fill-rule=\"evenodd\" fill-opacity=\"1\" /></svg>\n"
      ]
     },
     "execution_count": 44,
     "metadata": {},
     "output_type": "execute_result"
    }
   ],
   "source": [
    "plot(ele)"
   ]
  },
  {
   "cell_type": "code",
   "execution_count": 45,
   "metadata": {},
   "outputs": [
    {
     "data": {
      "text/plain": [
       "6.805820639346349e9"
      ]
     },
     "execution_count": 45,
     "metadata": {},
     "output_type": "execute_result"
    }
   ],
   "source": [
    "#Observability Grammian Check\n",
    "Φ = Array(Diagonal(ones(6)))\n",
    "J = zeros(3*length(thist),6)\n",
    "for k = 1:length(thist)\n",
    "    Φ .= A(xhist[:,k])*Φ\n",
    "    J[k,:] .= Φ*C(xhist[:,1],thist[1])' #2 recievers\n",
    "end\n",
    "Jfact = qr(J)\n",
    "cond(Jfact.R)"
   ]
  },
  {
   "cell_type": "code",
   "execution_count": 46,
   "metadata": {},
   "outputs": [
    {
     "data": {
      "text/plain": [
       "6×6 Diagonal{Float64,Array{Float64,1}}:\n",
       " 20.8423   ⋅        ⋅         ⋅         ⋅          ⋅ \n",
       "   ⋅      3.06013   ⋅         ⋅         ⋅          ⋅ \n",
       "   ⋅       ⋅       0.732603   ⋅         ⋅          ⋅ \n",
       "   ⋅       ⋅        ⋅        0.355564   ⋅          ⋅ \n",
       "   ⋅       ⋅        ⋅         ⋅        0.0518617   ⋅ \n",
       "   ⋅       ⋅        ⋅         ⋅         ⋅         0.0129884"
      ]
     },
     "execution_count": 46,
     "metadata": {},
     "output_type": "execute_result"
    }
   ],
   "source": [
    "#Cramer-Rao Bound\n",
    "R = 0.5^2\n",
    "Rinv = 1/R\n",
    "\n",
    "C1 = C(xhist[:,1],thist[1])\n",
    "S = C1'*Rinv*C1 #inverse state covariance (information)\n",
    "for k = 2:length(thist)\n",
    "    Ainv = inv(A(xhist[:,k-1]))\n",
    "    Ck = C(xhist[:,k],thist[k])\n",
    "    S = Ainv'*S*Ainv + Ck'*Rinv*Ck\n",
    "end\n",
    "sqrt(Diagonal(S^-1))"
   ]
  },
  {
   "cell_type": "code",
   "execution_count": 47,
   "metadata": {},
   "outputs": [],
   "source": [
    "#Generate noisy Measurements\n",
    "yhist = zeros(length(thist))\n",
    "for k = 1:length(thist)        \n",
    "        yhist[k] = g(xhist[:,k], thist[k]) + 3e-5*randn()\n",
    "end"
   ]
  },
  {
   "cell_type": "code",
   "execution_count": 48,
   "metadata": {},
   "outputs": [
    {
     "data": {
      "image/svg+xml": [
       "<?xml version=\"1.0\" encoding=\"utf-8\"?>\n",
       "<svg xmlns=\"http://www.w3.org/2000/svg\" xmlns:xlink=\"http://www.w3.org/1999/xlink\" width=\"600\" height=\"400\" viewBox=\"0 0 2400 1600\">\n",
       "<defs>\n",
       "  <clipPath id=\"clip7500\">\n",
       "    <rect x=\"0\" y=\"0\" width=\"2400\" height=\"1600\"/>\n",
       "  </clipPath>\n",
       "</defs>\n",
       "<path clip-path=\"url(#clip7500)\" d=\"\n",
       "M0 1600 L2400 1600 L2400 0 L0 0  Z\n",
       "  \" fill=\"#ffffff\" fill-rule=\"evenodd\" fill-opacity=\"1\"/>\n",
       "<defs>\n",
       "  <clipPath id=\"clip7501\">\n",
       "    <rect x=\"480\" y=\"0\" width=\"1681\" height=\"1600\"/>\n",
       "  </clipPath>\n",
       "</defs>\n",
       "<path clip-path=\"url(#clip7500)\" d=\"\n",
       "M224.677 1486.45 L2352.76 1486.45 L2352.76 47.2441 L224.677 47.2441  Z\n",
       "  \" fill=\"#ffffff\" fill-rule=\"evenodd\" fill-opacity=\"1\"/>\n",
       "<defs>\n",
       "  <clipPath id=\"clip7502\">\n",
       "    <rect x=\"224\" y=\"47\" width=\"2129\" height=\"1440\"/>\n",
       "  </clipPath>\n",
       "</defs>\n",
       "<polyline clip-path=\"url(#clip7502)\" style=\"stroke:#000000; stroke-width:2; stroke-opacity:0.1; fill:none\" points=\"\n",
       "  284.905,1486.45 284.905,47.2441 \n",
       "  \"/>\n",
       "<polyline clip-path=\"url(#clip7502)\" style=\"stroke:#000000; stroke-width:2; stroke-opacity:0.1; fill:none\" points=\"\n",
       "  619.509,1486.45 619.509,47.2441 \n",
       "  \"/>\n",
       "<polyline clip-path=\"url(#clip7502)\" style=\"stroke:#000000; stroke-width:2; stroke-opacity:0.1; fill:none\" points=\"\n",
       "  954.113,1486.45 954.113,47.2441 \n",
       "  \"/>\n",
       "<polyline clip-path=\"url(#clip7502)\" style=\"stroke:#000000; stroke-width:2; stroke-opacity:0.1; fill:none\" points=\"\n",
       "  1288.72,1486.45 1288.72,47.2441 \n",
       "  \"/>\n",
       "<polyline clip-path=\"url(#clip7502)\" style=\"stroke:#000000; stroke-width:2; stroke-opacity:0.1; fill:none\" points=\"\n",
       "  1623.32,1486.45 1623.32,47.2441 \n",
       "  \"/>\n",
       "<polyline clip-path=\"url(#clip7502)\" style=\"stroke:#000000; stroke-width:2; stroke-opacity:0.1; fill:none\" points=\"\n",
       "  1957.92,1486.45 1957.92,47.2441 \n",
       "  \"/>\n",
       "<polyline clip-path=\"url(#clip7502)\" style=\"stroke:#000000; stroke-width:2; stroke-opacity:0.1; fill:none\" points=\"\n",
       "  2292.53,1486.45 2292.53,47.2441 \n",
       "  \"/>\n",
       "<polyline clip-path=\"url(#clip7502)\" style=\"stroke:#000000; stroke-width:2; stroke-opacity:0.1; fill:none\" points=\"\n",
       "  224.677,1314.26 2352.76,1314.26 \n",
       "  \"/>\n",
       "<polyline clip-path=\"url(#clip7502)\" style=\"stroke:#000000; stroke-width:2; stroke-opacity:0.1; fill:none\" points=\"\n",
       "  224.677,1131.62 2352.76,1131.62 \n",
       "  \"/>\n",
       "<polyline clip-path=\"url(#clip7502)\" style=\"stroke:#000000; stroke-width:2; stroke-opacity:0.1; fill:none\" points=\"\n",
       "  224.677,948.988 2352.76,948.988 \n",
       "  \"/>\n",
       "<polyline clip-path=\"url(#clip7502)\" style=\"stroke:#000000; stroke-width:2; stroke-opacity:0.1; fill:none\" points=\"\n",
       "  224.677,766.352 2352.76,766.352 \n",
       "  \"/>\n",
       "<polyline clip-path=\"url(#clip7502)\" style=\"stroke:#000000; stroke-width:2; stroke-opacity:0.1; fill:none\" points=\"\n",
       "  224.677,583.716 2352.76,583.716 \n",
       "  \"/>\n",
       "<polyline clip-path=\"url(#clip7502)\" style=\"stroke:#000000; stroke-width:2; stroke-opacity:0.1; fill:none\" points=\"\n",
       "  224.677,401.08 2352.76,401.08 \n",
       "  \"/>\n",
       "<polyline clip-path=\"url(#clip7502)\" style=\"stroke:#000000; stroke-width:2; stroke-opacity:0.1; fill:none\" points=\"\n",
       "  224.677,218.445 2352.76,218.445 \n",
       "  \"/>\n",
       "<polyline clip-path=\"url(#clip7500)\" style=\"stroke:#000000; stroke-width:4; stroke-opacity:1; fill:none\" points=\"\n",
       "  224.677,1486.45 2352.76,1486.45 \n",
       "  \"/>\n",
       "<polyline clip-path=\"url(#clip7500)\" style=\"stroke:#000000; stroke-width:4; stroke-opacity:1; fill:none\" points=\"\n",
       "  224.677,1486.45 224.677,47.2441 \n",
       "  \"/>\n",
       "<polyline clip-path=\"url(#clip7500)\" style=\"stroke:#000000; stroke-width:4; stroke-opacity:1; fill:none\" points=\"\n",
       "  284.905,1486.45 284.905,1469.18 \n",
       "  \"/>\n",
       "<polyline clip-path=\"url(#clip7500)\" style=\"stroke:#000000; stroke-width:4; stroke-opacity:1; fill:none\" points=\"\n",
       "  619.509,1486.45 619.509,1469.18 \n",
       "  \"/>\n",
       "<polyline clip-path=\"url(#clip7500)\" style=\"stroke:#000000; stroke-width:4; stroke-opacity:1; fill:none\" points=\"\n",
       "  954.113,1486.45 954.113,1469.18 \n",
       "  \"/>\n",
       "<polyline clip-path=\"url(#clip7500)\" style=\"stroke:#000000; stroke-width:4; stroke-opacity:1; fill:none\" points=\"\n",
       "  1288.72,1486.45 1288.72,1469.18 \n",
       "  \"/>\n",
       "<polyline clip-path=\"url(#clip7500)\" style=\"stroke:#000000; stroke-width:4; stroke-opacity:1; fill:none\" points=\"\n",
       "  1623.32,1486.45 1623.32,1469.18 \n",
       "  \"/>\n",
       "<polyline clip-path=\"url(#clip7500)\" style=\"stroke:#000000; stroke-width:4; stroke-opacity:1; fill:none\" points=\"\n",
       "  1957.92,1486.45 1957.92,1469.18 \n",
       "  \"/>\n",
       "<polyline clip-path=\"url(#clip7500)\" style=\"stroke:#000000; stroke-width:4; stroke-opacity:1; fill:none\" points=\"\n",
       "  2292.53,1486.45 2292.53,1469.18 \n",
       "  \"/>\n",
       "<polyline clip-path=\"url(#clip7500)\" style=\"stroke:#000000; stroke-width:4; stroke-opacity:1; fill:none\" points=\"\n",
       "  224.677,1314.26 250.214,1314.26 \n",
       "  \"/>\n",
       "<polyline clip-path=\"url(#clip7500)\" style=\"stroke:#000000; stroke-width:4; stroke-opacity:1; fill:none\" points=\"\n",
       "  224.677,1131.62 250.214,1131.62 \n",
       "  \"/>\n",
       "<polyline clip-path=\"url(#clip7500)\" style=\"stroke:#000000; stroke-width:4; stroke-opacity:1; fill:none\" points=\"\n",
       "  224.677,948.988 250.214,948.988 \n",
       "  \"/>\n",
       "<polyline clip-path=\"url(#clip7500)\" style=\"stroke:#000000; stroke-width:4; stroke-opacity:1; fill:none\" points=\"\n",
       "  224.677,766.352 250.214,766.352 \n",
       "  \"/>\n",
       "<polyline clip-path=\"url(#clip7500)\" style=\"stroke:#000000; stroke-width:4; stroke-opacity:1; fill:none\" points=\"\n",
       "  224.677,583.716 250.214,583.716 \n",
       "  \"/>\n",
       "<polyline clip-path=\"url(#clip7500)\" style=\"stroke:#000000; stroke-width:4; stroke-opacity:1; fill:none\" points=\"\n",
       "  224.677,401.08 250.214,401.08 \n",
       "  \"/>\n",
       "<polyline clip-path=\"url(#clip7500)\" style=\"stroke:#000000; stroke-width:4; stroke-opacity:1; fill:none\" points=\"\n",
       "  224.677,218.445 250.214,218.445 \n",
       "  \"/>\n",
       "<path clip-path=\"url(#clip7500)\" d=\"M 0 0 M238.47 1525.04 L250.947 1525.04 L250.947 1528.83 L238.47 1528.83 L238.47 1525.04 Z\" fill=\"#000000\" fill-rule=\"evenodd\" fill-opacity=\"1\" /><path clip-path=\"url(#clip7500)\" d=\"M 0 0 M270.183 1521.29 Q273.54 1522 275.415 1524.27 Q277.313 1526.54 277.313 1529.87 Q277.313 1534.99 273.794 1537.79 Q270.276 1540.59 263.794 1540.59 Q261.618 1540.59 259.304 1540.15 Q257.012 1539.73 254.558 1538.88 L254.558 1534.36 Q256.503 1535.5 258.817 1536.08 Q261.132 1536.66 263.655 1536.66 Q268.053 1536.66 270.345 1534.92 Q272.66 1533.18 272.66 1529.87 Q272.66 1526.82 270.507 1525.11 Q268.378 1523.37 264.558 1523.37 L260.53 1523.37 L260.53 1519.53 L264.743 1519.53 Q268.192 1519.53 270.021 1518.16 Q271.85 1516.77 271.85 1514.18 Q271.85 1511.52 269.952 1510.11 Q268.077 1508.67 264.558 1508.67 Q262.637 1508.67 260.438 1509.09 Q258.239 1509.5 255.6 1510.38 L255.6 1506.22 Q258.262 1505.48 260.577 1505.11 Q262.915 1504.73 264.975 1504.73 Q270.299 1504.73 273.401 1507.17 Q276.503 1509.57 276.503 1513.69 Q276.503 1516.56 274.859 1518.55 Q273.215 1520.52 270.183 1521.29 Z\" fill=\"#000000\" fill-rule=\"evenodd\" fill-opacity=\"1\" /><path clip-path=\"url(#clip7500)\" d=\"M 0 0 M292.382 1508.44 Q288.771 1508.44 286.942 1512 Q285.137 1515.55 285.137 1522.67 Q285.137 1529.78 286.942 1533.35 Q288.771 1536.89 292.382 1536.89 Q296.016 1536.89 297.822 1533.35 Q299.651 1529.78 299.651 1522.67 Q299.651 1515.55 297.822 1512 Q296.016 1508.44 292.382 1508.44 M292.382 1504.73 Q298.192 1504.73 301.248 1509.34 Q304.326 1513.92 304.326 1522.67 Q304.326 1531.4 301.248 1536.01 Q298.192 1540.59 292.382 1540.59 Q286.572 1540.59 283.493 1536.01 Q280.438 1531.4 280.438 1522.67 Q280.438 1513.92 283.493 1509.34 Q286.572 1504.73 292.382 1504.73 Z\" fill=\"#000000\" fill-rule=\"evenodd\" fill-opacity=\"1\" /><path clip-path=\"url(#clip7500)\" d=\"M 0 0 M319.396 1508.44 Q315.785 1508.44 313.956 1512 Q312.15 1515.55 312.15 1522.67 Q312.15 1529.78 313.956 1533.35 Q315.785 1536.89 319.396 1536.89 Q323.03 1536.89 324.836 1533.35 Q326.664 1529.78 326.664 1522.67 Q326.664 1515.55 324.836 1512 Q323.03 1508.44 319.396 1508.44 M319.396 1504.73 Q325.206 1504.73 328.261 1509.34 Q331.34 1513.92 331.34 1522.67 Q331.34 1531.4 328.261 1536.01 Q325.206 1540.59 319.396 1540.59 Q313.586 1540.59 310.507 1536.01 Q307.451 1531.4 307.451 1522.67 Q307.451 1513.92 310.507 1509.34 Q313.586 1504.73 319.396 1504.73 Z\" fill=\"#000000\" fill-rule=\"evenodd\" fill-opacity=\"1\" /><path clip-path=\"url(#clip7500)\" d=\"M 0 0 M573.549 1525.04 L586.025 1525.04 L586.025 1528.83 L573.549 1528.83 L573.549 1525.04 Z\" fill=\"#000000\" fill-rule=\"evenodd\" fill-opacity=\"1\" /><path clip-path=\"url(#clip7500)\" d=\"M 0 0 M595.122 1535.98 L611.442 1535.98 L611.442 1539.92 L589.497 1539.92 L589.497 1535.98 Q592.16 1533.23 596.743 1528.6 Q601.349 1523.95 602.53 1522.61 Q604.775 1520.08 605.655 1518.35 Q606.558 1516.59 606.558 1514.9 Q606.558 1512.14 604.613 1510.41 Q602.692 1508.67 599.59 1508.67 Q597.391 1508.67 594.937 1509.43 Q592.507 1510.2 589.729 1511.75 L589.729 1507.03 Q592.553 1505.89 595.007 1505.31 Q597.46 1504.73 599.497 1504.73 Q604.868 1504.73 608.062 1507.42 Q611.257 1510.11 611.257 1514.6 Q611.257 1516.73 610.446 1518.65 Q609.659 1520.54 607.553 1523.14 Q606.974 1523.81 603.872 1527.03 Q600.771 1530.22 595.122 1535.98 Z\" fill=\"#000000\" fill-rule=\"evenodd\" fill-opacity=\"1\" /><path clip-path=\"url(#clip7500)\" d=\"M 0 0 M626.511 1508.44 Q622.9 1508.44 621.071 1512 Q619.266 1515.55 619.266 1522.67 Q619.266 1529.78 621.071 1533.35 Q622.9 1536.89 626.511 1536.89 Q630.145 1536.89 631.951 1533.35 Q633.78 1529.78 633.78 1522.67 Q633.78 1515.55 631.951 1512 Q630.145 1508.44 626.511 1508.44 M626.511 1504.73 Q632.321 1504.73 635.377 1509.34 Q638.456 1513.92 638.456 1522.67 Q638.456 1531.4 635.377 1536.01 Q632.321 1540.59 626.511 1540.59 Q620.701 1540.59 617.622 1536.01 Q614.567 1531.4 614.567 1522.67 Q614.567 1513.92 617.622 1509.34 Q620.701 1504.73 626.511 1504.73 Z\" fill=\"#000000\" fill-rule=\"evenodd\" fill-opacity=\"1\" /><path clip-path=\"url(#clip7500)\" d=\"M 0 0 M653.525 1508.44 Q649.914 1508.44 648.085 1512 Q646.28 1515.55 646.28 1522.67 Q646.28 1529.78 648.085 1533.35 Q649.914 1536.89 653.525 1536.89 Q657.159 1536.89 658.965 1533.35 Q660.793 1529.78 660.793 1522.67 Q660.793 1515.55 658.965 1512 Q657.159 1508.44 653.525 1508.44 M653.525 1504.73 Q659.335 1504.73 662.391 1509.34 Q665.469 1513.92 665.469 1522.67 Q665.469 1531.4 662.391 1536.01 Q659.335 1540.59 653.525 1540.59 Q647.715 1540.59 644.636 1536.01 Q641.581 1531.4 641.581 1522.67 Q641.581 1513.92 644.636 1509.34 Q647.715 1504.73 653.525 1504.73 Z\" fill=\"#000000\" fill-rule=\"evenodd\" fill-opacity=\"1\" /><path clip-path=\"url(#clip7500)\" d=\"M 0 0 M907.967 1525.04 L920.444 1525.04 L920.444 1528.83 L907.967 1528.83 L907.967 1525.04 Z\" fill=\"#000000\" fill-rule=\"evenodd\" fill-opacity=\"1\" /><path clip-path=\"url(#clip7500)\" d=\"M 0 0 M926.323 1535.98 L933.962 1535.98 L933.962 1509.62 L925.652 1511.29 L925.652 1507.03 L933.916 1505.36 L938.592 1505.36 L938.592 1535.98 L946.231 1535.98 L946.231 1539.92 L926.323 1539.92 L926.323 1535.98 Z\" fill=\"#000000\" fill-rule=\"evenodd\" fill-opacity=\"1\" /><path clip-path=\"url(#clip7500)\" d=\"M 0 0 M961.3 1508.44 Q957.689 1508.44 955.86 1512 Q954.055 1515.55 954.055 1522.67 Q954.055 1529.78 955.86 1533.35 Q957.689 1536.89 961.3 1536.89 Q964.934 1536.89 966.74 1533.35 Q968.569 1529.78 968.569 1522.67 Q968.569 1515.55 966.74 1512 Q964.934 1508.44 961.3 1508.44 M961.3 1504.73 Q967.11 1504.73 970.166 1509.34 Q973.244 1513.92 973.244 1522.67 Q973.244 1531.4 970.166 1536.01 Q967.11 1540.59 961.3 1540.59 Q955.49 1540.59 952.411 1536.01 Q949.356 1531.4 949.356 1522.67 Q949.356 1513.92 952.411 1509.34 Q955.49 1504.73 961.3 1504.73 Z\" fill=\"#000000\" fill-rule=\"evenodd\" fill-opacity=\"1\" /><path clip-path=\"url(#clip7500)\" d=\"M 0 0 M988.314 1508.44 Q984.703 1508.44 982.874 1512 Q981.068 1515.55 981.068 1522.67 Q981.068 1529.78 982.874 1533.35 Q984.703 1536.89 988.314 1536.89 Q991.948 1536.89 993.754 1533.35 Q995.582 1529.78 995.582 1522.67 Q995.582 1515.55 993.754 1512 Q991.948 1508.44 988.314 1508.44 M988.314 1504.73 Q994.124 1504.73 997.179 1509.34 Q1000.26 1513.92 1000.26 1522.67 Q1000.26 1531.4 997.179 1536.01 Q994.124 1540.59 988.314 1540.59 Q982.504 1540.59 979.425 1536.01 Q976.369 1531.4 976.369 1522.67 Q976.369 1513.92 979.425 1509.34 Q982.504 1504.73 988.314 1504.73 Z\" fill=\"#000000\" fill-rule=\"evenodd\" fill-opacity=\"1\" /><path clip-path=\"url(#clip7500)\" d=\"M 0 0 M1288.72 1508.44 Q1285.11 1508.44 1283.28 1512 Q1281.47 1515.55 1281.47 1522.67 Q1281.47 1529.78 1283.28 1533.35 Q1285.11 1536.89 1288.72 1536.89 Q1292.35 1536.89 1294.16 1533.35 Q1295.98 1529.78 1295.98 1522.67 Q1295.98 1515.55 1294.16 1512 Q1292.35 1508.44 1288.72 1508.44 M1288.72 1504.73 Q1294.53 1504.73 1297.58 1509.34 Q1300.66 1513.92 1300.66 1522.67 Q1300.66 1531.4 1297.58 1536.01 Q1294.53 1540.59 1288.72 1540.59 Q1282.91 1540.59 1279.83 1536.01 Q1276.77 1531.4 1276.77 1522.67 Q1276.77 1513.92 1279.83 1509.34 Q1282.91 1504.73 1288.72 1504.73 Z\" fill=\"#000000\" fill-rule=\"evenodd\" fill-opacity=\"1\" /><path clip-path=\"url(#clip7500)\" d=\"M 0 0 M1586.69 1535.98 L1594.33 1535.98 L1594.33 1509.62 L1586.02 1511.29 L1586.02 1507.03 L1594.28 1505.36 L1598.96 1505.36 L1598.96 1535.98 L1606.6 1535.98 L1606.6 1539.92 L1586.69 1539.92 L1586.69 1535.98 Z\" fill=\"#000000\" fill-rule=\"evenodd\" fill-opacity=\"1\" /><path clip-path=\"url(#clip7500)\" d=\"M 0 0 M1621.66 1508.44 Q1618.05 1508.44 1616.23 1512 Q1614.42 1515.55 1614.42 1522.67 Q1614.42 1529.78 1616.23 1533.35 Q1618.05 1536.89 1621.66 1536.89 Q1625.3 1536.89 1627.1 1533.35 Q1628.93 1529.78 1628.93 1522.67 Q1628.93 1515.55 1627.1 1512 Q1625.3 1508.44 1621.66 1508.44 M1621.66 1504.73 Q1627.47 1504.73 1630.53 1509.34 Q1633.61 1513.92 1633.61 1522.67 Q1633.61 1531.4 1630.53 1536.01 Q1627.47 1540.59 1621.66 1540.59 Q1615.85 1540.59 1612.78 1536.01 Q1609.72 1531.4 1609.72 1522.67 Q1609.72 1513.92 1612.78 1509.34 Q1615.85 1504.73 1621.66 1504.73 Z\" fill=\"#000000\" fill-rule=\"evenodd\" fill-opacity=\"1\" /><path clip-path=\"url(#clip7500)\" d=\"M 0 0 M1648.68 1508.44 Q1645.07 1508.44 1643.24 1512 Q1641.43 1515.55 1641.43 1522.67 Q1641.43 1529.78 1643.24 1533.35 Q1645.07 1536.89 1648.68 1536.89 Q1652.31 1536.89 1654.12 1533.35 Q1655.95 1529.78 1655.95 1522.67 Q1655.95 1515.55 1654.12 1512 Q1652.31 1508.44 1648.68 1508.44 M1648.68 1504.73 Q1654.49 1504.73 1657.54 1509.34 Q1660.62 1513.92 1660.62 1522.67 Q1660.62 1531.4 1657.54 1536.01 Q1654.49 1540.59 1648.68 1540.59 Q1642.87 1540.59 1639.79 1536.01 Q1636.73 1531.4 1636.73 1522.67 Q1636.73 1513.92 1639.79 1509.34 Q1642.87 1504.73 1648.68 1504.73 Z\" fill=\"#000000\" fill-rule=\"evenodd\" fill-opacity=\"1\" /><path clip-path=\"url(#clip7500)\" d=\"M 0 0 M1925.56 1535.98 L1941.88 1535.98 L1941.88 1539.92 L1919.94 1539.92 L1919.94 1535.98 Q1922.6 1533.23 1927.18 1528.6 Q1931.79 1523.95 1932.97 1522.61 Q1935.22 1520.08 1936.09 1518.35 Q1937 1516.59 1937 1514.9 Q1937 1512.14 1935.05 1510.41 Q1933.13 1508.67 1930.03 1508.67 Q1927.83 1508.67 1925.38 1509.43 Q1922.95 1510.2 1920.17 1511.75 L1920.17 1507.03 Q1922.99 1505.89 1925.45 1505.31 Q1927.9 1504.73 1929.94 1504.73 Q1935.31 1504.73 1938.5 1507.42 Q1941.7 1510.11 1941.7 1514.6 Q1941.7 1516.73 1940.89 1518.65 Q1940.1 1520.54 1937.99 1523.14 Q1937.41 1523.81 1934.31 1527.03 Q1931.21 1530.22 1925.56 1535.98 Z\" fill=\"#000000\" fill-rule=\"evenodd\" fill-opacity=\"1\" /><path clip-path=\"url(#clip7500)\" d=\"M 0 0 M1956.95 1508.44 Q1953.34 1508.44 1951.51 1512 Q1949.71 1515.55 1949.71 1522.67 Q1949.71 1529.78 1951.51 1533.35 Q1953.34 1536.89 1956.95 1536.89 Q1960.59 1536.89 1962.39 1533.35 Q1964.22 1529.78 1964.22 1522.67 Q1964.22 1515.55 1962.39 1512 Q1960.59 1508.44 1956.95 1508.44 M1956.95 1504.73 Q1962.76 1504.73 1965.82 1509.34 Q1968.9 1513.92 1968.9 1522.67 Q1968.9 1531.4 1965.82 1536.01 Q1962.76 1540.59 1956.95 1540.59 Q1951.14 1540.59 1948.06 1536.01 Q1945.01 1531.4 1945.01 1522.67 Q1945.01 1513.92 1948.06 1509.34 Q1951.14 1504.73 1956.95 1504.73 Z\" fill=\"#000000\" fill-rule=\"evenodd\" fill-opacity=\"1\" /><path clip-path=\"url(#clip7500)\" d=\"M 0 0 M1983.97 1508.44 Q1980.35 1508.44 1978.53 1512 Q1976.72 1515.55 1976.72 1522.67 Q1976.72 1529.78 1978.53 1533.35 Q1980.35 1536.89 1983.97 1536.89 Q1987.6 1536.89 1989.4 1533.35 Q1991.23 1529.78 1991.23 1522.67 Q1991.23 1515.55 1989.4 1512 Q1987.6 1508.44 1983.97 1508.44 M1983.97 1504.73 Q1989.78 1504.73 1992.83 1509.34 Q1995.91 1513.92 1995.91 1522.67 Q1995.91 1531.4 1992.83 1536.01 Q1989.78 1540.59 1983.97 1540.59 Q1978.15 1540.59 1975.08 1536.01 Q1972.02 1531.4 1972.02 1522.67 Q1972.02 1513.92 1975.08 1509.34 Q1978.15 1504.73 1983.97 1504.73 Z\" fill=\"#000000\" fill-rule=\"evenodd\" fill-opacity=\"1\" /><path clip-path=\"url(#clip7500)\" d=\"M 0 0 M2269.76 1521.29 Q2273.12 1522 2274.99 1524.27 Q2276.89 1526.54 2276.89 1529.87 Q2276.89 1534.99 2273.37 1537.79 Q2269.85 1540.59 2263.37 1540.59 Q2261.2 1540.59 2258.88 1540.15 Q2256.59 1539.73 2254.14 1538.88 L2254.14 1534.36 Q2256.08 1535.5 2258.4 1536.08 Q2260.71 1536.66 2263.23 1536.66 Q2267.63 1536.66 2269.92 1534.92 Q2272.24 1533.18 2272.24 1529.87 Q2272.24 1526.82 2270.09 1525.11 Q2267.96 1523.37 2264.14 1523.37 L2260.11 1523.37 L2260.11 1519.53 L2264.32 1519.53 Q2267.77 1519.53 2269.6 1518.16 Q2271.43 1516.77 2271.43 1514.18 Q2271.43 1511.52 2269.53 1510.11 Q2267.65 1508.67 2264.14 1508.67 Q2262.21 1508.67 2260.02 1509.09 Q2257.82 1509.5 2255.18 1510.38 L2255.18 1506.22 Q2257.84 1505.48 2260.15 1505.11 Q2262.49 1504.73 2264.55 1504.73 Q2269.88 1504.73 2272.98 1507.17 Q2276.08 1509.57 2276.08 1513.69 Q2276.08 1516.56 2274.44 1518.55 Q2272.79 1520.52 2269.76 1521.29 Z\" fill=\"#000000\" fill-rule=\"evenodd\" fill-opacity=\"1\" /><path clip-path=\"url(#clip7500)\" d=\"M 0 0 M2291.96 1508.44 Q2288.35 1508.44 2286.52 1512 Q2284.71 1515.55 2284.71 1522.67 Q2284.71 1529.78 2286.52 1533.35 Q2288.35 1536.89 2291.96 1536.89 Q2295.59 1536.89 2297.4 1533.35 Q2299.23 1529.78 2299.23 1522.67 Q2299.23 1515.55 2297.4 1512 Q2295.59 1508.44 2291.96 1508.44 M2291.96 1504.73 Q2297.77 1504.73 2300.83 1509.34 Q2303.9 1513.92 2303.9 1522.67 Q2303.9 1531.4 2300.83 1536.01 Q2297.77 1540.59 2291.96 1540.59 Q2286.15 1540.59 2283.07 1536.01 Q2280.02 1531.4 2280.02 1522.67 Q2280.02 1513.92 2283.07 1509.34 Q2286.15 1504.73 2291.96 1504.73 Z\" fill=\"#000000\" fill-rule=\"evenodd\" fill-opacity=\"1\" /><path clip-path=\"url(#clip7500)\" d=\"M 0 0 M2318.97 1508.44 Q2315.36 1508.44 2313.53 1512 Q2311.73 1515.55 2311.73 1522.67 Q2311.73 1529.78 2313.53 1533.35 Q2315.36 1536.89 2318.97 1536.89 Q2322.61 1536.89 2324.41 1533.35 Q2326.24 1529.78 2326.24 1522.67 Q2326.24 1515.55 2324.41 1512 Q2322.61 1508.44 2318.97 1508.44 M2318.97 1504.73 Q2324.78 1504.73 2327.84 1509.34 Q2330.92 1513.92 2330.92 1522.67 Q2330.92 1531.4 2327.84 1536.01 Q2324.78 1540.59 2318.97 1540.59 Q2313.16 1540.59 2310.09 1536.01 Q2307.03 1531.4 2307.03 1522.67 Q2307.03 1513.92 2310.09 1509.34 Q2313.16 1504.73 2318.97 1504.73 Z\" fill=\"#000000\" fill-rule=\"evenodd\" fill-opacity=\"1\" /><path clip-path=\"url(#clip7500)\" d=\"M 0 0 M58.1614 1323.1 L70.6382 1323.1 L70.6382 1326.9 L58.1614 1326.9 L58.1614 1323.1 Z\" fill=\"#000000\" fill-rule=\"evenodd\" fill-opacity=\"1\" /><path clip-path=\"url(#clip7500)\" d=\"M 0 0 M87.8372 1303.43 L110.059 1303.43 L110.059 1305.42 L97.5131 1337.99 L92.6288 1337.99 L104.434 1307.36 L87.8372 1307.36 L87.8372 1303.43 Z\" fill=\"#000000\" fill-rule=\"evenodd\" fill-opacity=\"1\" /><path clip-path=\"url(#clip7500)\" d=\"M 0 0 M115.129 1332.11 L120.013 1332.11 L120.013 1337.99 L115.129 1337.99 L115.129 1332.11 Z\" fill=\"#000000\" fill-rule=\"evenodd\" fill-opacity=\"1\" /><path clip-path=\"url(#clip7500)\" d=\"M 0 0 M125.129 1303.43 L143.485 1303.43 L143.485 1307.36 L129.411 1307.36 L129.411 1315.83 Q130.43 1315.49 131.448 1315.33 Q132.467 1315.14 133.485 1315.14 Q139.272 1315.14 142.652 1318.31 Q146.031 1321.48 146.031 1326.9 Q146.031 1332.48 142.559 1335.58 Q139.087 1338.66 132.768 1338.66 Q130.592 1338.66 128.323 1338.29 Q126.078 1337.92 123.67 1337.18 L123.67 1332.48 Q125.754 1333.61 127.976 1334.17 Q130.198 1334.72 132.675 1334.72 Q136.68 1334.72 139.017 1332.62 Q141.355 1330.51 141.355 1326.9 Q141.355 1323.29 139.017 1321.18 Q136.68 1319.08 132.675 1319.08 Q130.8 1319.08 128.925 1319.49 Q127.073 1319.91 125.129 1320.79 L125.129 1303.43 Z\" fill=\"#000000\" fill-rule=\"evenodd\" fill-opacity=\"1\" /><path clip-path=\"url(#clip7500)\" d=\"M 0 0 M150.869 1307.43 L155.175 1307.43 L155.175 1342.62 L150.869 1342.62 L150.869 1307.43 Z\" fill=\"#000000\" fill-rule=\"evenodd\" fill-opacity=\"1\" /><path clip-path=\"url(#clip7500)\" d=\"M 0 0 M170.244 1306.51 Q166.633 1306.51 164.804 1310.07 Q162.999 1313.61 162.999 1320.74 Q162.999 1327.85 164.804 1331.41 Q166.633 1334.95 170.244 1334.95 Q173.878 1334.95 175.684 1331.41 Q177.513 1327.85 177.513 1320.74 Q177.513 1313.61 175.684 1310.07 Q173.878 1306.51 170.244 1306.51 M170.244 1302.8 Q176.054 1302.8 179.11 1307.41 Q182.189 1311.99 182.189 1320.74 Q182.189 1329.47 179.11 1334.08 Q176.054 1338.66 170.244 1338.66 Q164.434 1338.66 161.355 1334.08 Q158.3 1329.47 158.3 1320.74 Q158.3 1311.99 161.355 1307.41 Q164.434 1302.8 170.244 1302.8 Z\" fill=\"#000000\" fill-rule=\"evenodd\" fill-opacity=\"1\" /><path clip-path=\"url(#clip7500)\" d=\"M 0 0 M194.884 1295.44 Q197.611 1296.02 199.134 1297.86 Q200.677 1299.71 200.677 1302.41 Q200.677 1306.57 197.818 1308.85 Q194.959 1311.12 189.693 1311.12 Q187.925 1311.12 186.044 1310.76 Q184.182 1310.43 182.189 1309.73 L182.189 1306.06 Q183.768 1306.98 185.649 1307.45 Q187.53 1307.93 189.58 1307.93 Q193.153 1307.93 195.015 1306.51 Q196.896 1305.1 196.896 1302.41 Q196.896 1299.93 195.147 1298.54 Q193.417 1297.13 190.313 1297.13 L187.041 1297.13 L187.041 1294.01 L190.464 1294.01 Q193.266 1294.01 194.752 1292.9 Q196.238 1291.77 196.238 1289.66 Q196.238 1287.5 194.696 1286.35 Q193.172 1285.19 190.313 1285.19 Q188.752 1285.19 186.966 1285.52 Q185.179 1285.86 183.035 1286.58 L183.035 1283.19 Q185.198 1282.59 187.079 1282.29 Q188.978 1281.99 190.652 1281.99 Q194.978 1281.99 197.498 1283.96 Q200.018 1285.92 200.018 1289.27 Q200.018 1291.6 198.683 1293.22 Q197.348 1294.82 194.884 1295.44 Z\" fill=\"#000000\" fill-rule=\"evenodd\" fill-opacity=\"1\" /><path clip-path=\"url(#clip7500)\" d=\"M 0 0 M57.0272 1140.47 L69.504 1140.47 L69.504 1144.26 L57.0272 1144.26 L57.0272 1140.47 Z\" fill=\"#000000\" fill-rule=\"evenodd\" fill-opacity=\"1\" /><path clip-path=\"url(#clip7500)\" d=\"M 0 0 M88.1613 1120.79 L106.518 1120.79 L106.518 1124.73 L92.4436 1124.73 L92.4436 1133.2 Q93.4622 1132.85 94.4807 1132.69 Q95.4992 1132.5 96.5177 1132.5 Q102.305 1132.5 105.684 1135.68 Q109.064 1138.85 109.064 1144.26 Q109.064 1149.84 105.592 1152.94 Q102.12 1156.02 95.8001 1156.02 Q93.6242 1156.02 91.3557 1155.65 Q89.1103 1155.28 86.7029 1154.54 L86.7029 1149.84 Q88.7863 1150.98 91.0085 1151.53 Q93.2307 1152.09 95.7075 1152.09 Q99.7121 1152.09 102.05 1149.98 Q104.388 1147.87 104.388 1144.26 Q104.388 1140.65 102.05 1138.55 Q99.7121 1136.44 95.7075 1136.44 Q93.8325 1136.44 91.9575 1136.86 Q90.1057 1137.27 88.1613 1138.15 L88.1613 1120.79 Z\" fill=\"#000000\" fill-rule=\"evenodd\" fill-opacity=\"1\" /><path clip-path=\"url(#clip7500)\" d=\"M 0 0 M114.133 1149.47 L119.018 1149.47 L119.018 1155.35 L114.133 1155.35 L114.133 1149.47 Z\" fill=\"#000000\" fill-rule=\"evenodd\" fill-opacity=\"1\" /><path clip-path=\"url(#clip7500)\" d=\"M 0 0 M134.087 1123.87 Q130.476 1123.87 128.647 1127.43 Q126.842 1130.98 126.842 1138.11 Q126.842 1145.21 128.647 1148.78 Q130.476 1152.32 134.087 1152.32 Q137.721 1152.32 139.527 1148.78 Q141.355 1145.21 141.355 1138.11 Q141.355 1130.98 139.527 1127.43 Q137.721 1123.87 134.087 1123.87 M134.087 1120.17 Q139.897 1120.17 142.953 1124.77 Q146.031 1129.36 146.031 1138.11 Q146.031 1146.83 142.953 1151.44 Q139.897 1156.02 134.087 1156.02 Q128.277 1156.02 125.198 1151.44 Q122.143 1146.83 122.143 1138.11 Q122.143 1129.36 125.198 1124.77 Q128.277 1120.17 134.087 1120.17 Z\" fill=\"#000000\" fill-rule=\"evenodd\" fill-opacity=\"1\" /><path clip-path=\"url(#clip7500)\" d=\"M 0 0 M150.869 1124.8 L155.175 1124.8 L155.175 1159.98 L150.869 1159.98 L150.869 1124.8 Z\" fill=\"#000000\" fill-rule=\"evenodd\" fill-opacity=\"1\" /><path clip-path=\"url(#clip7500)\" d=\"M 0 0 M170.244 1123.87 Q166.633 1123.87 164.804 1127.43 Q162.999 1130.98 162.999 1138.11 Q162.999 1145.21 164.804 1148.78 Q166.633 1152.32 170.244 1152.32 Q173.878 1152.32 175.684 1148.78 Q177.513 1145.21 177.513 1138.11 Q177.513 1130.98 175.684 1127.43 Q173.878 1123.87 170.244 1123.87 M170.244 1120.17 Q176.054 1120.17 179.11 1124.77 Q182.189 1129.36 182.189 1138.11 Q182.189 1146.83 179.11 1151.44 Q176.054 1156.02 170.244 1156.02 Q164.434 1156.02 161.355 1151.44 Q158.3 1146.83 158.3 1138.11 Q158.3 1129.36 161.355 1124.77 Q164.434 1120.17 170.244 1120.17 Z\" fill=\"#000000\" fill-rule=\"evenodd\" fill-opacity=\"1\" /><path clip-path=\"url(#clip7500)\" d=\"M 0 0 M194.884 1112.8 Q197.611 1113.38 199.134 1115.23 Q200.677 1117.07 200.677 1119.78 Q200.677 1123.94 197.818 1126.21 Q194.959 1128.49 189.693 1128.49 Q187.925 1128.49 186.044 1128.13 Q184.182 1127.79 182.189 1127.09 L182.189 1123.43 Q183.768 1124.35 185.649 1124.82 Q187.53 1125.29 189.58 1125.29 Q193.153 1125.29 195.015 1123.88 Q196.896 1122.47 196.896 1119.78 Q196.896 1117.3 195.147 1115.9 Q193.417 1114.49 190.313 1114.49 L187.041 1114.49 L187.041 1111.37 L190.464 1111.37 Q193.266 1111.37 194.752 1110.26 Q196.238 1109.13 196.238 1107.03 Q196.238 1104.86 194.696 1103.72 Q193.172 1102.55 190.313 1102.55 Q188.752 1102.55 186.966 1102.89 Q185.179 1103.23 183.035 1103.94 L183.035 1100.56 Q185.198 1099.96 187.079 1099.65 Q188.978 1099.35 190.652 1099.35 Q194.978 1099.35 197.498 1101.33 Q200.018 1103.28 200.018 1106.63 Q200.018 1108.96 198.683 1110.58 Q197.348 1112.18 194.884 1112.8 Z\" fill=\"#000000\" fill-rule=\"evenodd\" fill-opacity=\"1\" /><path clip-path=\"url(#clip7500)\" d=\"M 0 0 M58.4392 957.831 L70.916 957.831 L70.916 961.628 L58.4392 961.628 L58.4392 957.831 Z\" fill=\"#000000\" fill-rule=\"evenodd\" fill-opacity=\"1\" /><path clip-path=\"url(#clip7500)\" d=\"M 0 0 M93.7399 968.78 L110.059 968.78 L110.059 972.716 L88.115 972.716 L88.115 968.78 Q90.777 966.026 95.3603 961.396 Q99.9668 956.743 101.147 955.401 Q103.393 952.878 104.272 951.142 Q105.175 949.382 105.175 947.693 Q105.175 944.938 103.231 943.202 Q101.309 941.466 98.2075 941.466 Q96.0084 941.466 93.5548 942.23 Q91.1242 942.994 88.3464 944.544 L88.3464 939.822 Q91.1705 938.688 93.6242 938.109 Q96.0779 937.531 98.1149 937.531 Q103.485 937.531 106.68 940.216 Q109.874 942.901 109.874 947.392 Q109.874 949.521 109.064 951.443 Q108.277 953.341 106.17 955.933 Q105.592 956.605 102.49 959.822 Q99.3881 963.017 93.7399 968.78 Z\" fill=\"#000000\" fill-rule=\"evenodd\" fill-opacity=\"1\" /><path clip-path=\"url(#clip7500)\" d=\"M 0 0 M115.129 966.836 L120.013 966.836 L120.013 972.716 L115.129 972.716 L115.129 966.836 Z\" fill=\"#000000\" fill-rule=\"evenodd\" fill-opacity=\"1\" /><path clip-path=\"url(#clip7500)\" d=\"M 0 0 M125.129 938.156 L143.485 938.156 L143.485 942.091 L129.411 942.091 L129.411 950.563 Q130.43 950.216 131.448 950.054 Q132.467 949.869 133.485 949.869 Q139.272 949.869 142.652 953.04 Q146.031 956.211 146.031 961.628 Q146.031 967.206 142.559 970.308 Q139.087 973.387 132.768 973.387 Q130.592 973.387 128.323 973.017 Q126.078 972.646 123.67 971.905 L123.67 967.206 Q125.754 968.341 127.976 968.896 Q130.198 969.452 132.675 969.452 Q136.68 969.452 139.017 967.345 Q141.355 965.239 141.355 961.628 Q141.355 958.017 139.017 955.91 Q136.68 953.804 132.675 953.804 Q130.8 953.804 128.925 954.22 Q127.073 954.637 125.129 955.517 L125.129 938.156 Z\" fill=\"#000000\" fill-rule=\"evenodd\" fill-opacity=\"1\" /><path clip-path=\"url(#clip7500)\" d=\"M 0 0 M150.869 942.16 L155.175 942.16 L155.175 977.345 L150.869 977.345 L150.869 942.16 Z\" fill=\"#000000\" fill-rule=\"evenodd\" fill-opacity=\"1\" /><path clip-path=\"url(#clip7500)\" d=\"M 0 0 M170.244 941.234 Q166.633 941.234 164.804 944.799 Q162.999 948.341 162.999 955.47 Q162.999 962.577 164.804 966.142 Q166.633 969.683 170.244 969.683 Q173.878 969.683 175.684 966.142 Q177.513 962.577 177.513 955.47 Q177.513 948.341 175.684 944.799 Q173.878 941.234 170.244 941.234 M170.244 937.531 Q176.054 937.531 179.11 942.137 Q182.189 946.72 182.189 955.47 Q182.189 964.197 179.11 968.804 Q176.054 973.387 170.244 973.387 Q164.434 973.387 161.355 968.804 Q158.3 964.197 158.3 955.47 Q158.3 946.72 161.355 942.137 Q164.434 937.531 170.244 937.531 Z\" fill=\"#000000\" fill-rule=\"evenodd\" fill-opacity=\"1\" /><path clip-path=\"url(#clip7500)\" d=\"M 0 0 M194.884 930.165 Q197.611 930.748 199.134 932.591 Q200.677 934.434 200.677 937.143 Q200.677 941.299 197.818 943.575 Q194.959 945.851 189.693 945.851 Q187.925 945.851 186.044 945.493 Q184.182 945.155 182.189 944.459 L182.189 940.791 Q183.768 941.713 185.649 942.183 Q187.53 942.653 189.58 942.653 Q193.153 942.653 195.015 941.243 Q196.896 939.832 196.896 937.143 Q196.896 934.66 195.147 933.268 Q193.417 931.858 190.313 931.858 L187.041 931.858 L187.041 928.736 L190.464 928.736 Q193.266 928.736 194.752 927.626 Q196.238 926.497 196.238 924.391 Q196.238 922.228 194.696 921.081 Q193.172 919.915 190.313 919.915 Q188.752 919.915 186.966 920.253 Q185.179 920.592 183.035 921.307 L183.035 917.921 Q185.198 917.319 187.079 917.018 Q188.978 916.717 190.652 916.717 Q194.978 916.717 197.498 918.692 Q200.018 920.648 200.018 923.996 Q200.018 926.328 198.683 927.946 Q197.348 929.544 194.884 930.165 Z\" fill=\"#000000\" fill-rule=\"evenodd\" fill-opacity=\"1\" /><path clip-path=\"url(#clip7500)\" d=\"M 0 0 M188.732 752.151 Q185.121 752.151 183.292 755.716 Q181.487 759.257 181.487 766.387 Q181.487 773.493 183.292 777.058 Q185.121 780.6 188.732 780.6 Q192.366 780.6 194.172 777.058 Q196.001 773.493 196.001 766.387 Q196.001 759.257 194.172 755.716 Q192.366 752.151 188.732 752.151 M188.732 748.447 Q194.542 748.447 197.598 753.054 Q200.677 757.637 200.677 766.387 Q200.677 775.114 197.598 779.72 Q194.542 784.303 188.732 784.303 Q182.922 784.303 179.843 779.72 Q176.788 775.114 176.788 766.387 Q176.788 757.637 179.843 753.054 Q182.922 748.447 188.732 748.447 Z\" fill=\"#000000\" fill-rule=\"evenodd\" fill-opacity=\"1\" /><path clip-path=\"url(#clip7500)\" d=\"M 0 0 M93.7399 603.509 L110.059 603.509 L110.059 607.444 L88.115 607.444 L88.115 603.509 Q90.777 600.754 95.3603 596.125 Q99.9668 591.472 101.147 590.129 Q103.393 587.606 104.272 585.87 Q105.175 584.111 105.175 582.421 Q105.175 579.666 103.231 577.93 Q101.309 576.194 98.2075 576.194 Q96.0084 576.194 93.5548 576.958 Q91.1242 577.722 88.3464 579.273 L88.3464 574.551 Q91.1705 573.416 93.6242 572.838 Q96.0779 572.259 98.1149 572.259 Q103.485 572.259 106.68 574.944 Q109.874 577.629 109.874 582.12 Q109.874 584.25 109.064 586.171 Q108.277 588.069 106.17 590.662 Q105.592 591.333 102.49 594.55 Q99.3881 597.745 93.7399 603.509 Z\" fill=\"#000000\" fill-rule=\"evenodd\" fill-opacity=\"1\" /><path clip-path=\"url(#clip7500)\" d=\"M 0 0 M115.129 601.564 L120.013 601.564 L120.013 607.444 L115.129 607.444 L115.129 601.564 Z\" fill=\"#000000\" fill-rule=\"evenodd\" fill-opacity=\"1\" /><path clip-path=\"url(#clip7500)\" d=\"M 0 0 M125.129 572.884 L143.485 572.884 L143.485 576.819 L129.411 576.819 L129.411 585.291 Q130.43 584.944 131.448 584.782 Q132.467 584.597 133.485 584.597 Q139.272 584.597 142.652 587.768 Q146.031 590.939 146.031 596.356 Q146.031 601.935 142.559 605.037 Q139.087 608.115 132.768 608.115 Q130.592 608.115 128.323 607.745 Q126.078 607.374 123.67 606.634 L123.67 601.935 Q125.754 603.069 127.976 603.625 Q130.198 604.18 132.675 604.18 Q136.68 604.18 139.017 602.074 Q141.355 599.967 141.355 596.356 Q141.355 592.745 139.017 590.638 Q136.68 588.532 132.675 588.532 Q130.8 588.532 128.925 588.949 Q127.073 589.365 125.129 590.245 L125.129 572.884 Z\" fill=\"#000000\" fill-rule=\"evenodd\" fill-opacity=\"1\" /><path clip-path=\"url(#clip7500)\" d=\"M 0 0 M150.869 576.889 L155.175 576.889 L155.175 612.074 L150.869 612.074 L150.869 576.889 Z\" fill=\"#000000\" fill-rule=\"evenodd\" fill-opacity=\"1\" /><path clip-path=\"url(#clip7500)\" d=\"M 0 0 M170.244 575.963 Q166.633 575.963 164.804 579.527 Q162.999 583.069 162.999 590.199 Q162.999 597.305 164.804 600.87 Q166.633 604.412 170.244 604.412 Q173.878 604.412 175.684 600.87 Q177.513 597.305 177.513 590.199 Q177.513 583.069 175.684 579.527 Q173.878 575.963 170.244 575.963 M170.244 572.259 Q176.054 572.259 179.11 576.865 Q182.189 581.449 182.189 590.199 Q182.189 598.925 179.11 603.532 Q176.054 608.115 170.244 608.115 Q164.434 608.115 161.355 603.532 Q158.3 598.925 158.3 590.199 Q158.3 581.449 161.355 576.865 Q164.434 572.259 170.244 572.259 Z\" fill=\"#000000\" fill-rule=\"evenodd\" fill-opacity=\"1\" /><path clip-path=\"url(#clip7500)\" d=\"M 0 0 M194.884 564.893 Q197.611 565.476 199.134 567.319 Q200.677 569.163 200.677 571.871 Q200.677 576.027 197.818 578.303 Q194.959 580.579 189.693 580.579 Q187.925 580.579 186.044 580.222 Q184.182 579.883 182.189 579.187 L182.189 575.52 Q183.768 576.441 185.649 576.911 Q187.53 577.382 189.58 577.382 Q193.153 577.382 195.015 575.971 Q196.896 574.56 196.896 571.871 Q196.896 569.388 195.147 567.997 Q193.417 566.586 190.313 566.586 L187.041 566.586 L187.041 563.464 L190.464 563.464 Q193.266 563.464 194.752 562.354 Q196.238 561.226 196.238 559.119 Q196.238 556.956 194.696 555.809 Q193.172 554.643 190.313 554.643 Q188.752 554.643 186.966 554.982 Q185.179 555.32 183.035 556.035 L183.035 552.649 Q185.198 552.048 187.079 551.747 Q188.978 551.446 190.652 551.446 Q194.978 551.446 197.498 553.421 Q200.018 555.377 200.018 558.724 Q200.018 561.056 198.683 562.674 Q197.348 564.273 194.884 564.893 Z\" fill=\"#000000\" fill-rule=\"evenodd\" fill-opacity=\"1\" /><path clip-path=\"url(#clip7500)\" d=\"M 0 0 M88.1613 390.248 L106.518 390.248 L106.518 394.183 L92.4436 394.183 L92.4436 402.655 Q93.4622 402.308 94.4807 402.146 Q95.4992 401.961 96.5177 401.961 Q102.305 401.961 105.684 405.132 Q109.064 408.304 109.064 413.72 Q109.064 419.299 105.592 422.401 Q102.12 425.479 95.8001 425.479 Q93.6242 425.479 91.3557 425.109 Q89.1103 424.739 86.7029 423.998 L86.7029 419.299 Q88.7863 420.433 91.0085 420.989 Q93.2307 421.544 95.7075 421.544 Q99.7121 421.544 102.05 419.438 Q104.388 417.331 104.388 413.72 Q104.388 410.109 102.05 408.003 Q99.7121 405.896 95.7075 405.896 Q93.8325 405.896 91.9575 406.313 Q90.1057 406.729 88.1613 407.609 L88.1613 390.248 Z\" fill=\"#000000\" fill-rule=\"evenodd\" fill-opacity=\"1\" /><path clip-path=\"url(#clip7500)\" d=\"M 0 0 M114.133 418.928 L119.018 418.928 L119.018 424.808 L114.133 424.808 L114.133 418.928 Z\" fill=\"#000000\" fill-rule=\"evenodd\" fill-opacity=\"1\" /><path clip-path=\"url(#clip7500)\" d=\"M 0 0 M134.087 393.327 Q130.476 393.327 128.647 396.892 Q126.842 400.433 126.842 407.563 Q126.842 414.669 128.647 418.234 Q130.476 421.776 134.087 421.776 Q137.721 421.776 139.527 418.234 Q141.355 414.669 141.355 407.563 Q141.355 400.433 139.527 396.892 Q137.721 393.327 134.087 393.327 M134.087 389.623 Q139.897 389.623 142.953 394.23 Q146.031 398.813 146.031 407.563 Q146.031 416.29 142.953 420.896 Q139.897 425.479 134.087 425.479 Q128.277 425.479 125.198 420.896 Q122.143 416.29 122.143 407.563 Q122.143 398.813 125.198 394.23 Q128.277 389.623 134.087 389.623 Z\" fill=\"#000000\" fill-rule=\"evenodd\" fill-opacity=\"1\" /><path clip-path=\"url(#clip7500)\" d=\"M 0 0 M150.869 394.253 L155.175 394.253 L155.175 429.438 L150.869 429.438 L150.869 394.253 Z\" fill=\"#000000\" fill-rule=\"evenodd\" fill-opacity=\"1\" /><path clip-path=\"url(#clip7500)\" d=\"M 0 0 M170.244 393.327 Q166.633 393.327 164.804 396.892 Q162.999 400.433 162.999 407.563 Q162.999 414.669 164.804 418.234 Q166.633 421.776 170.244 421.776 Q173.878 421.776 175.684 418.234 Q177.513 414.669 177.513 407.563 Q177.513 400.433 175.684 396.892 Q173.878 393.327 170.244 393.327 M170.244 389.623 Q176.054 389.623 179.11 394.23 Q182.189 398.813 182.189 407.563 Q182.189 416.29 179.11 420.896 Q176.054 425.479 170.244 425.479 Q164.434 425.479 161.355 420.896 Q158.3 416.29 158.3 407.563 Q158.3 398.813 161.355 394.23 Q164.434 389.623 170.244 389.623 Z\" fill=\"#000000\" fill-rule=\"evenodd\" fill-opacity=\"1\" /><path clip-path=\"url(#clip7500)\" d=\"M 0 0 M194.884 382.257 Q197.611 382.84 199.134 384.684 Q200.677 386.527 200.677 389.235 Q200.677 393.392 197.818 395.667 Q194.959 397.943 189.693 397.943 Q187.925 397.943 186.044 397.586 Q184.182 397.247 182.189 396.551 L182.189 392.884 Q183.768 393.805 185.649 394.276 Q187.53 394.746 189.58 394.746 Q193.153 394.746 195.015 393.335 Q196.896 391.925 196.896 389.235 Q196.896 386.752 195.147 385.361 Q193.417 383.95 190.313 383.95 L187.041 383.95 L187.041 380.828 L190.464 380.828 Q193.266 380.828 194.752 379.718 Q196.238 378.59 196.238 376.483 Q196.238 374.321 194.696 373.173 Q193.172 372.007 190.313 372.007 Q188.752 372.007 186.966 372.346 Q185.179 372.684 183.035 373.399 L183.035 370.014 Q185.198 369.412 187.079 369.111 Q188.978 368.81 190.652 368.81 Q194.978 368.81 197.498 370.785 Q200.018 372.741 200.018 376.088 Q200.018 378.421 198.683 380.038 Q197.348 381.637 194.884 382.257 Z\" fill=\"#000000\" fill-rule=\"evenodd\" fill-opacity=\"1\" /><path clip-path=\"url(#clip7500)\" d=\"M 0 0 M87.8372 207.612 L110.059 207.612 L110.059 209.603 L97.5131 242.172 L92.6288 242.172 L104.434 211.547 L87.8372 211.547 L87.8372 207.612 Z\" fill=\"#000000\" fill-rule=\"evenodd\" fill-opacity=\"1\" /><path clip-path=\"url(#clip7500)\" d=\"M 0 0 M115.129 236.293 L120.013 236.293 L120.013 242.172 L115.129 242.172 L115.129 236.293 Z\" fill=\"#000000\" fill-rule=\"evenodd\" fill-opacity=\"1\" /><path clip-path=\"url(#clip7500)\" d=\"M 0 0 M125.129 207.612 L143.485 207.612 L143.485 211.547 L129.411 211.547 L129.411 220.02 Q130.43 219.672 131.448 219.51 Q132.467 219.325 133.485 219.325 Q139.272 219.325 142.652 222.496 Q146.031 225.668 146.031 231.084 Q146.031 236.663 142.559 239.765 Q139.087 242.844 132.768 242.844 Q130.592 242.844 128.323 242.473 Q126.078 242.103 123.67 241.362 L123.67 236.663 Q125.754 237.797 127.976 238.353 Q130.198 238.908 132.675 238.908 Q136.68 238.908 139.017 236.802 Q141.355 234.695 141.355 231.084 Q141.355 227.473 139.017 225.367 Q136.68 223.26 132.675 223.26 Q130.8 223.26 128.925 223.677 Q127.073 224.094 125.129 224.973 L125.129 207.612 Z\" fill=\"#000000\" fill-rule=\"evenodd\" fill-opacity=\"1\" /><path clip-path=\"url(#clip7500)\" d=\"M 0 0 M150.869 211.617 L155.175 211.617 L155.175 246.802 L150.869 246.802 L150.869 211.617 Z\" fill=\"#000000\" fill-rule=\"evenodd\" fill-opacity=\"1\" /><path clip-path=\"url(#clip7500)\" d=\"M 0 0 M170.244 210.691 Q166.633 210.691 164.804 214.256 Q162.999 217.797 162.999 224.927 Q162.999 232.033 164.804 235.598 Q166.633 239.14 170.244 239.14 Q173.878 239.14 175.684 235.598 Q177.513 232.033 177.513 224.927 Q177.513 217.797 175.684 214.256 Q173.878 210.691 170.244 210.691 M170.244 206.987 Q176.054 206.987 179.11 211.594 Q182.189 216.177 182.189 224.927 Q182.189 233.654 179.11 238.26 Q176.054 242.844 170.244 242.844 Q164.434 242.844 161.355 238.26 Q158.3 233.654 158.3 224.927 Q158.3 216.177 161.355 211.594 Q164.434 206.987 170.244 206.987 Z\" fill=\"#000000\" fill-rule=\"evenodd\" fill-opacity=\"1\" /><path clip-path=\"url(#clip7500)\" d=\"M 0 0 M194.884 199.622 Q197.611 200.205 199.134 202.048 Q200.677 203.891 200.677 206.599 Q200.677 210.756 197.818 213.032 Q194.959 215.307 189.693 215.307 Q187.925 215.307 186.044 214.95 Q184.182 214.611 182.189 213.915 L182.189 210.248 Q183.768 211.17 185.649 211.64 Q187.53 212.11 189.58 212.11 Q193.153 212.11 195.015 210.699 Q196.896 209.289 196.896 206.599 Q196.896 204.117 195.147 202.725 Q193.417 201.314 190.313 201.314 L187.041 201.314 L187.041 198.192 L190.464 198.192 Q193.266 198.192 194.752 197.083 Q196.238 195.954 196.238 193.848 Q196.238 191.685 194.696 190.537 Q193.172 189.371 190.313 189.371 Q188.752 189.371 186.966 189.71 Q185.179 190.048 183.035 190.763 L183.035 187.378 Q185.198 186.776 187.079 186.475 Q188.978 186.174 190.652 186.174 Q194.978 186.174 197.498 188.149 Q200.018 190.105 200.018 193.453 Q200.018 195.785 198.683 197.402 Q197.348 199.001 194.884 199.622 Z\" fill=\"#000000\" fill-rule=\"evenodd\" fill-opacity=\"1\" /><polyline clip-path=\"url(#clip7502)\" style=\"stroke:#009af9; stroke-width:4; stroke-opacity:1; fill:none\" points=\"\n",
       "  284.905,87.9763 318.366,88.7666 351.826,89.7246 385.286,90.8707 418.747,92.2285 452.207,93.8259 485.667,95.6961 519.128,97.8784 552.588,100.42 586.049,103.378 \n",
       "  619.509,106.821 652.969,110.833 686.43,115.516 719.89,120.997 753.35,127.432 786.811,135.017 820.271,143.995 853.731,154.676 887.192,167.445 920.652,182.795 \n",
       "  954.113,201.342 987.573,223.86 1021.03,251.3 1054.49,284.803 1087.95,325.67 1121.41,375.259 1154.87,434.763 1188.34,504.82 1221.8,585.002 1255.26,673.365 \n",
       "  1288.72,766.352 1322.18,859.346 1355.64,947.727 1389.1,1027.94 1422.56,1098.03 1456.02,1157.57 1489.48,1207.2 1522.94,1248.11 1556.4,1281.65 1589.86,1309.13 \n",
       "  1623.32,1331.68 1656.78,1350.26 1690.24,1365.65 1723.7,1378.46 1757.16,1389.17 1790.62,1398.18 1824.08,1405.8 1857.54,1412.27 1891,1417.79 1924.46,1422.5 \n",
       "  1957.92,1426.55 1991.38,1430.02 2024.84,1433.02 2058.3,1435.59 2091.77,1437.8 2125.23,1439.71 2158.69,1441.34 2192.15,1442.73 2225.61,1443.9 2259.07,1444.89 \n",
       "  2292.53,1445.72 \n",
       "  \"/>\n",
       "<path clip-path=\"url(#clip7500)\" d=\"\n",
       "M1989.74 251.724 L2280.76 251.724 L2280.76 130.764 L1989.74 130.764  Z\n",
       "  \" fill=\"#ffffff\" fill-rule=\"evenodd\" fill-opacity=\"1\"/>\n",
       "<polyline clip-path=\"url(#clip7500)\" style=\"stroke:#000000; stroke-width:4; stroke-opacity:1; fill:none\" points=\"\n",
       "  1989.74,251.724 2280.76,251.724 2280.76,130.764 1989.74,130.764 1989.74,251.724 \n",
       "  \"/>\n",
       "<polyline clip-path=\"url(#clip7500)\" style=\"stroke:#009af9; stroke-width:4; stroke-opacity:1; fill:none\" points=\"\n",
       "  2013.74,191.244 2157.74,191.244 \n",
       "  \"/>\n",
       "<path clip-path=\"url(#clip7500)\" d=\"M 0 0 M2195.58 210.931 Q2193.77 215.561 2192.06 216.973 Q2190.35 218.385 2187.48 218.385 L2184.08 218.385 L2184.08 214.82 L2186.58 214.82 Q2188.33 214.82 2189.31 213.987 Q2190.28 213.154 2191.46 210.052 L2192.22 208.107 L2181.74 182.598 L2186.25 182.598 L2194.35 202.876 L2202.46 182.598 L2206.97 182.598 L2195.58 210.931 Z\" fill=\"#000000\" fill-rule=\"evenodd\" fill-opacity=\"1\" /><path clip-path=\"url(#clip7500)\" d=\"M 0 0 M2212.85 204.589 L2220.49 204.589 L2220.49 178.223 L2212.18 179.89 L2212.18 175.631 L2220.44 173.964 L2225.12 173.964 L2225.12 204.589 L2232.76 204.589 L2232.76 208.524 L2212.85 208.524 L2212.85 204.589 Z\" fill=\"#000000\" fill-rule=\"evenodd\" fill-opacity=\"1\" /></svg>\n"
      ]
     },
     "execution_count": 48,
     "metadata": {},
     "output_type": "execute_result"
    },
    {
     "name": "stderr",
     "output_type": "stream",
     "text": [
      "GKS: character ignored due to unicode error\n",
      "GKS: character ignored due to unicode error\n",
      "GKS: character ignored due to unicode error\n",
      "GKS: character ignored due to unicode error\n",
      "GKS: character ignored due to unicode error\n",
      "GKS: character ignored due to unicode error\n",
      "GKS: character ignored due to unicode error\n",
      "GKS: character ignored due to unicode error\n",
      "GKS: character ignored due to unicode error\n",
      "GKS: character ignored due to unicode error\n",
      "GKS: character ignored due to unicode error\n",
      "GKS: character ignored due to unicode error\n",
      "GKS: character ignored due to unicode error\n",
      "GKS: character ignored due to unicode error\n",
      "GKS: character ignored due to unicode error\n",
      "GKS: character ignored due to unicode error\n",
      "GKS: character ignored due to unicode error\n",
      "GKS: character ignored due to unicode error\n",
      "GKS: character ignored due to unicode error\n",
      "GKS: character ignored due to unicode error\n",
      "GKS: character ignored due to unicode error\n",
      "GKS: character ignored due to unicode error\n",
      "GKS: character ignored due to unicode error\n",
      "GKS: character ignored due to unicode error\n",
      "GKS: character ignored due to unicode error\n",
      "GKS: character ignored due to unicode error\n",
      "GKS: character ignored due to unicode error\n",
      "GKS: character ignored due to unicode error\n",
      "GKS: character ignored due to unicode error\n",
      "GKS: character ignored due to unicode error\n",
      "GKS: character ignored due to unicode error\n",
      "GKS: character ignored due to unicode error\n",
      "GKS: character ignored due to unicode error\n",
      "GKS: character ignored due to unicode error\n",
      "GKS: character ignored due to unicode error\n",
      "GKS: character ignored due to unicode error\n",
      "GKS: character ignored due to unicode error\n",
      "GKS: character ignored due to unicode error\n",
      "GKS: character ignored due to unicode error\n",
      "GKS: character ignored due to unicode error\n",
      "GKS: character ignored due to unicode error\n",
      "GKS: character ignored due to unicode error\n"
     ]
    }
   ],
   "source": [
    "plot(thist,yhist)"
   ]
  },
  {
   "cell_type": "code",
   "execution_count": 49,
   "metadata": {},
   "outputs": [
    {
     "data": {
      "text/plain": [
       "lsobj (generic function with 1 method)"
      ]
     },
     "execution_count": 49,
     "metadata": {},
     "output_type": "execute_result"
    }
   ],
   "source": [
    "function lsobj(x)\n",
    "    Qinv = Array(Diagonal([1e6*ones(3); 1e8*ones(3)]))\n",
    "    Rinv = 1/(3e-5*3e-5)\n",
    "    cost = 0.0\n",
    "    xhist = reshape(x,6,:)\n",
    "    for k = 1:(size(xhist,2)-1)\n",
    "        ex = (xhist[:,k+1]-f_d(xhist[:,k]))\n",
    "        cost = cost + ex'*Qinv*ex\n",
    "    end\n",
    "    for k = 1:(size(xhist,2))\n",
    "        ey = (yhist[k]-g(xhist[:,k],thist[k]))\n",
    "        cost = cost + ey'*Rinv*ey\n",
    "    end\n",
    "    return cost\n",
    "end"
   ]
  },
  {
   "cell_type": "code",
   "execution_count": 33,
   "metadata": {},
   "outputs": [
    {
     "data": {
      "text/plain": [
       "hessobj! (generic function with 1 method)"
      ]
     },
     "execution_count": 33,
     "metadata": {},
     "output_type": "execute_result"
    }
   ],
   "source": [
    "function gradobj!(g,x)\n",
    "    ForwardDiff.gradient!(g,lsobj,x)\n",
    "end\n",
    "\n",
    "function hessobj!(H,x)\n",
    "    ForwardDiff.hessian!(H,lsobj,x)\n",
    "end"
   ]
  },
  {
   "cell_type": "code",
   "execution_count": null,
   "metadata": {},
   "outputs": [],
   "source": [
    "#This is really slow with more than a couple dozen measurements\n",
    "#result = optimize(lsobj, gradobj!, hessobj!, xhist[:]+.01*randn(length(xhist[:])), Newton())"
   ]
  },
  {
   "cell_type": "code",
   "execution_count": 75,
   "metadata": {},
   "outputs": [],
   "source": [
    "#error = xhist - reshape(result.minimizer,6,:)"
   ]
  },
  {
   "cell_type": "code",
   "execution_count": null,
   "metadata": {},
   "outputs": [],
   "source": []
  }
 ],
 "metadata": {
  "kernelspec": {
   "display_name": "Julia 1.5.3",
   "language": "julia",
   "name": "julia-1.5"
  },
  "language_info": {
   "file_extension": ".jl",
   "mimetype": "application/julia",
   "name": "julia",
   "version": "1.5.3"
  }
 },
 "nbformat": 4,
 "nbformat_minor": 4
}
