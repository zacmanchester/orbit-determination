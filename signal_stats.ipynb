{
 "cells": [
  {
   "cell_type": "code",
   "execution_count": 101,
   "metadata": {},
   "outputs": [
    {
     "data": {
      "text/plain": [
       "Plots.PlotlyJSBackend()"
      ]
     },
     "execution_count": 101,
     "metadata": {},
     "output_type": "execute_result"
    }
   ],
   "source": [
    "using LinearAlgebra\n",
    "using DSP\n",
    "using Plots\n",
    "using Statistics\n",
    "plotlyjs()"
   ]
  },
  {
   "cell_type": "code",
   "execution_count": 6,
   "metadata": {},
   "outputs": [
    {
     "data": {
      "text/plain": [
       "chirp (generic function with 2 methods)"
      ]
     },
     "execution_count": 6,
     "metadata": {},
     "output_type": "execute_result"
    }
   ],
   "source": [
    "function chirp(f0,f1,N)\n",
    "    f = LinRange(f0,f1,N)\n",
    "    phi = (1.0/N).*cumsum(f)\n",
    "    phi = phi.-phi[1]\n",
    "    c = sin.((2*pi).*phi)\n",
    "end"
   ]
  },
  {
   "cell_type": "code",
   "execution_count": 235,
   "metadata": {},
   "outputs": [
    {
     "data": {
      "text/plain": [
       "1250000"
      ]
     },
     "execution_count": 235,
     "metadata": {},
     "output_type": "execute_result"
    }
   ],
   "source": [
    "samp_rate = 1250e3\n",
    "c = chirp(0.0,62.5e3,Int(samp_rate))\n",
    "xc = xcorr(c,c)\n",
    "t0 = findmax(xc)[2]"
   ]
  },
  {
   "cell_type": "code",
   "execution_count": 236,
   "metadata": {},
   "outputs": [
    {
     "data": {
      "text/plain": [
       "-1"
      ]
     },
     "execution_count": 236,
     "metadata": {},
     "output_type": "execute_result"
    }
   ],
   "source": [
    "n1 = randn(length(c))\n",
    "n1 = sqrt(100).*n1./sqrt((n1'*n1)/(c'*c))\n",
    "n2 = randn(length(c))\n",
    "n2 = sqrt(100).*n2./sqrt((n2'*n2)/(c'*c))\n",
    "Pc = c'*c\n",
    "Pn = n1'*n1\n",
    "10*log(10,Pc/Pn) #S/N of -20dB seems plausible for 2MHz bandwidth from link budget\n",
    "s1 = c+n1\n",
    "s2 = c+n2\n",
    "xs = xcorr(s1,s2)\n",
    "findmax(xs)[2]-t0"
   ]
  },
  {
   "cell_type": "code",
   "execution_count": 237,
   "metadata": {},
   "outputs": [
    {
     "data": {
      "text/plain": [
       "1000-element Array{Float64,1}:\n",
       " -1.0\n",
       "  1.0\n",
       "  1.0\n",
       " -1.0\n",
       " -1.0\n",
       " -2.0\n",
       "  0.0\n",
       "  0.0\n",
       "  0.0\n",
       "  0.0\n",
       " -1.0\n",
       "  0.0\n",
       "  0.0\n",
       "  ⋮\n",
       " -2.0\n",
       " -1.0\n",
       " -1.0\n",
       "  1.0\n",
       "  1.0\n",
       "  0.0\n",
       "  0.0\n",
       " -1.0\n",
       "  1.0\n",
       "  2.0\n",
       "  0.0\n",
       " -1.0"
      ]
     },
     "execution_count": 237,
     "metadata": {},
     "output_type": "execute_result"
    }
   ],
   "source": [
    "SNR_DB = 17\n",
    "SNR = 10.0^(SNR_DB/10.0)\n",
    "Nsamp = 1000\n",
    "ind = zeros(Nsamp)\n",
    "for k = 1:Nsamp\n",
    "    n1 = randn(length(c))\n",
    "    n1 = sqrt(SNR).*n1./sqrt((n1'*n1)/(c'*c))\n",
    "    n2 = randn(length(c))\n",
    "    n2 = sqrt(SNR).*n2./sqrt((n2'*n2)/(c'*c))\n",
    "    ind[k] = findmax(xcorr(c+n1, c+n2))[2]\n",
    "end\n",
    "dt = ind.-t0"
   ]
  },
  {
   "cell_type": "code",
   "execution_count": 238,
   "metadata": {},
   "outputs": [
    {
     "data": {
      "text/plain": [
       "-0.009"
      ]
     },
     "execution_count": 238,
     "metadata": {},
     "output_type": "execute_result"
    }
   ],
   "source": [
    "mean(dt)"
   ]
  },
  {
   "cell_type": "code",
   "execution_count": 239,
   "metadata": {},
   "outputs": [
    {
     "data": {
      "text/plain": [
       "0.9548983353377634"
      ]
     },
     "execution_count": 239,
     "metadata": {},
     "output_type": "execute_result"
    }
   ],
   "source": [
    "σ = std(dt)"
   ]
  },
  {
   "cell_type": "code",
   "execution_count": 240,
   "metadata": {},
   "outputs": [
    {
     "data": {
      "text/plain": [
       "7.639186682702107e-7"
      ]
     },
     "execution_count": 240,
     "metadata": {},
     "output_type": "execute_result"
    }
   ],
   "source": [
    "σt = σ/samp_rate"
   ]
  },
  {
   "cell_type": "code",
   "execution_count": 241,
   "metadata": {},
   "outputs": [
    {
     "data": {
      "text/plain": [
       "229.1756004810632"
      ]
     },
     "execution_count": 241,
     "metadata": {},
     "output_type": "execute_result"
    }
   ],
   "source": [
    "σd = 3e8*σt"
   ]
  },
  {
   "cell_type": "code",
   "execution_count": null,
   "metadata": {},
   "outputs": [],
   "source": [
    "#Results (1-σ distance/timing error):\n",
    "#500 KHz -> 62 meters (2.1e-7 sec)\n",
    "#625 KHz -> 170 meters (5.67e-7 sec)\n",
    "#1 MHz -> 216 meters (7.21e-7 sec)\n",
    "#1.25 MHz -> 226 meters (7.56e-7 sec)\n",
    "#1.5 MHz -> 229 meters (7.66e-7 sec)\n",
    "#2 MHz -> 237 meters (7.91e-7 sec)\n",
    "#4 MHz -> 263 meters (8.79e-7 sec)"
   ]
  }
 ],
 "metadata": {
  "kernelspec": {
   "display_name": "Julia 1.5.3",
   "language": "julia",
   "name": "julia-1.5"
  },
  "language_info": {
   "file_extension": ".jl",
   "mimetype": "application/julia",
   "name": "julia",
   "version": "1.5.3"
  }
 },
 "nbformat": 4,
 "nbformat_minor": 4
}
